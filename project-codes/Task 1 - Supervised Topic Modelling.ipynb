{
 "cells": [
  {
   "cell_type": "code",
   "execution_count": 49,
   "metadata": {},
   "outputs": [],
   "source": [
    "import pandas as pd\n",
    "import re\n",
    "import matplotlib.pyplot as plt\n",
    "import numpy as np\n",
    "from nltk import FreqDist\n",
    "import seaborn as sns\n",
    "pd.set_option(\"display.max_colwidth\", 500)"
   ]
  },
  {
   "cell_type": "markdown",
   "metadata": {},
   "source": [
    "# Reading in Data"
   ]
  },
  {
   "cell_type": "code",
   "execution_count": 50,
   "metadata": {},
   "outputs": [],
   "source": [
    "df = pd.read_csv('C:/Users/wongzn/Desktop/final/df.csv')"
   ]
  },
  {
   "cell_type": "code",
   "execution_count": 51,
   "metadata": {},
   "outputs": [
    {
     "data": {
      "text/html": [
       "<div>\n",
       "<style scoped>\n",
       "    .dataframe tbody tr th:only-of-type {\n",
       "        vertical-align: middle;\n",
       "    }\n",
       "\n",
       "    .dataframe tbody tr th {\n",
       "        vertical-align: top;\n",
       "    }\n",
       "\n",
       "    .dataframe thead th {\n",
       "        text-align: right;\n",
       "    }\n",
       "</style>\n",
       "<table border=\"1\" class=\"dataframe\">\n",
       "  <thead>\n",
       "    <tr style=\"text-align: right;\">\n",
       "      <th></th>\n",
       "      <th>Article Content</th>\n",
       "      <th>Article Link</th>\n",
       "      <th>Article Title</th>\n",
       "      <th>Topics</th>\n",
       "    </tr>\n",
       "  </thead>\n",
       "  <tbody>\n",
       "    <tr>\n",
       "      <th>0</th>\n",
       "      <td>SINGAPORE - A 21-year-old Malaysian suspect was arrested at the junction of Shenton Way and Maxwell Road last Thursday (Aug 1) after he allegedly disposed of a plastic bag containing 336g of Ice at a carpark in the vicinity of Orchard Towers. Officers from the Central Narcotics Bureau (CNB) had spotted him hopping onto his motorcycle in the carpark to make a hasty exit. They also recovered the plastic bag which contained 336g of Ice, valued at $33,000. This amount can feed the addiction of a...</td>\n",
       "      <td>https://www.straitstimes.com/singapore/suspected-drug-offender-arrested-at-shenton-way-junction-after-attempting-hasty-getaway-on</td>\n",
       "      <td>Malaysian drug suspect arrested at Shenton Way junction after attempting hasty getaway on motorbike</td>\n",
       "      <td>CENTRAL NARCOTICS BUREAU, DRUG OFFENCES</td>\n",
       "    </tr>\n",
       "    <tr>\n",
       "      <th>1</th>\n",
       "      <td>SINGAPORE - When entering a pool of water, a person who does not know how to swim might not know to breathe in before entering, and to exhale slightly while submerged. As a result, it is possible he might inhale water while submerged. Forensic pathologist George Paul was pointing this out as he testified on Friday (June 14) in the ongoing trial of two commanders of the Singapore Civil Defence Force (SCDF) linked with the drowning of full-time national serviceman Corporal Kok Yuen Chin, which...</td>\n",
       "      <td>https://www.straitstimes.com/singapore/courts-crime/scdf-ragging-incident-non-swimmers-might-not-know-how-to-react-when-entering</td>\n",
       "      <td>SCDF ragging death: Being submerged in dark, confined well could be dangerous even for a swimmer, says expert</td>\n",
       "      <td>SCDF, COURT TRIALS</td>\n",
       "    </tr>\n",
       "    <tr>\n",
       "      <th>2</th>\n",
       "      <td>SINGAPORE – The Republic should leverage on technology such as virtual simulation systems to better integrate people with special needs, including students, into society, said President Halimah Yacob. Speaking to reporters during a visit on Thursday (May 23) to Metta School, which caters to students from age 7 to 21 who have mild intellectual disability and autism, she said this should be done as part of the country’s Smart Nation push, which is a national effort to support better living usi...</td>\n",
       "      <td>https://www.straitstimes.com/singapore/education/use-technology-to-help-special-needs-students-integrate-as-part-of-smart-nation</td>\n",
       "      <td>Use technology to help people with special needs integrate as part of Smart Nation push: President Halimah</td>\n",
       "      <td>SPECIAL NEEDS/SPECIAL EDUCATION, HALIMAH YACOB, SPECIAL EDUCATION SCHOOL, SMART CITIES</td>\n",
       "    </tr>\n",
       "  </tbody>\n",
       "</table>\n",
       "</div>"
      ],
      "text/plain": [
       "                                                                                                                                                                                                                                                                                                                                                                                                                                                                                                       Article Content  \\\n",
       "0  SINGAPORE - A 21-year-old Malaysian suspect was arrested at the junction of Shenton Way and Maxwell Road last Thursday (Aug 1) after he allegedly disposed of a plastic bag containing 336g of Ice at a carpark in the vicinity of Orchard Towers. Officers from the Central Narcotics Bureau (CNB) had spotted him hopping onto his motorcycle in the carpark to make a hasty exit. They also recovered the plastic bag which contained 336g of Ice, valued at $33,000. This amount can feed the addiction of a...   \n",
       "1  SINGAPORE - When entering a pool of water, a person who does not know how to swim might not know to breathe in before entering, and to exhale slightly while submerged. As a result, it is possible he might inhale water while submerged. Forensic pathologist George Paul was pointing this out as he testified on Friday (June 14) in the ongoing trial of two commanders of the Singapore Civil Defence Force (SCDF) linked with the drowning of full-time national serviceman Corporal Kok Yuen Chin, which...   \n",
       "2  SINGAPORE – The Republic should leverage on technology such as virtual simulation systems to better integrate people with special needs, including students, into society, said President Halimah Yacob. Speaking to reporters during a visit on Thursday (May 23) to Metta School, which caters to students from age 7 to 21 who have mild intellectual disability and autism, she said this should be done as part of the country’s Smart Nation push, which is a national effort to support better living usi...   \n",
       "\n",
       "                                                                                                                        Article Link  \\\n",
       "0  https://www.straitstimes.com/singapore/suspected-drug-offender-arrested-at-shenton-way-junction-after-attempting-hasty-getaway-on   \n",
       "1   https://www.straitstimes.com/singapore/courts-crime/scdf-ragging-incident-non-swimmers-might-not-know-how-to-react-when-entering   \n",
       "2   https://www.straitstimes.com/singapore/education/use-technology-to-help-special-needs-students-integrate-as-part-of-smart-nation   \n",
       "\n",
       "                                                                                                    Article Title  \\\n",
       "0             Malaysian drug suspect arrested at Shenton Way junction after attempting hasty getaway on motorbike   \n",
       "1   SCDF ragging death: Being submerged in dark, confined well could be dangerous even for a swimmer, says expert   \n",
       "2      Use technology to help people with special needs integrate as part of Smart Nation push: President Halimah   \n",
       "\n",
       "                                                                                   Topics  \n",
       "0                                                 CENTRAL NARCOTICS BUREAU, DRUG OFFENCES  \n",
       "1                                                                      SCDF, COURT TRIALS  \n",
       "2  SPECIAL NEEDS/SPECIAL EDUCATION, HALIMAH YACOB, SPECIAL EDUCATION SCHOOL, SMART CITIES  "
      ]
     },
     "execution_count": 51,
     "metadata": {},
     "output_type": "execute_result"
    }
   ],
   "source": [
    "df.head(3)"
   ]
  },
  {
   "cell_type": "markdown",
   "metadata": {},
   "source": [
    "# Splitting and Cleaning of Article Topics"
   ]
  },
  {
   "cell_type": "code",
   "execution_count": 4,
   "metadata": {},
   "outputs": [],
   "source": [
    "df_topics = df.Topics.str.split(', ', expand=True)"
   ]
  },
  {
   "cell_type": "code",
   "execution_count": 5,
   "metadata": {
    "scrolled": true
   },
   "outputs": [],
   "source": [
    "df_topics = df_topics.rename(columns={0:\"Topic 1\",1:\"Topic 2\",2:\"Topic 3\",3:\"Topic 4\",4:\"Topic 5\",5:\"Topic 6\",6:\"Topic 7\",7:\"Topic 8\"})"
   ]
  },
  {
   "cell_type": "code",
   "execution_count": 6,
   "metadata": {},
   "outputs": [],
   "source": [
    "df = pd.concat([df[['Article Title','Article Content']],df_topics[['Topic 1','Topic 2']]], axis=1)"
   ]
  },
  {
   "cell_type": "code",
   "execution_count": 7,
   "metadata": {},
   "outputs": [],
   "source": [
    "df['Topic 1'] = df['Topic 1'].str.upper()\n",
    "df['Topic 2'] = df['Topic 2'].str.upper()"
   ]
  },
  {
   "cell_type": "code",
   "execution_count": 8,
   "metadata": {},
   "outputs": [],
   "source": [
    "#Getting Topic Frequency\n",
    "freq_df = df_topics.melt()\n",
    "freq_df= pd.DataFrame({'Frequency':freq_df['value'].value_counts()})\n",
    "freq_df = freq_df.rename_axis('Topics').reset_index()"
   ]
  },
  {
   "cell_type": "code",
   "execution_count": 9,
   "metadata": {
    "scrolled": true
   },
   "outputs": [
    {
     "data": {
      "image/png": "[encoded data removed]",
      "text/plain": [
       "<Figure size 1440x432 with 1 Axes>"
      ]
     },
     "metadata": {
      "needs_background": "light"
     },
     "output_type": "display_data"
    }
   ],
   "source": [
    "plt.figure(figsize=(20,6))\n",
    "ax=sns.barplot(data=freq_df[:20],x=\"Topics\",y=\"Frequency\")\n",
    "ax.set_xticklabels(ax.get_xticklabels(), rotation=90)\n",
    "plt.show()"
   ]
  },
  {
   "cell_type": "code",
   "execution_count": 10,
   "metadata": {},
   "outputs": [],
   "source": [
    "#Grouping Topics\n",
    "df[['Topic 1','Topic 2']] = df[['Topic 1','Topic 2']].replace(regex=[r'\\bUN\\b','INTERPOL','^.*ASEAN.*$','^.*SHANGRI-LA DIALOGUE.*$','^.*HONG KONG.*$','^.*HK.*$','^.*KOREA.*$','^.*ZIMBABWE.*$','^.*ASIA-PACIFIC.*$','^.*AUSTRALIA.*$','^.*THAILAND.*$','^.*OBAMA.*$','^.*BREXIT.*$','^.*BELT AND ROAD.*$','^.*MALAYSIA.*$','^.*TAIWAN.*$','^.*KAZAKHSTAN.*$','^.*RIOT.*$','^.*INDIA.*$','^.*INDO.*$','^.*NEW ZEALAND.*$','^.*BOMB.*$','^.*BRITAIN.*$','^.*BRUNEI.*$','^.*BUSAN.*$','^.*PHILIPPINES.*$','^.*TERRORI.*$','^.*SAUDI.*$','^.*CAMBODIA.*$','^.*PAHANG.*$','^.*CHINA.*$','^.*VIETNAM.*$','^.*DENMARK.*$','^.*PROTEST.*$',r'\\bWHO\\b','^.*FRANCE.*$',r'\\bEU\\b','^.*ISIS.*$','^.*GREECE.*$',r'\\bUS.*$','^.*JAPAN.*$','^.*JOHOR.*$','^.*G-.*$','^.*RUSSIA.*$','^.*WORLD TRADE.*$','TARIFFS','SCOTT MORRISON','^.*ARMENIA.*$','MYANMAR','^.*WAR.*$','^.*TURKMENISTAN.*$','^.*GERMANY.*$','OECD','^.*GLOBAL AFFAIR.*$','^.*TRIPARTISM.*$','^.*POLICTIC.*$'],value='GLOBAL POLITICS AND AFFAIRS')\n",
    "df[['Topic 1','Topic 2']] = df[['Topic 1','Topic 2']].replace(regex=['^.*HARI RAYA.*$','^.*DEEPAVALI.*$','^.*FESTIVAL.*$','^.*CHURCH.*$','^.*BUDDHISM.*$','^.*ISLAM.*$','^.*MOSQUE.*$','^.*HINDU.*$','^.*TEMPLE.*$','^.*RACIAL.*$','^.*HARMONY.*$','^.*RACE.*$','^.*RELIGIO.*$','^.*CULTUR.*$','INSTITUTE OF POLICY STUDIES'],value='RACE AND RELIGION')\n",
    "df[['Topic 1','Topic 2']] = df[['Topic 1','Topic 2']].replace(regex=['^.*ACCIDENT.*$','DROWNING','^.*FIRE.*$'],value='ACCIDENTS')\n",
    "df[['Topic 1','Topic 2']] = df[['Topic 1','Topic 2']].replace(regex=['^.*CHARIT.*$','^.*VOLUNTEER.*$','^.*DONAT.*$','^.*KINDNESS.*$','^.*RED CROSS.*$','^.*PHILANTHROPY.*$'], value='CHARITY AND DONATION')\n",
    "df[['Topic 1','Topic 2']] = df[['Topic 1','Topic 2']].replace(regex=['^.*RECYC.*$',r'\\bPSI\\b','^.*HAZE.*$','^.*ENVIRONMENT.*$','^.*CLIMATE.*$','^.*POLLUT.*$','^.*OIL SPILL.*$','^.*ELECTRICITY AND POWER.*$','^.*FLOOD.*$','^.*ENERGY.*$','^.*RENEWABLE.*$','^.*FOREST FIRE.*$','^.*PLASTIC.*$','^.*WASTE.*$','^.*WEATHER.*$','^.*WATER.*$','^.*CONSERVATION.*$','^.*WILDLIFE.*$','^.*RESERVES.*$','^.*TYPHOON.*$','^.*PARKS.*$','^.*ANIMAL.*$','^.*PLANTS.*$','^.*MARINE LIFE.*$','^.*SPECIES.*$','^.*BIODIVERSIT.*$','^.*MOUNT EVEREST.*$','^.*GREEN PULSE.*$','^.*RIVER.*$','^.*SUSTAINABLE.*$'], value='ENVIRONMENT AND NATURE')\n",
    "df[['Topic 1','Topic 2']] = df[['Topic 1','Topic 2']].replace(regex=['^.*MODESTY.*$','^.*MURDER.*$',r'\\bDATA LEAK\\b','ROBBERY','^.*ADDICTION.*$','^.*DEATH.*$','^.*COUNTERFEIT.*$','PORNOGRAPHY','RAPE','BROTHELS','HARASSMENT','GANGS','RASH ACTS','^.*TRIAL.*$','^.*CRIME.*$','^.*CRIMINAL.*$','^.*COURT.*$','^.*OFFEN.*$','^.*ILLEGAL.*$','SCAMS','GAMBLING','SUICIDES','DISCIPLINARY PROCEEDINGS','^.*LAWSUITS.*$','LAW ENFORCEMENT','MONEY LAUNDERING','^.*PROSTITUTION.*$','VANDALISM','CHIEF JUSTICE','CHEATING','LAWYERS','SINGAPORE LAW','MINISTRY OF LAW','LAW FIRMS','^.*CORONER.*$','^.*CORRUPT.*$','^.*THEFT.*$','CHEATING','DRINK DRIVING','^.*HURT.*$','CENTRAL NARCOTICS BUREAU','^.*POLICE.*$','IMMIGRATION LAWS','^.*DRUG.*$','^.*EXTORTION.*$','ASSAULT','KONG HEE','^.*TAX EVASION.*$','PRISONS','FRAUD','LITTERING','SMUGGLING','^.*LAW.*$'],value='LAW, LEGISLATION AND CRIME')\n",
    "df[['Topic 1','Topic 2']] = df[['Topic 1','Topic 2']].replace(regex=['^.*EMPLOY.*$', 'CAREERS', 'WORKING LIFE','ELDERLY WORKERS','SALARIES','LOW-WAGE WORKERS','WORKFORCE SINGAPORE', 'LABOUR ISSUES','ENTERPRISE SINGAPORE'], value='EMPLOYMENT')\n",
    "df[['Topic 1','Topic 2']] = df[['Topic 1','Topic 2']].replace(regex=['^.*LABOUR.*$','MAIDS','^.*WORKPLACE SAFETY.*$','FOREIGN WORKERS','CONSTRUCTION SECTOR','MINISTRY OF MANPOWER','WORKER WELFARE'], value='EMPLOYMENT')\n",
    "df[['Topic 1','Topic 2']] = df[['Topic 1','Topic 2']].replace(regex=['^.*CARE.*$',r'^.*CHAS \\(COMMUNITY HEALTH ASSIST SCHEME\\).*$'], value='HEALTH ASSISTANCE')\n",
    "df[['Topic 1','Topic 2']] = df[['Topic 1','Topic 2']].replace(regex=['^.*MENTAL.*$','^.*STRESS.*$','^.*OBSESSIVE COMPULSIVE.*$', 'MIND & BODY','^.*COUNSELLORS.*$'], value='MENTAL HEALTH')\n",
    "df[['Topic 1','Topic 2']] = df[['Topic 1','Topic 2']].replace(regex=['^.*HOSPITAL.*$','^.*HEALTH.*$','^.*MEDICAL.*$','^.*DOCTORS.*$','^.*PHAMA.*$', '^.*POLYCLINIC.*$'], value='DISEASES/HEALTH/HOSPITALS')\n",
    "df[['Topic 1','Topic 2']] = df[['Topic 1','Topic 2']].replace(regex=['^.*RETAIL.*$','^.*SHOPPING.*$','^.*MALL.*$', '^.*TRAVEL PLAN.*$', '^.*TRAVEL AND LEISURE.*$','^.*HOTEL.*$','^.*CONCERT.*$',r'\\bGSS\\b'], value='SHOPPING AND LEISURE')\n",
    "df[['Topic 1','Topic 2']] = df[['Topic 1','Topic 2']].replace(regex=['^.*JEWEL CHANGI.*$','^.*TOURISM.*$','^.*SENTOSA.*$','^.*GARDENS BY THE BAY.*$','^.*GRAND PRIX.*$','^.*FORMULA 1.*$','^.*MARINA BAY SAND.*$','^.*CASINO.*$','^.*BOTANIC GARDEN.*$', r'\\bZOO\\b'], value='SINGAPORE TOURISM/ATTRACTIONS')\n",
    "df[['Topic 1','Topic 2']] = df[['Topic 1','Topic 2']].replace(regex=['^.*NATIONAL DAY.*$',], value='SG NATIONAL HOLIDAY')\n",
    "df[['Topic 1','Topic 2']] = df[['Topic 1','Topic 2']].replace(regex=['^.*COMMUNITY.*$','GRASSROOTS ORGANISATIONS'], value='COMMUNITY')\n",
    "df[['Topic 1','Topic 2']] = df[['Topic 1','Topic 2']].replace(regex=['^.*YOUTHS.*$','^.*PARENT.*$','FAMILIES','MINISTRY OF SOCIAL AND FAMILY DEVELOPMENT','PREGNANCY','DIVORCES','RETIREMENT','CHILDCARE CENTRES','CONFINEMENT','MARRIAGES',r'FATHER\\'S DAY'], value='FAMILIY AND PARENTING')\n",
    "df[['Topic 1','Topic 2']] = df[['Topic 1','Topic 2']].replace(regex=['^.*HERITAGE.*$','^.*BICENTENNIAL.*$','MUSEUMS & GALLERIES','^.*HISTOR.*$'], value='SG HISTORY/HERITAGE')\n",
    "df[['Topic 1','Topic 2']] = df[['Topic 1','Topic 2']].replace(regex=['^.*POLYTECHNIC.*$','DESIGN EDUCATION','^.*SKILLS.*$','^.*KINDERGARTEN.*$', r'\\bITE\\b', '^.*LEARNING.*$','^.*SPECIAL NEEDS.*$','^.*SPECIAL EDUCATION.*$'], value='SCHOOLS AND EDUCATION')\n",
    "df[['Topic 1','Topic 2']] = df[['Topic 1','Topic 2']].replace(regex=['^.*SCHO.*$', '^.*UNIVERSIT.*$','^.*EDUCATION.*$', r'\\bNTU\\b', r'\\bNUS\\b', r'\\bSMU\\b', r'\\bSUTD\\b', '^.*PSLE.*$', 'YALE-NUS', 'SINGAPORE INSTITUTE OF TECHNOLOGY','^.*TEACHER.*$','JUNIOR COLLEGE','^.*ACADEMIC.*$','^.*PRIMARY.*$','SUBJECT-BASED BANDING'], value='SCHOOLS AND EDUCATION')\n",
    "df[['Topic 1','Topic 2']] = df[['Topic 1','Topic 2']].replace(regex=['^.*SINGAPORE ECONOMY.*$','SHARING ECONOMY','^.*ECONOMIC.*$',r'\\bMAS\\b','MINISTRY OF FINANCE','^.*TEMASEK HOL.*$',r'\\bEDB\\b', 'MINISTRY OF TRADE AND INDUSTRY','BUSINESS EXPANSION'], value='SG ECONOMY')\n",
    "df[['Topic 1','Topic 2']] = df[['Topic 1','Topic 2']].replace(regex=['^.*SG CONNECT.*$','^.*SINGAPORE POLITIC.*$','^.*FOREIGN POLICY.*$'], value='SG TIES')\n",
    "df[['Topic 1','Topic 2']] = df[['Topic 1','Topic 2']].replace(regex=['^.*CONDO.*$','^.*COST OF LIVING.*$',r'\\bCOE\\b','^.*HOUSING POLIC.*$','^.*PROPERTY.*$','^.*HOUSING.*$',r'\\bHDB.*$', '^.*RENTAL.*$','^.*RENOVATION.*$','^.*RESALE.*$','^.*LAND PLANNING.*$','^.*URBAN PLANNING.*$','^.*HOUSING POLIC.*$'],value='HOUSING, LIVING AND DEVELOPMENT')\n",
    "df[['Topic 1','Topic 2']] = df[['Topic 1','Topic 2']].replace(regex=[r'^.*PEOPLE\\'S ASSOCIATION.*$', '^.*ELECTION.*$','^.*SINGAPORE PARLIAMENT.*$',r'\\bPAP\\b','MEMBERS OF PARLIAMENT',r'WORKER\\'S PARTY',r'WORKERS\\' PARTY', r'AUDITOR-GENERAL\\'S OFFICE'], value='SG PARLIAMENT')\n",
    "df[['Topic 1','Topic 2']] = df[['Topic 1','Topic 2']].replace(regex=['^.*TRANSPORT.*$',r'\\bMRT\\b',r'\\bSBS.*$','^.*BUS.*$', r'\\bSMRT\\b','CROSS ISLAND LINE','^.*PERSONAL MOBILITY DEVICE.*$',r'\\bLTA\\b'], value='AIR/ROAD TRANSPORT AND POLICY')\n",
    "df[['Topic 1','Topic 2']] = df[['Topic 1','Topic 2']].replace(regex=['^.*GRAB.*$','COMFORTDELGRO','^.*TAXI.*$','RIDE-HAILING APP.*$','GOJEK','PRIVATE CAR SHARING'], value='PRIVATE CAR HIRE AND TAXIS')\n",
    "df[['Topic 1','Topic 2']] = df[['Topic 1','Topic 2']].replace(regex=['^.*AIRLINE.*$','^.*AIRPORT.*$','^.*AVIATION.*$','^.*CAAS.*$','^.*TRAVEL ADVISOR.*$','^.*AIRASIA.*$', '^.*AIR TRAFFIC CONTROL.*$','^.*AIRBUS.*$','^.*ROAD RULES.*$'], value='AIR/ROAD TRANSPORT AND POLICY')\n",
    "df[['Topic 1','Topic 2']] = df[['Topic 1','Topic 2']].replace(regex=[r'\\bICA\\b','^.*SECURITY ISSUE.*$','^.*DEFENCE.*$','^.*MINISTRY OF FOREIGN AFFAIRS.*$','^.*NATIONAL SERVICE.*$','^.*SINGAPORE ARMY.*$','^.*DIPLOM.*$','^.*INTERNAL SECURITY.*$',r'\\bSAF\\b'], value='NATIONAL DEFENCE AND SECURITY')\n",
    "df[['Topic 1','Topic 2']] = df[['Topic 1','Topic 2']].replace(regex=[r'\\bSCDF\\b',], value='ACCIDENTS')\n",
    "df[['Topic 1','Topic 2']] = df[['Topic 1','Topic 2']].replace(regex=['^.*HYGIENE.*$','^.*BACTERIA.*$','SINGAPORE FOOD AGENCY','AGRI-FOOD & VETERINARY AUTHORITY OF SINGAPORE'], value='HYGIENE')\n",
    "df[['Topic 1','Topic 2']] = df[['Topic 1','Topic 2']].replace(regex=['^.*CANCER.*$','^.*BLOOD.*$','^.*DIABETES.*$','^.*ILLNESS.*$', '^.*HEART.*$','STROKE','CHOLESTEROL','^.*DIALYSIS.*$','^.*HEPATITIS.*$','^.*DENGUE.*$','^.*MEASLES.*$','^.*MOSQUITO.*$','^.*AUTISM.*$','^.*ZIKA.*$','^.*OUTBREAKS AND.*$','^.*SUGAR.*$','^.*DISEASE.*$','DEMENTIA'], value='DISEASES/HEALTH/HOSPITALS')\n",
    "df[['Topic 1','Topic 2']] = df[['Topic 1','Topic 2']].replace(regex=['^.*CYCLING.*$','^.*EXERCISE.*$','^.*NUTRITION.*$','^.*FOOD SECURITY.*$','^.*DIET.*$','^.*MARATHON.*$','^.*HEALTHY FOR.*$','^.*HEALTH PROMOTION BOARD.*$','^.*CAR-LITE.*$','^.*CAR-FREE.*$'], value='EXERCISE AND NUTRITION')\n",
    "df[['Topic 1','Topic 2']] = df[['Topic 1','Topic 2']].replace(regex=['^.*MOBILE APP.*$', '^.*5G.*$','^.*FIBRE.*$','^.*INFOCOMM.*$','^.*SMARTPHONE.*$','^.*GOOGLE MAP.*$'], value='INFOCOMM TECHNOLOGY')\n",
    "df[['Topic 1','Topic 2']] = df[['Topic 1','Topic 2']].replace(regex=['^.*CYBER SECURITY.*$','^.*HACKING.*$','DATA BREACH.*$','^.*INTERNET.*$'], value='CYBERTECHNOLOGY')\n",
    "df[['Topic 1','Topic 2']] = df[['Topic 1','Topic 2']].replace(regex=['^.*ARTIFICIAL INTELLIGENCE.*$','^.*DIGITALISATION.*$','^.*ROBOT.*$','^.*AUGMENTED REALITY.*$','^.*3D.*$','^.*AUTOMATION.*$', '^.*SMART NATION.*$','^.*SMART CIT.*$','^.*CASHLESS SYSTEM.*$'], value='DIGITALISATION, AUTOMATION AND ML')\n",
    "df[['Topic 1','Topic 2']] = df[['Topic 1','Topic 2']].replace(regex=['^.*DRONE.*$','TECHNOLOGY AND RESEARCH','TECHNOLOGY SECTOR',r'A\\*STAR','^.*INNOVATION.*$'], value='TECHNOLOGY AND RESEARCH')\n",
    "df[['Topic 1','Topic 2']] = df[['Topic 1','Topic 2']].replace(regex=['^.*AGEING.*$','^.*ELDER.*$','^.*SENIOR CITIZEN.*$', '^.*MERDEKA.*$'], value='ELDERLY AND AGEING POPULATION')"
   ]
  },
  {
   "cell_type": "code",
   "execution_count": 11,
   "metadata": {
    "scrolled": true
   },
   "outputs": [],
   "source": [
    "#Looping of Topics\n",
    "Govt = ['LEE HSIEN LOONG', 'HALIMAH YACOB','HENG SWEE KEAT','NG ENG HEN','K SHANMUGAM','JOSEPHINE TEO','KHAW BOON WAN','MASAGOS ZULKIFLI','CHAN CHUN SING','ONG YE KUNG','TEO CHEE HEAN','LAM PIN MIN','GOH CHOK TONG','LAWRENCE WONG','SUN XUELING','^.*LEE BEE WAH.*$','^.*HENG CHEE HOW.*$','YAACOB IBRAHIM','CHIAM SEE TONG','VIVIAN BALAKRISHNAN','PRITAM SINGH','MUHAMMAD FAISHAL IBRAHIM','NG CHEE MENG','CHEE HONG TAT','EDWIN TONG','TAN CHUAN-JIN','GRACE FU','DESMOND CHOO','GAN KIM YONG','BAEY YAM KENG','LEE KUAN YEW','THARMAN SHANMUGARATNAM']\n",
    "df['Topic 1'] = np.where(df['Topic 1'].isin(Govt),df['Topic 2'],df['Topic 1'])"
   ]
  },
  {
   "cell_type": "code",
   "execution_count": 12,
   "metadata": {},
   "outputs": [],
   "source": [
    "Topic_list = ['Topic 1']\n",
    "df = df.apply(lambda x: x.mask(x.map(x.value_counts())<20, 'OTHERS') if x.name in Topic_list else x)"
   ]
  },
  {
   "cell_type": "code",
   "execution_count": 13,
   "metadata": {
    "scrolled": true
   },
   "outputs": [],
   "source": [
    "freq_df_cleaned = df[['Topic 1']].melt()\n",
    "freq_df_cleaned = pd.DataFrame({'Frequency':freq_df_cleaned['value'].value_counts()})\n",
    "freq_df_cleaned = freq_df_cleaned.rename_axis('Topics').reset_index()\n",
    "freq_df_cleaned['Perc']= round((freq_df_cleaned['Frequency']/sum(freq_df_cleaned.Frequency)*100)).astype(str) +'%'"
   ]
  },
  {
   "cell_type": "code",
   "execution_count": 14,
   "metadata": {},
   "outputs": [
    {
     "data": {
      "text/html": [
       "<div>\n",
       "<style scoped>\n",
       "    .dataframe tbody tr th:only-of-type {\n",
       "        vertical-align: middle;\n",
       "    }\n",
       "\n",
       "    .dataframe tbody tr th {\n",
       "        vertical-align: top;\n",
       "    }\n",
       "\n",
       "    .dataframe thead th {\n",
       "        text-align: right;\n",
       "    }\n",
       "</style>\n",
       "<table border=\"1\" class=\"dataframe\">\n",
       "  <thead>\n",
       "    <tr style=\"text-align: right;\">\n",
       "      <th></th>\n",
       "      <th>Topics</th>\n",
       "      <th>Frequency</th>\n",
       "      <th>Perc</th>\n",
       "    </tr>\n",
       "  </thead>\n",
       "  <tbody>\n",
       "    <tr>\n",
       "      <th>0</th>\n",
       "      <td>LAW, LEGISLATION AND CRIME</td>\n",
       "      <td>671</td>\n",
       "      <td>26.0%</td>\n",
       "    </tr>\n",
       "    <tr>\n",
       "      <th>1</th>\n",
       "      <td>OTHERS</td>\n",
       "      <td>621</td>\n",
       "      <td>24.0%</td>\n",
       "    </tr>\n",
       "    <tr>\n",
       "      <th>2</th>\n",
       "      <td>ACCIDENTS</td>\n",
       "      <td>162</td>\n",
       "      <td>6.0%</td>\n",
       "    </tr>\n",
       "    <tr>\n",
       "      <th>3</th>\n",
       "      <td>ENVIRONMENT AND NATURE</td>\n",
       "      <td>146</td>\n",
       "      <td>6.0%</td>\n",
       "    </tr>\n",
       "    <tr>\n",
       "      <th>4</th>\n",
       "      <td>AIR/ROAD TRANSPORT AND POLICY</td>\n",
       "      <td>146</td>\n",
       "      <td>6.0%</td>\n",
       "    </tr>\n",
       "  </tbody>\n",
       "</table>\n",
       "</div>"
      ],
      "text/plain": [
       "                          Topics  Frequency   Perc\n",
       "0     LAW, LEGISLATION AND CRIME        671  26.0%\n",
       "1                         OTHERS        621  24.0%\n",
       "2                      ACCIDENTS        162   6.0%\n",
       "3         ENVIRONMENT AND NATURE        146   6.0%\n",
       "4  AIR/ROAD TRANSPORT AND POLICY        146   6.0%"
      ]
     },
     "execution_count": 14,
     "metadata": {},
     "output_type": "execute_result"
    }
   ],
   "source": [
    "freq_df_cleaned.head()"
   ]
  },
  {
   "cell_type": "code",
   "execution_count": 15,
   "metadata": {
    "scrolled": true
   },
   "outputs": [
    {
     "data": {
      "image/png": "[encoded data removed]",
      "text/plain": [
       "<Figure size 1440x432 with 1 Axes>"
      ]
     },
     "metadata": {
      "needs_background": "light"
     },
     "output_type": "display_data"
    }
   ],
   "source": [
    "plt.figure(figsize=(20,6))\n",
    "plt.bar(freq_df_cleaned['Topics'][:20],freq_df_cleaned['Frequency'][:20], color=\"slategray\")\n",
    "plt.xticks(rotation=80)\n",
    "for i in range(len(freq_df_cleaned)):\n",
    "    plt.text(freq_df_cleaned.Topics[i],freq_df_cleaned.Frequency[i], freq_df_cleaned.Perc[i], color='black', ha=\"center\",size=12)\n",
    "plt.show()"
   ]
  },
  {
   "cell_type": "markdown",
   "metadata": {},
   "source": [
    "# Word Frequency"
   ]
  },
  {
   "cell_type": "code",
   "execution_count": 16,
   "metadata": {},
   "outputs": [],
   "source": [
    "def freq_words(x, terms=30):\n",
    "    all_words =' '.join([text for text in x])\n",
    "    all_words = all_words.split()\n",
    "    all_words = (x.lower() for x in all_words)\n",
    "    fdist = FreqDist(all_words)\n",
    "    words_df = pd.DataFrame({'word':list(fdist.keys()),'count':list(fdist.values())})\n",
    "    d = words_df.nlargest(columns=\"count\",n=terms)\n",
    "    plt.figure(figsize=(20,5))\n",
    "    ax=sns.barplot(data=d,x=\"word\",y=\"count\")\n",
    "    ax.set(ylabel='Count')\n",
    "    plt.show()"
   ]
  },
  {
   "cell_type": "code",
   "execution_count": 17,
   "metadata": {
    "scrolled": false
   },
   "outputs": [
    {
     "data": {
      "image/png": "[encoded data removed]",
      "text/plain": [
       "<Figure size 1440x360 with 1 Axes>"
      ]
     },
     "metadata": {
      "needs_background": "light"
     },
     "output_type": "display_data"
    }
   ],
   "source": [
    "#Getting Top 20 Words\n",
    "freq_words(df['Article Content'],20)"
   ]
  },
  {
   "cell_type": "markdown",
   "metadata": {},
   "source": [
    "# Preprocessing "
   ]
  },
  {
   "cell_type": "code",
   "execution_count": 18,
   "metadata": {},
   "outputs": [],
   "source": [
    "def preprocess_content(column):\n",
    "    column = column.apply(lambda x: re.sub(r'SINGAPORE -', ' ', x))\n",
    "    #column = column.apply(lambda x: re.sub(r'SINGAPORE', ' ', x, flags=re.IGNORECASE))\n",
    "    column = column.apply(lambda x: re.sub(r'\\([^)]*\\)', '',x)) #remove (anything in brackets)\n",
    "    column = column.apply(lambda x: re.sub(r'\\d{2}[/-]\\w{4}[/-]\\w{3,4}', '',x)) #remove(xx-year-old)\n",
    "    #column = column.apply(lambda x: re.sub(r'straits times','',x, flags=re.IGNORECASE))\n",
    "    #column = column.apply(lambda x: re.sub(r'per cent','',x, flags=re.IGNORECASE))\n",
    "    column = column.apply(lambda x: re.sub(r'cpl kok yuen chin','',x, flags=re.IGNORECASE))\n",
    "    column = column.apply(lambda x: re.sub(r'cpl kok','',x, flags=re.IGNORECASE))\n",
    "    #column = column.apply(lambda x: re.sub(r'st photo','',x, flags=re.IGNORECASE))\n",
    "    #column = column.apply(lambda x: re.sub(r'facebook post','',x, flags=re.IGNORECASE))\n",
    "    #column = column.apply(lambda x: re.sub(r'years ago','',x, flags=re.IGNORECASE))\n",
    "    column = column.apply(lambda x: re.sub(r'[^a-zA-z\\s]', ' ', x)) #removing digits and special characters (punctuations)\n",
    "    #column = column.apply(lambda x: x.lower()) #convert to lowercase\n",
    "    column = column.apply(lambda x: re.sub('\\n','',x))\n",
    "    return column\n",
    "\n",
    "df['Article Content'] = preprocess_content(df['Article Content'])"
   ]
  },
  {
   "cell_type": "code",
   "execution_count": 19,
   "metadata": {},
   "outputs": [],
   "source": [
    "import spacy\n",
    "nlp = spacy.load('en_core_web_sm')\n",
    "stop_words = spacy.lang.en.stop_words.STOP_WORDS\n",
    "add_words = [\"singapore\",\"said\",\"also\",\"year\",\"month\", \"time\", \"last\",\"years\"]\n",
    "stop_words.update(add_words)"
   ]
  },
  {
   "cell_type": "code",
   "execution_count": 20,
   "metadata": {},
   "outputs": [],
   "source": [
    "def remove_stopwords(content):\n",
    "    content_new = ' '.join([i for i in content if i.lower() not in stop_words])\n",
    "    return content_new\n",
    "\n",
    "df['Article Content'] = df['Article Content'].apply(lambda x: ' '.join([w for w in x.split() if len(w)>2]))"
   ]
  },
  {
   "cell_type": "code",
   "execution_count": 21,
   "metadata": {},
   "outputs": [],
   "source": [
    "Article_content = [remove_stopwords(r.split()) for r in df['Article Content']]"
   ]
  },
  {
   "cell_type": "code",
   "execution_count": 22,
   "metadata": {},
   "outputs": [
    {
     "data": {
      "image/png": "[encoded data removed]",
      "text/plain": [
       "<Figure size 1440x360 with 1 Axes>"
      ]
     },
     "metadata": {
      "needs_background": "light"
     },
     "output_type": "display_data"
    }
   ],
   "source": [
    "freq_words(Article_content,20)"
   ]
  },
  {
   "cell_type": "code",
   "execution_count": 23,
   "metadata": {},
   "outputs": [],
   "source": [
    "import spacy\n",
    "nlp = spacy.load('en_core_web_sm')"
   ]
  },
  {
   "cell_type": "code",
   "execution_count": 24,
   "metadata": {},
   "outputs": [],
   "source": [
    "def lemmatization(texts, tags=['NOUN','ADJ','ADV','VERB']):\n",
    "    output=[]\n",
    "    for sent in texts:\n",
    "        doc = nlp(\" \".join(sent))\n",
    "        output.append([token.lemma_ for token in doc if token.pos_ in tags])\n",
    "    return output"
   ]
  },
  {
   "cell_type": "code",
   "execution_count": 25,
   "metadata": {},
   "outputs": [],
   "source": [
    "tokenized_contents = pd.Series(Article_content).apply(lambda x: x.split())\n",
    "#print(tokenized_contents[0])"
   ]
  },
  {
   "cell_type": "code",
   "execution_count": 26,
   "metadata": {},
   "outputs": [],
   "source": [
    "lemmatized_contents = lemmatization(tokenized_contents)\n",
    "#print(lemmatized_contents[0])"
   ]
  },
  {
   "cell_type": "code",
   "execution_count": 27,
   "metadata": {
    "scrolled": true
   },
   "outputs": [
    {
     "data": {
      "image/png": "[encoded data removed]",
      "text/plain": [
       "<Figure size 1440x360 with 1 Axes>"
      ]
     },
     "metadata": {
      "needs_background": "light"
     },
     "output_type": "display_data"
    }
   ],
   "source": [
    "Article_content_clean = []\n",
    "for i in range(len(lemmatized_contents)):\n",
    "    Article_content_clean.append(' '.join(lemmatized_contents[i]))\n",
    "df['clean_contents'] = Article_content_clean\n",
    "\n",
    "#Getting Word Frequency of cleaned contents\n",
    "\n",
    "freq_words(df['clean_contents'],20)"
   ]
  },
  {
   "cell_type": "code",
   "execution_count": 28,
   "metadata": {
    "scrolled": true
   },
   "outputs": [
    {
     "data": {
      "text/html": [
       "<div>\n",
       "<style scoped>\n",
       "    .dataframe tbody tr th:only-of-type {\n",
       "        vertical-align: middle;\n",
       "    }\n",
       "\n",
       "    .dataframe tbody tr th {\n",
       "        vertical-align: top;\n",
       "    }\n",
       "\n",
       "    .dataframe thead th {\n",
       "        text-align: right;\n",
       "    }\n",
       "</style>\n",
       "<table border=\"1\" class=\"dataframe\">\n",
       "  <thead>\n",
       "    <tr style=\"text-align: right;\">\n",
       "      <th></th>\n",
       "      <th>Article Title</th>\n",
       "      <th>Article Content</th>\n",
       "      <th>Topic 1</th>\n",
       "      <th>Topic 2</th>\n",
       "      <th>clean_contents</th>\n",
       "      <th>Clean Content</th>\n",
       "    </tr>\n",
       "  </thead>\n",
       "  <tbody>\n",
       "    <tr>\n",
       "      <th>0</th>\n",
       "      <td>Malaysian drug suspect arrested at Shenton Way junction after attempting hasty getaway on motorbike</td>\n",
       "      <td>Malaysian suspect was arrested the junction Shenton Way and Maxwell Road last Thursday after allegedly disposed plastic bag containing Ice carpark the vicinity Orchard Towers Officers from the Central Narcotics Bureau had spotted him hopping onto his motorcycle the carpark make hasty exit They also recovered the plastic bag which contained Ice valued This amount can feed the addiction about abusers for week the CNB said press release Saturday Three other suspected drug offenders including Si...</td>\n",
       "      <td>LAW, LEGISLATION AND CRIME</td>\n",
       "      <td>LAW, LEGISLATION AND CRIME</td>\n",
       "      <td>malaysian suspect arrest junction allegedly dispose plastic bag contain carpark vicinity spot hop motorcycle carpark hasty exit recover plastic bag contain value feed addiction abuser week press release suspect drug offender include singaporean man arrest total seize malaysian suspect arrest late anti drug enforcement operation take place suspect drug offender arrest operation cover area include accord drug worth seize blitz include heroin cannabi ketamine tablet new psychoactive substance b...</td>\n",
       "      <td>[malaysian, suspect, arrest, junction, allegedly, dispose, plastic, bag, contain, carpark, vicinity, spot, hop, motorcycle, carpark, hasty, exit, recover, plastic, bag, contain, value, feed, addiction, abuser, week, press, release, suspect, drug, offender, include, singaporean, man, arrest, total, seize, malaysian, suspect, arrest, late, anti, drug, enforcement, operation, take, place, suspect, drug, offender, arrest, operation, cover, area, include, accord, drug, worth, seize, blitz, includ...</td>\n",
       "    </tr>\n",
       "    <tr>\n",
       "      <th>1</th>\n",
       "      <td>SCDF ragging death: Being submerged in dark, confined well could be dangerous even for a swimmer, says expert</td>\n",
       "      <td>When entering pool water person who does not know how swim might not know breathe before entering and exhale slightly while submerged result possible might inhale water while submerged Forensic pathologist George Paul was pointing this out testified Friday the ongoing trial two commanders the Singapore Civil Defence Force linked with the drowning full time national serviceman Corporal Kok Yuen Chin which happened during ragging incident Paul who performed the autopsy said There also differen...</td>\n",
       "      <td>ACCIDENTS</td>\n",
       "      <td>LAW, LEGISLATION AND CRIME</td>\n",
       "      <td>enter pool water person know swim know breathe enter exhale slightly submerge result possible inhale water submerge forensic pathologist point testify ongoing trial commander link drown national serviceman happen rag incident perform autopsy difference react prepare enter water sudden unexpected event unexpected result startled inhalatory response cause person breathe water add common misconception enter body water float body float decomposition person presence mind tread water come water ru...</td>\n",
       "      <td>[enter, pool, water, person, know, swim, know, breathe, enter, exhale, slightly, submerge, result, possible, inhale, water, submerge, forensic, pathologist, point, testify, ongoing, trial, commander, link, drown, national, serviceman, happen, rag, incident, perform, autopsy, difference, react, prepare, enter, water, sudden, unexpected, event, unexpected, result, startled, inhalatory, response, cause, person, breathe, water, add, common, misconception, enter, body, water, float, body, float, ...</td>\n",
       "    </tr>\n",
       "    <tr>\n",
       "      <th>2</th>\n",
       "      <td>Use technology to help people with special needs integrate as part of Smart Nation push: President Halimah</td>\n",
       "      <td>SINGAPORE The Republic should leverage technology such virtual simulation systems better integrate people with special needs including students into society said President Halimah Yacob Speaking reporters during visit Thursday Metta School which caters students from age who have mild intellectual disability and autism she said this should done part the country Smart Nation push which national effort support better living using technology Madam Halimah cited the virtual simulation systems ava...</td>\n",
       "      <td>SCHOOLS AND EDUCATION</td>\n",
       "      <td>HALIMAH YACOB</td>\n",
       "      <td>republic leverage technology virtual simulation system better integrate people special need include student society reporter visit cater student age mild intellectual disability autism country push national effort support better live technology cite virtual simulation system available motion sensor activate allow student experience everyday scenario example student practice thing take make purchase supermarket stay safe environment technology assist student special need learn independent vis...</td>\n",
       "      <td>[republic, leverage, technology, virtual, simulation, system, better, integrate, people, special, need, include, student, society, reporter, visit, cater, student, age, mild, intellectual, disability, autism, country, push, national, effort, support, better, live, technology, cite, virtual, simulation, system, available, motion, sensor, activate, allow, student, experience, everyday, scenario, example, student, practice, thing, take, make, purchase, supermarket, stay, safe, environment, tech...</td>\n",
       "    </tr>\n",
       "  </tbody>\n",
       "</table>\n",
       "</div>"
      ],
      "text/plain": [
       "                                                                                                    Article Title  \\\n",
       "0             Malaysian drug suspect arrested at Shenton Way junction after attempting hasty getaway on motorbike   \n",
       "1   SCDF ragging death: Being submerged in dark, confined well could be dangerous even for a swimmer, says expert   \n",
       "2      Use technology to help people with special needs integrate as part of Smart Nation push: President Halimah   \n",
       "\n",
       "                                                                                                                                                                                                                                                                                                                                                                                                                                                                                                       Article Content  \\\n",
       "0  Malaysian suspect was arrested the junction Shenton Way and Maxwell Road last Thursday after allegedly disposed plastic bag containing Ice carpark the vicinity Orchard Towers Officers from the Central Narcotics Bureau had spotted him hopping onto his motorcycle the carpark make hasty exit They also recovered the plastic bag which contained Ice valued This amount can feed the addiction about abusers for week the CNB said press release Saturday Three other suspected drug offenders including Si...   \n",
       "1  When entering pool water person who does not know how swim might not know breathe before entering and exhale slightly while submerged result possible might inhale water while submerged Forensic pathologist George Paul was pointing this out testified Friday the ongoing trial two commanders the Singapore Civil Defence Force linked with the drowning full time national serviceman Corporal Kok Yuen Chin which happened during ragging incident Paul who performed the autopsy said There also differen...   \n",
       "2  SINGAPORE The Republic should leverage technology such virtual simulation systems better integrate people with special needs including students into society said President Halimah Yacob Speaking reporters during visit Thursday Metta School which caters students from age who have mild intellectual disability and autism she said this should done part the country Smart Nation push which national effort support better living using technology Madam Halimah cited the virtual simulation systems ava...   \n",
       "\n",
       "                      Topic 1                     Topic 2  \\\n",
       "0  LAW, LEGISLATION AND CRIME  LAW, LEGISLATION AND CRIME   \n",
       "1                   ACCIDENTS  LAW, LEGISLATION AND CRIME   \n",
       "2       SCHOOLS AND EDUCATION               HALIMAH YACOB   \n",
       "\n",
       "                                                                                                                                                                                                                                                                                                                                                                                                                                                                                                        clean_contents  \\\n",
       "0  malaysian suspect arrest junction allegedly dispose plastic bag contain carpark vicinity spot hop motorcycle carpark hasty exit recover plastic bag contain value feed addiction abuser week press release suspect drug offender include singaporean man arrest total seize malaysian suspect arrest late anti drug enforcement operation take place suspect drug offender arrest operation cover area include accord drug worth seize blitz include heroin cannabi ketamine tablet new psychoactive substance b...   \n",
       "1  enter pool water person know swim know breathe enter exhale slightly submerge result possible inhale water submerge forensic pathologist point testify ongoing trial commander link drown national serviceman happen rag incident perform autopsy difference react prepare enter water sudden unexpected event unexpected result startled inhalatory response cause person breathe water add common misconception enter body water float body float decomposition person presence mind tread water come water ru...   \n",
       "2  republic leverage technology virtual simulation system better integrate people special need include student society reporter visit cater student age mild intellectual disability autism country push national effort support better live technology cite virtual simulation system available motion sensor activate allow student experience everyday scenario example student practice thing take make purchase supermarket stay safe environment technology assist student special need learn independent vis...   \n",
       "\n",
       "                                                                                                                                                                                                                                                                                                                                                                                                                                                                                                         Clean Content  \n",
       "0  [malaysian, suspect, arrest, junction, allegedly, dispose, plastic, bag, contain, carpark, vicinity, spot, hop, motorcycle, carpark, hasty, exit, recover, plastic, bag, contain, value, feed, addiction, abuser, week, press, release, suspect, drug, offender, include, singaporean, man, arrest, total, seize, malaysian, suspect, arrest, late, anti, drug, enforcement, operation, take, place, suspect, drug, offender, arrest, operation, cover, area, include, accord, drug, worth, seize, blitz, includ...  \n",
       "1  [enter, pool, water, person, know, swim, know, breathe, enter, exhale, slightly, submerge, result, possible, inhale, water, submerge, forensic, pathologist, point, testify, ongoing, trial, commander, link, drown, national, serviceman, happen, rag, incident, perform, autopsy, difference, react, prepare, enter, water, sudden, unexpected, event, unexpected, result, startled, inhalatory, response, cause, person, breathe, water, add, common, misconception, enter, body, water, float, body, float, ...  \n",
       "2  [republic, leverage, technology, virtual, simulation, system, better, integrate, people, special, need, include, student, society, reporter, visit, cater, student, age, mild, intellectual, disability, autism, country, push, national, effort, support, better, live, technology, cite, virtual, simulation, system, available, motion, sensor, activate, allow, student, experience, everyday, scenario, example, student, practice, thing, take, make, purchase, supermarket, stay, safe, environment, tech...  "
      ]
     },
     "execution_count": 28,
     "metadata": {},
     "output_type": "execute_result"
    }
   ],
   "source": [
    "df['Clean Content'] = lemmatized_contents\n",
    "\n",
    "#df.drop(columns=['Topic 2'],axis=1,inplace=True)\n",
    "\n",
    "#Dropping Topics that is hard to classify\n",
    "df = df[df['Topic 1'] != 'OTHERS'] #Topic < 20 in Frequency\n",
    "df = df[df['Topic 1'] != 'SG NATIONAL HOLIDAY'] #About National Day, overlaps with many other topics\n",
    "df = df[df['Topic 1'] != 'ST PODCASTS'] #Random Topics\n",
    "df.head(3)"
   ]
  },
  {
   "cell_type": "markdown",
   "metadata": {},
   "source": [
    "# Modelling"
   ]
  },
  {
   "cell_type": "code",
   "execution_count": 29,
   "metadata": {},
   "outputs": [],
   "source": [
    "from sklearn.preprocessing import LabelEncoder\n",
    "from sklearn.feature_extraction.text import TfidfVectorizer\n",
    "from sklearn import model_selection, naive_bayes, svm\n",
    "from sklearn.metrics import accuracy_score, precision_score, recall_score\n",
    "\n",
    "Train_X,Test_X,Train_Y,Test_Y = model_selection.train_test_split(df['clean_contents'],df['Topic 1'],\n",
    "                                                                 test_size=0.3,random_state=10)"
   ]
  },
  {
   "cell_type": "code",
   "execution_count": 30,
   "metadata": {},
   "outputs": [],
   "source": [
    "from sklearn.feature_extraction.text import CountVectorizer\n",
    "\n",
    "Tfidf_vect = TfidfVectorizer(lowercase=True,ngram_range=(1,3), min_df=5,max_df=0.9)\n",
    "Tfidf_vect.fit(df['clean_contents'])\n",
    "\n",
    "Train_X_Tfidf = Tfidf_vect.transform(Train_X)\n",
    "Test_X_Tfidf = Tfidf_vect.transform(Test_X)"
   ]
  },
  {
   "cell_type": "code",
   "execution_count": 31,
   "metadata": {},
   "outputs": [
    {
     "name": "stdout",
     "output_type": "stream",
     "text": [
      "KNN Accuracy Score ->  78.29861111111111\n",
      "                                 precision    recall  f1-score   support\n",
      "\n",
      "                      ACCIDENTS       0.79      0.93      0.85        57\n",
      "  AIR/ROAD TRANSPORT AND POLICY       0.80      0.80      0.80        45\n",
      "           CHARITY AND DONATION       0.57      0.57      0.57         7\n",
      "      DISEASES/HEALTH/HOSPITALS       0.79      0.73      0.76        37\n",
      "  ELDERLY AND AGEING POPULATION       0.80      0.67      0.73         6\n",
      "                     EMPLOYMENT       0.68      0.72      0.70        18\n",
      "         ENVIRONMENT AND NATURE       0.75      0.67      0.71        49\n",
      "    GLOBAL POLITICS AND AFFAIRS       0.69      0.63      0.66        35\n",
      "HOUSING, LIVING AND DEVELOPMENT       0.75      0.55      0.63        11\n",
      "                        HYGIENE       0.45      1.00      0.62         5\n",
      "     LAW, LEGISLATION AND CRIME       0.87      0.89      0.88       212\n",
      "  NATIONAL DEFENCE AND SECURITY       0.80      0.57      0.67        28\n",
      "     PRIVATE CAR HIRE AND TAXIS       1.00      0.44      0.62         9\n",
      "              RACE AND RELIGION       0.75      0.64      0.69        14\n",
      "          SCHOOLS AND EDUCATION       0.59      0.88      0.71        33\n",
      "            SG HISTORY/HERITAGE       1.00      0.25      0.40         8\n",
      "        TECHNOLOGY AND RESEARCH       0.00      0.00      0.00         2\n",
      "\n",
      "                       accuracy                           0.78       576\n",
      "                      macro avg       0.71      0.64      0.65       576\n",
      "                   weighted avg       0.79      0.78      0.78       576\n",
      "\n"
     ]
    }
   ],
   "source": [
    "from sklearn.neighbors import KNeighborsClassifier\n",
    "from sklearn import metrics\n",
    "from sklearn.metrics import classification_report, confusion_matrix\n",
    "\n",
    "knn=KNeighborsClassifier(n_neighbors=14)\n",
    "knn.fit(Train_X_Tfidf,Train_Y)\n",
    "knn_predictions = knn.predict(Test_X_Tfidf)\n",
    "\n",
    "print(\"KNN Accuracy Score -> \",accuracy_score(knn_predictions, Test_Y)*100)\n",
    "print(classification_report(Test_Y,knn_predictions))"
   ]
  },
  {
   "cell_type": "code",
   "execution_count": 32,
   "metadata": {},
   "outputs": [
    {
     "name": "stdout",
     "output_type": "stream",
     "text": [
      "Naive Bayes Accuracy Score ->  55.729166666666664\n"
     ]
    },
    {
     "name": "stderr",
     "output_type": "stream",
     "text": [
      "C:\\Users\\wongzn\\AppData\\Local\\Continuum\\anaconda3\\lib\\site-packages\\sklearn\\metrics\\classification.py:1437: UndefinedMetricWarning: Precision and F-score are ill-defined and being set to 0.0 in labels with no predicted samples.\n",
      "  'precision', 'predicted', average, warn_for)\n"
     ]
    },
    {
     "name": "stdout",
     "output_type": "stream",
     "text": [
      "                                 precision    recall  f1-score   support\n",
      "\n",
      "                      ACCIDENTS       1.00      0.46      0.63        57\n",
      "  AIR/ROAD TRANSPORT AND POLICY       1.00      0.36      0.52        45\n",
      "           CHARITY AND DONATION       0.00      0.00      0.00         7\n",
      "      DISEASES/HEALTH/HOSPITALS       1.00      0.27      0.43        37\n",
      "  ELDERLY AND AGEING POPULATION       0.00      0.00      0.00         6\n",
      "                     EMPLOYMENT       0.00      0.00      0.00        18\n",
      "         ENVIRONMENT AND NATURE       0.92      0.45      0.60        49\n",
      "    GLOBAL POLITICS AND AFFAIRS       0.59      0.57      0.58        35\n",
      "HOUSING, LIVING AND DEVELOPMENT       1.00      0.09      0.17        11\n",
      "                        HYGIENE       0.00      0.00      0.00         5\n",
      "     LAW, LEGISLATION AND CRIME       0.47      1.00      0.64       212\n",
      "  NATIONAL DEFENCE AND SECURITY       1.00      0.04      0.07        28\n",
      "     PRIVATE CAR HIRE AND TAXIS       0.00      0.00      0.00         9\n",
      "              RACE AND RELIGION       0.00      0.00      0.00        14\n",
      "          SCHOOLS AND EDUCATION       0.88      0.42      0.57        33\n",
      "            SG HISTORY/HERITAGE       0.00      0.00      0.00         8\n",
      "        TECHNOLOGY AND RESEARCH       0.00      0.00      0.00         2\n",
      "\n",
      "                       accuracy                           0.56       576\n",
      "                      macro avg       0.46      0.21      0.25       576\n",
      "                   weighted avg       0.65      0.56      0.49       576\n",
      "\n"
     ]
    }
   ],
   "source": [
    "Naive = naive_bayes.MultinomialNB()\n",
    "Naive.fit(Train_X_Tfidf,Train_Y)\n",
    "predictions_NB = Naive.predict(Test_X_Tfidf)\n",
    "\n",
    "print(\"Naive Bayes Accuracy Score -> \",accuracy_score(predictions_NB, Test_Y)*100)\n",
    "print(classification_report(Test_Y,predictions_NB))"
   ]
  },
  {
   "cell_type": "code",
   "execution_count": 33,
   "metadata": {},
   "outputs": [
    {
     "name": "stdout",
     "output_type": "stream",
     "text": [
      "Tree Accuracy Score ->  65.45138888888889\n",
      "                                 precision    recall  f1-score   support\n",
      "\n",
      "                      ACCIDENTS       0.83      0.84      0.83        57\n",
      "  AIR/ROAD TRANSPORT AND POLICY       0.48      0.56      0.52        45\n",
      "           CHARITY AND DONATION       0.08      0.14      0.11         7\n",
      "      DISEASES/HEALTH/HOSPITALS       0.52      0.68      0.59        37\n",
      "  ELDERLY AND AGEING POPULATION       0.00      0.00      0.00         6\n",
      "                     EMPLOYMENT       0.33      0.28      0.30        18\n",
      "         ENVIRONMENT AND NATURE       0.68      0.55      0.61        49\n",
      "    GLOBAL POLITICS AND AFFAIRS       0.50      0.46      0.48        35\n",
      "HOUSING, LIVING AND DEVELOPMENT       0.78      0.64      0.70        11\n",
      "                        HYGIENE       0.00      0.00      0.00         5\n",
      "     LAW, LEGISLATION AND CRIME       0.86      0.84      0.85       212\n",
      "  NATIONAL DEFENCE AND SECURITY       0.41      0.43      0.42        28\n",
      "     PRIVATE CAR HIRE AND TAXIS       0.29      0.22      0.25         9\n",
      "              RACE AND RELIGION       0.55      0.43      0.48        14\n",
      "          SCHOOLS AND EDUCATION       0.62      0.64      0.63        33\n",
      "            SG HISTORY/HERITAGE       0.20      0.25      0.22         8\n",
      "        TECHNOLOGY AND RESEARCH       0.11      0.50      0.18         2\n",
      "\n",
      "                       accuracy                           0.65       576\n",
      "                      macro avg       0.43      0.44      0.42       576\n",
      "                   weighted avg       0.66      0.65      0.65       576\n",
      "\n"
     ]
    }
   ],
   "source": [
    "from sklearn import tree\n",
    "tree = tree.DecisionTreeClassifier(random_state = 21)\n",
    "tree.fit(Train_X_Tfidf,Train_Y)\n",
    "tree_prediction = tree.predict(Test_X_Tfidf)\n",
    "\n",
    "print(\"Tree Accuracy Score -> \",accuracy_score(Test_Y,tree_prediction)*100)\n",
    "print(classification_report(Test_Y,tree_prediction))"
   ]
  },
  {
   "cell_type": "code",
   "execution_count": 34,
   "metadata": {},
   "outputs": [
    {
     "name": "stdout",
     "output_type": "stream",
     "text": [
      "LR Accuracy Score ->  75.17361111111111\n"
     ]
    },
    {
     "name": "stderr",
     "output_type": "stream",
     "text": [
      "C:\\Users\\wongzn\\AppData\\Local\\Continuum\\anaconda3\\lib\\site-packages\\sklearn\\metrics\\classification.py:1437: UndefinedMetricWarning: Precision and F-score are ill-defined and being set to 0.0 in labels with no predicted samples.\n",
      "  'precision', 'predicted', average, warn_for)\n"
     ]
    },
    {
     "name": "stdout",
     "output_type": "stream",
     "text": [
      "                                 precision    recall  f1-score   support\n",
      "\n",
      "                      ACCIDENTS       0.94      0.86      0.90        57\n",
      "  AIR/ROAD TRANSPORT AND POLICY       0.79      0.69      0.74        45\n",
      "           CHARITY AND DONATION       0.67      0.29      0.40         7\n",
      "      DISEASES/HEALTH/HOSPITALS       0.81      0.81      0.81        37\n",
      "  ELDERLY AND AGEING POPULATION       1.00      0.17      0.29         6\n",
      "                     EMPLOYMENT       0.86      0.33      0.48        18\n",
      "         ENVIRONMENT AND NATURE       0.83      0.61      0.71        49\n",
      "    GLOBAL POLITICS AND AFFAIRS       0.67      0.63      0.65        35\n",
      "HOUSING, LIVING AND DEVELOPMENT       1.00      0.45      0.62        11\n",
      "                        HYGIENE       0.80      0.80      0.80         5\n",
      "     LAW, LEGISLATION AND CRIME       0.70      0.98      0.82       212\n",
      "  NATIONAL DEFENCE AND SECURITY       0.93      0.46      0.62        28\n",
      "     PRIVATE CAR HIRE AND TAXIS       0.00      0.00      0.00         9\n",
      "              RACE AND RELIGION       0.75      0.43      0.55        14\n",
      "          SCHOOLS AND EDUCATION       0.64      0.82      0.72        33\n",
      "            SG HISTORY/HERITAGE       0.00      0.00      0.00         8\n",
      "        TECHNOLOGY AND RESEARCH       0.00      0.00      0.00         2\n",
      "\n",
      "                       accuracy                           0.75       576\n",
      "                      macro avg       0.67      0.49      0.53       576\n",
      "                   weighted avg       0.75      0.75      0.73       576\n",
      "\n"
     ]
    }
   ],
   "source": [
    "from sklearn.linear_model import LogisticRegression\n",
    "LR = LogisticRegression(multi_class='multinomial',solver='newton-cg')\n",
    "LR.fit(Train_X_Tfidf,Train_Y)\n",
    "pred_LR = LR.predict(Test_X_Tfidf)\n",
    "\n",
    "print(\"LR Accuracy Score -> \",accuracy_score(pred_LR, Test_Y)*100)\n",
    "print(classification_report(Test_Y,pred_LR))"
   ]
  },
  {
   "cell_type": "code",
   "execution_count": null,
   "metadata": {},
   "outputs": [],
   "source": [
    "from sklearn.model_selection import GridSearchCV\n",
    "parameters = {'kernel':['linear'],'C': np.arange(1,5,0.1),'gamma':np.arange(0.01,1,0.1)}\n",
    "\n",
    "grid = GridSearchCV(svm.SVC(), parameters, cv=5)\n",
    "grid.fit(Train_X_Tfidf,Train_Y)\n",
    "print(grid.best_params_)"
   ]
  },
  {
   "cell_type": "code",
   "execution_count": null,
   "metadata": {
    "scrolled": true
   },
   "outputs": [],
   "source": [
    "print(grid.best_estimator_)"
   ]
  },
  {
   "cell_type": "code",
   "execution_count": null,
   "metadata": {},
   "outputs": [],
   "source": [
    "grid_predictions = grid.predict(Test_X_Tfidf)\n",
    "\n",
    "print(\"SVM Accuracy Score -> \",accuracy_score(grid_predictions, Test_Y)*100)\n",
    "print(classification_report(Test_Y,grid_predictions))"
   ]
  },
  {
   "cell_type": "code",
   "execution_count": 35,
   "metadata": {
    "scrolled": true
   },
   "outputs": [
    {
     "name": "stdout",
     "output_type": "stream",
     "text": [
      "SVM Accuracy Score ->  80.90277777777779\n"
     ]
    }
   ],
   "source": [
    "SVM = svm.SVC(C=1.5, kernel='linear', degree=3,random_state=1)\n",
    "SVM.fit(Train_X_Tfidf,Train_Y)\n",
    "predictions_SVM = SVM.predict(Test_X_Tfidf)\n",
    "\n",
    "print(\"SVM Accuracy Score -> \",accuracy_score(predictions_SVM, Test_Y)*100)"
   ]
  },
  {
   "cell_type": "code",
   "execution_count": 36,
   "metadata": {
    "scrolled": true
   },
   "outputs": [
    {
     "name": "stdout",
     "output_type": "stream",
     "text": [
      "[[ 52   2   0   0   0   0   0   0   0   0   2   0   1   0   0   0   0]\n",
      " [  0  35   0   0   0   1   0   2   0   0   4   0   0   0   0   0   3]\n",
      " [  0   0   6   0   0   0   1   0   0   0   0   0   0   0   0   0   0]\n",
      " [  0   0   0  32   0   0   0   1   0   1   0   0   0   0   3   0   0]\n",
      " [  0   0   0   3   1   0   0   1   0   0   1   0   0   0   0   0   0]\n",
      " [  1   0   0   0   0  11   0   1   0   0   3   1   0   0   1   0   0]\n",
      " [  0   1   1   2   0   1  36   1   0   0   7   0   0   0   0   0   0]\n",
      " [  0   1   0   1   0   1   2  21   0   0   4   3   0   0   2   0   0]\n",
      " [  1   0   0   0   0   0   1   0   5   0   4   0   0   0   0   0   0]\n",
      " [  0   0   0   0   0   0   0   0   0   5   0   0   0   0   0   0   0]\n",
      " [  2   1   0   1   0   1   0   0   0   0 203   1   0   0   3   0   0]\n",
      " [  0   1   0   0   0   0   1   2   0   0   2  18   0   0   3   0   1]\n",
      " [  0   3   0   0   0   0   0   0   0   0   2   0   4   0   0   0   0]\n",
      " [  0   0   1   0   0   0   0   2   0   0   1   0   0   9   1   0   0]\n",
      " [  0   0   1   0   0   0   0   3   0   1   1   0   0   0  25   0   2]\n",
      " [  0   0   0   0   0   0   2   2   0   0   1   0   0   2   0   1   0]\n",
      " [  0   0   0   0   0   0   0   0   0   0   0   0   0   0   0   0   2]]\n",
      "                                 precision    recall  f1-score   support\n",
      "\n",
      "                      ACCIDENTS       0.93      0.91      0.92        57\n",
      "  AIR/ROAD TRANSPORT AND POLICY       0.80      0.78      0.79        45\n",
      "           CHARITY AND DONATION       0.67      0.86      0.75         7\n",
      "      DISEASES/HEALTH/HOSPITALS       0.82      0.86      0.84        37\n",
      "  ELDERLY AND AGEING POPULATION       1.00      0.17      0.29         6\n",
      "                     EMPLOYMENT       0.73      0.61      0.67        18\n",
      "         ENVIRONMENT AND NATURE       0.84      0.73      0.78        49\n",
      "    GLOBAL POLITICS AND AFFAIRS       0.58      0.60      0.59        35\n",
      "HOUSING, LIVING AND DEVELOPMENT       1.00      0.45      0.62        11\n",
      "                        HYGIENE       0.71      1.00      0.83         5\n",
      "     LAW, LEGISLATION AND CRIME       0.86      0.96      0.91       212\n",
      "  NATIONAL DEFENCE AND SECURITY       0.78      0.64      0.71        28\n",
      "     PRIVATE CAR HIRE AND TAXIS       0.80      0.44      0.57         9\n",
      "              RACE AND RELIGION       0.82      0.64      0.72        14\n",
      "          SCHOOLS AND EDUCATION       0.66      0.76      0.70        33\n",
      "            SG HISTORY/HERITAGE       1.00      0.12      0.22         8\n",
      "        TECHNOLOGY AND RESEARCH       0.25      1.00      0.40         2\n",
      "\n",
      "                       accuracy                           0.81       576\n",
      "                      macro avg       0.78      0.68      0.67       576\n",
      "                   weighted avg       0.82      0.81      0.80       576\n",
      "\n"
     ]
    }
   ],
   "source": [
    "print(confusion_matrix(Test_Y,predictions_SVM))\n",
    "print(classification_report(Test_Y,predictions_SVM))"
   ]
  },
  {
   "cell_type": "markdown",
   "metadata": {},
   "source": [
    "# Feeding in New Data (Test Dataset)"
   ]
  },
  {
   "cell_type": "code",
   "execution_count": 37,
   "metadata": {},
   "outputs": [],
   "source": [
    "new_data = pd.read_csv('C:/Users/wongzn/Desktop/Transfer/ST_63.csv')\n",
    "new_data['Article Content'] = new_data['Article Content'].astype(str)"
   ]
  },
  {
   "cell_type": "code",
   "execution_count": 38,
   "metadata": {},
   "outputs": [],
   "source": [
    "Train_X = df['clean_contents']\n",
    "Train_Y = df['Topic 1']"
   ]
  },
  {
   "cell_type": "code",
   "execution_count": 39,
   "metadata": {},
   "outputs": [],
   "source": [
    "#Preprocess test dataset like before\n",
    "df = new_data\n",
    "df_topics = df.Topics.str.split(', ', expand=True)\n",
    "df_topics = df_topics.rename(columns={0:\"Topic 1\",1:\"Topic 2\",2:\"Topic 3\",3:\"Topic 4\",4:\"Topic 5\",5:\"Topic 6\",6:\"Topic 7\",7:\"Topic 8\"})\n",
    "df = pd.concat([df[['Article Title','Article Content']],df_topics[['Topic 1','Topic 2']]], axis=1)\n",
    "df['Topic 1'] = df['Topic 1'].str.upper()\n",
    "df['Topic 2'] = df['Topic 2'].str.upper()"
   ]
  },
  {
   "cell_type": "code",
   "execution_count": 40,
   "metadata": {},
   "outputs": [],
   "source": [
    "df[['Topic 1','Topic 2']] = df[['Topic 1','Topic 2']].replace(regex=[r'\\bUN\\b','INTERPOL','^.*ASEAN.*$','^.*SHANGRI-LA DIALOGUE.*$','^.*HONG KONG.*$','^.*HK.*$','^.*KOREA.*$','^.*ZIMBABWE.*$','^.*ASIA-PACIFIC.*$','^.*AUSTRALIA.*$','^.*THAILAND.*$','^.*OBAMA.*$','^.*BREXIT.*$','^.*BELT AND ROAD.*$','^.*MALAYSIA.*$','^.*TAIWAN.*$','^.*KAZAKHSTAN.*$','^.*RIOT.*$','^.*INDIA.*$','^.*INDO.*$','^.*NEW ZEALAND.*$','^.*BOMB.*$','^.*BRITAIN.*$','^.*BRUNEI.*$','^.*BUSAN.*$','^.*PHILIPPINES.*$','^.*TERRORI.*$','^.*SAUDI.*$','^.*CAMBODIA.*$','^.*PAHANG.*$','^.*CHINA.*$','^.*VIETNAM.*$','^.*DENMARK.*$','^.*PROTEST.*$',r'\\bWHO\\b','^.*FRANCE.*$',r'\\bEU\\b','^.*ISIS.*$','^.*GREECE.*$',r'\\bUS.*$','^.*JAPAN.*$','^.*JOHOR.*$','^.*G-.*$','^.*RUSSIA.*$','^.*WORLD TRADE.*$','TARIFFS','SCOTT MORRISON','^.*ARMENIA.*$','MYANMAR','^.*WAR.*$','^.*TURKMENISTAN.*$','^.*GERMANY.*$','OECD','^.*GLOBAL AFFAIR.*$','^.*TRIPARTISM.*$','^.*POLICTIC.*$'],value='GLOBAL POLITICS AND AFFAIRS')\n",
    "df[['Topic 1','Topic 2']] = df[['Topic 1','Topic 2']].replace(regex=['^.*HARI RAYA.*$','^.*DEEPAVALI.*$','^.*FESTIVAL.*$','^.*CHURCH.*$','^.*BUDDHISM.*$','^.*ISLAM.*$','^.*MOSQUE.*$','^.*HINDU.*$','^.*TEMPLE.*$','^.*RACIAL.*$','^.*HARMONY.*$','^.*RACE.*$','^.*RELIGIO.*$','^.*CULTUR.*$','INSTITUTE OF POLICY STUDIES'],value='RACE AND RELIGION')\n",
    "df[['Topic 1','Topic 2']] = df[['Topic 1','Topic 2']].replace(regex=['^.*ACCIDENT.*$','DROWNING','^.*FIRE.*$'],value='ACCIDENTS')\n",
    "df[['Topic 1','Topic 2']] = df[['Topic 1','Topic 2']].replace(regex=['^.*CHARIT.*$','^.*VOLUNTEER.*$','^.*DONAT.*$','^.*KINDNESS.*$','^.*RED CROSS.*$','^.*PHILANTHROPY.*$'], value='CHARITY AND DONATION')\n",
    "df[['Topic 1','Topic 2']] = df[['Topic 1','Topic 2']].replace(regex=['^.*RECYC.*$',r'\\bPSI\\b','^.*HAZE.*$','^.*ENVIRONMENT.*$','^.*CLIMATE.*$','^.*POLLUT.*$','^.*OIL SPILL.*$','^.*ELECTRICITY AND POWER.*$','^.*FLOOD.*$','^.*ENERGY.*$','^.*RENEWABLE.*$','^.*FOREST FIRE.*$','^.*PLASTIC.*$','^.*WASTE.*$','^.*WEATHER.*$','^.*WATER.*$','^.*CONSERVATION.*$','^.*WILDLIFE.*$','^.*RESERVES.*$','^.*TYPHOON.*$','^.*PARKS.*$','^.*ANIMAL.*$','^.*PLANTS.*$','^.*MARINE LIFE.*$','^.*SPECIES.*$','^.*BIODIVERSIT.*$','^.*MOUNT EVEREST.*$','^.*GREEN PULSE.*$','^.*RIVER.*$','^.*SUSTAINABLE.*$'], value='ENVIRONMENT AND NATURE')\n",
    "df[['Topic 1','Topic 2']] = df[['Topic 1','Topic 2']].replace(regex=['^.*MODESTY.*$','^.*MURDER.*$',r'\\bDATA LEAK\\b','ROBBERY','^.*ADDICTION.*$','^.*DEATH.*$','^.*COUNTERFEIT.*$','PORNOGRAPHY','RAPE','BROTHELS','HARASSMENT','GANGS','RASH ACTS','^.*TRIAL.*$','^.*CRIME.*$','^.*CRIMINAL.*$','^.*COURT.*$','^.*OFFEN.*$','^.*ILLEGAL.*$','SCAMS','GAMBLING','SUICIDES','DISCIPLINARY PROCEEDINGS','^.*LAWSUITS.*$','LAW ENFORCEMENT','MONEY LAUNDERING','^.*PROSTITUTION.*$','VANDALISM','CHIEF JUSTICE','CHEATING','LAWYERS','SINGAPORE LAW','MINISTRY OF LAW','LAW FIRMS','^.*CORONER.*$','^.*CORRUPT.*$','^.*THEFT.*$','CHEATING','DRINK DRIVING','^.*HURT.*$','CENTRAL NARCOTICS BUREAU','^.*POLICE.*$','IMMIGRATION LAWS','^.*DRUG.*$','^.*EXTORTION.*$','ASSAULT','KONG HEE','^.*TAX EVASION.*$','PRISONS','FRAUD','LITTERING','SMUGGLING','^.*LAW.*$'],value='LAW, LEGISLATION AND CRIME')\n",
    "df[['Topic 1','Topic 2']] = df[['Topic 1','Topic 2']].replace(regex=['^.*EMPLOY.*$', 'CAREERS', 'WORKING LIFE','ELDERLY WORKERS','SALARIES','LOW-WAGE WORKERS','WORKFORCE SINGAPORE', 'LABOUR ISSUES','ENTERPRISE SINGAPORE'], value='EMPLOYMENT')\n",
    "df[['Topic 1','Topic 2']] = df[['Topic 1','Topic 2']].replace(regex=['^.*LABOUR.*$','MAIDS','^.*WORKPLACE SAFETY.*$','FOREIGN WORKERS','CONSTRUCTION SECTOR','MINISTRY OF MANPOWER','WORKER WELFARE'], value='EMPLOYMENT')\n",
    "df[['Topic 1','Topic 2']] = df[['Topic 1','Topic 2']].replace(regex=['^.*CARE.*$',r'^.*CHAS \\(COMMUNITY HEALTH ASSIST SCHEME\\).*$'], value='HEALTH ASSISTANCE')\n",
    "df[['Topic 1','Topic 2']] = df[['Topic 1','Topic 2']].replace(regex=['^.*MENTAL.*$','^.*STRESS.*$','^.*OBSESSIVE COMPULSIVE.*$', 'MIND & BODY','^.*COUNSELLORS.*$'], value='MENTAL HEALTH')\n",
    "df[['Topic 1','Topic 2']] = df[['Topic 1','Topic 2']].replace(regex=['^.*HOSPITAL.*$','^.*HEALTH.*$','^.*MEDICAL.*$','^.*DOCTORS.*$','^.*PHAMA.*$', '^.*POLYCLINIC.*$'], value='DISEASES/HEALTH/HOSPITALS')\n",
    "df[['Topic 1','Topic 2']] = df[['Topic 1','Topic 2']].replace(regex=['^.*RETAIL.*$','^.*SHOPPING.*$','^.*MALL.*$', '^.*TRAVEL PLAN.*$', '^.*TRAVEL AND LEISURE.*$','^.*HOTEL.*$','^.*CONCERT.*$',r'\\bGSS\\b'], value='SHOPPING AND LEISURE')\n",
    "df[['Topic 1','Topic 2']] = df[['Topic 1','Topic 2']].replace(regex=['^.*JEWEL CHANGI.*$','^.*TOURISM.*$','^.*SENTOSA.*$','^.*GARDENS BY THE BAY.*$','^.*GRAND PRIX.*$','^.*FORMULA 1.*$','^.*MARINA BAY SAND.*$','^.*CASINO.*$','^.*BOTANIC GARDEN.*$', r'\\bZOO\\b'], value='SINGAPORE TOURISM/ATTRACTIONS')\n",
    "df[['Topic 1','Topic 2']] = df[['Topic 1','Topic 2']].replace(regex=['^.*NATIONAL DAY.*$',], value='SG NATIONAL HOLIDAY')\n",
    "df[['Topic 1','Topic 2']] = df[['Topic 1','Topic 2']].replace(regex=['^.*COMMUNITY.*$','GRASSROOTS ORGANISATIONS'], value='COMMUNITY')\n",
    "df[['Topic 1','Topic 2']] = df[['Topic 1','Topic 2']].replace(regex=['^.*YOUTHS.*$','^.*PARENT.*$','FAMILIES','MINISTRY OF SOCIAL AND FAMILY DEVELOPMENT','PREGNANCY','DIVORCES','RETIREMENT','CHILDCARE CENTRES','CONFINEMENT','MARRIAGES',r'FATHER\\'S DAY'], value='FAMILIY AND PARENTING')\n",
    "df[['Topic 1','Topic 2']] = df[['Topic 1','Topic 2']].replace(regex=['^.*HERITAGE.*$','^.*BICENTENNIAL.*$','MUSEUMS & GALLERIES','^.*HISTOR.*$'], value='SG HISTORY/HERITAGE')\n",
    "df[['Topic 1','Topic 2']] = df[['Topic 1','Topic 2']].replace(regex=['^.*POLYTECHNIC.*$','DESIGN EDUCATION','^.*SKILLS.*$','^.*KINDERGARTEN.*$', r'\\bITE\\b', '^.*LEARNING.*$','^.*SPECIAL NEEDS.*$','^.*SPECIAL EDUCATION.*$'], value='SCHOOLS AND EDUCATION')\n",
    "df[['Topic 1','Topic 2']] = df[['Topic 1','Topic 2']].replace(regex=['^.*SCHO.*$', '^.*UNIVERSIT.*$','^.*EDUCATION.*$', r'\\bNTU\\b', r'\\bNUS\\b', r'\\bSMU\\b', r'\\bSUTD\\b', '^.*PSLE.*$', 'YALE-NUS', 'SINGAPORE INSTITUTE OF TECHNOLOGY','^.*TEACHER.*$','JUNIOR COLLEGE','^.*ACADEMIC.*$','^.*PRIMARY.*$','SUBJECT-BASED BANDING'], value='SCHOOLS AND EDUCATION')\n",
    "df[['Topic 1','Topic 2']] = df[['Topic 1','Topic 2']].replace(regex=['^.*SINGAPORE ECONOMY.*$','SHARING ECONOMY','^.*ECONOMIC.*$',r'\\bMAS\\b','MINISTRY OF FINANCE','^.*TEMASEK HOL.*$',r'\\bEDB\\b', 'MINISTRY OF TRADE AND INDUSTRY','BUSINESS EXPANSION'], value='SG ECONOMY')\n",
    "df[['Topic 1','Topic 2']] = df[['Topic 1','Topic 2']].replace(regex=['^.*SG CONNECT.*$','^.*SINGAPORE POLITIC.*$','^.*FOREIGN POLICY.*$'], value='SG TIES')\n",
    "df[['Topic 1','Topic 2']] = df[['Topic 1','Topic 2']].replace(regex=['^.*CONDO.*$','^.*COST OF LIVING.*$',r'\\bCOE\\b','^.*HOUSING POLIC.*$','^.*PROPERTY.*$','^.*HOUSING.*$',r'\\bHDB.*$', '^.*RENTAL.*$','^.*RENOVATION.*$','^.*RESALE.*$','^.*LAND PLANNING.*$','^.*URBAN PLANNING.*$','^.*HOUSING POLIC.*$'],value='HOUSING, LIVING AND DEVELOPMENT')\n",
    "df[['Topic 1','Topic 2']] = df[['Topic 1','Topic 2']].replace(regex=[r'^.*PEOPLE\\'S ASSOCIATION.*$', '^.*ELECTION.*$','^.*SINGAPORE PARLIAMENT.*$',r'\\bPAP\\b','MEMBERS OF PARLIAMENT',r'WORKER\\'S PARTY',r'WORKERS\\' PARTY', r'AUDITOR-GENERAL\\'S OFFICE'], value='SG PARLIAMENT')\n",
    "df[['Topic 1','Topic 2']] = df[['Topic 1','Topic 2']].replace(regex=['^.*TRANSPORT.*$',r'\\bMRT\\b',r'\\bSBS.*$','^.*BUS.*$', r'\\bSMRT\\b','CROSS ISLAND LINE','^.*PERSONAL MOBILITY DEVICE.*$',r'\\bLTA\\b'], value='AIR/ROAD TRANSPORT AND POLICY')\n",
    "df[['Topic 1','Topic 2']] = df[['Topic 1','Topic 2']].replace(regex=['^.*GRAB.*$','COMFORTDELGRO','^.*TAXI.*$','RIDE-HAILING APP.*$','GOJEK','PRIVATE CAR SHARING'], value='PRIVATE CAR HIRE AND TAXIS')\n",
    "df[['Topic 1','Topic 2']] = df[['Topic 1','Topic 2']].replace(regex=['^.*AIRLINE.*$','^.*AIRPORT.*$','^.*AVIATION.*$','^.*CAAS.*$','^.*TRAVEL ADVISOR.*$','^.*AIRASIA.*$', '^.*AIR TRAFFIC CONTROL.*$','^.*AIRBUS.*$','^.*ROAD RULES.*$'], value='AIR/ROAD TRANSPORT AND POLICY')\n",
    "df[['Topic 1','Topic 2']] = df[['Topic 1','Topic 2']].replace(regex=[r'\\bICA\\b','^.*SECURITY ISSUE.*$','^.*DEFENCE.*$','^.*MINISTRY OF FOREIGN AFFAIRS.*$','^.*NATIONAL SERVICE.*$','^.*SINGAPORE ARMY.*$','^.*DIPLOM.*$','^.*INTERNAL SECURITY.*$',r'\\bSAF\\b'], value='NATIONAL DEFENCE AND SECURITY')\n",
    "df[['Topic 1','Topic 2']] = df[['Topic 1','Topic 2']].replace(regex=[r'\\bSCDF\\b',], value='ACCIDENTS')\n",
    "df[['Topic 1','Topic 2']] = df[['Topic 1','Topic 2']].replace(regex=['^.*HYGIENE.*$','^.*BACTERIA.*$','SINGAPORE FOOD AGENCY','AGRI-FOOD & VETERINARY AUTHORITY OF SINGAPORE'], value='HYGIENE')\n",
    "df[['Topic 1','Topic 2']] = df[['Topic 1','Topic 2']].replace(regex=['^.*CANCER.*$','^.*BLOOD.*$','^.*DIABETES.*$','^.*ILLNESS.*$', '^.*HEART.*$','STROKE','CHOLESTEROL','^.*DIALYSIS.*$','^.*HEPATITIS.*$','^.*DENGUE.*$','^.*MEASLES.*$','^.*MOSQUITO.*$','^.*AUTISM.*$','^.*ZIKA.*$','^.*OUTBREAKS AND.*$','^.*SUGAR.*$','^.*DISEASE.*$','DEMENTIA'], value='DISEASES/HEALTH/HOSPITALS')\n",
    "df[['Topic 1','Topic 2']] = df[['Topic 1','Topic 2']].replace(regex=['^.*CYCLING.*$','^.*EXERCISE.*$','^.*NUTRITION.*$','^.*FOOD SECURITY.*$','^.*DIET.*$','^.*MARATHON.*$','^.*HEALTHY FOR.*$','^.*HEALTH PROMOTION BOARD.*$','^.*CAR-LITE.*$','^.*CAR-FREE.*$'], value='EXERCISE AND NUTRITION')\n",
    "df[['Topic 1','Topic 2']] = df[['Topic 1','Topic 2']].replace(regex=['^.*MOBILE APP.*$', '^.*5G.*$','^.*FIBRE.*$','^.*INFOCOMM.*$','^.*SMARTPHONE.*$','^.*GOOGLE MAP.*$'], value='INFOCOMM TECHNOLOGY')\n",
    "df[['Topic 1','Topic 2']] = df[['Topic 1','Topic 2']].replace(regex=['^.*CYBER SECURITY.*$','^.*HACKING.*$','DATA BREACH.*$','^.*INTERNET.*$'], value='CYBERTECHNOLOGY')\n",
    "df[['Topic 1','Topic 2']] = df[['Topic 1','Topic 2']].replace(regex=['^.*ARTIFICIAL INTELLIGENCE.*$','^.*DIGITALISATION.*$','^.*ROBOT.*$','^.*AUGMENTED REALITY.*$','^.*3D.*$','^.*AUTOMATION.*$', '^.*SMART NATION.*$','^.*SMART CIT.*$','^.*CASHLESS SYSTEM.*$'], value='DIGITALISATION, AUTOMATION AND ML')\n",
    "df[['Topic 1','Topic 2']] = df[['Topic 1','Topic 2']].replace(regex=['^.*DRONE.*$','TECHNOLOGY AND RESEARCH','TECHNOLOGY SECTOR',r'A\\*STAR','^.*INNOVATION.*$'], value='TECHNOLOGY AND RESEARCH')\n",
    "df[['Topic 1','Topic 2']] = df[['Topic 1','Topic 2']].replace(regex=['^.*AGEING.*$','^.*ELDER.*$','^.*SENIOR CITIZEN.*$', '^.*MERDEKA.*$'], value='ELDERLY AND AGEING POPULATION')\n",
    "\n",
    "Govt = ['LEE HSIEN LOONG', 'HALIMAH YACOB','HENG SWEE KEAT','NG ENG HEN','K SHANMUGAM','AMY KHOR','JOSEPHINE TEO','KHAW BOON WAN','MASAGOS ZULKIFLI','CHAN CHUN SING','ONG YE KUNG','TEO CHEE HEAN','LAM PIN MIN','GOH CHOK TONG','LAWRENCE WONG','SUN XUELING','^.*LEE BEE WAH.*$','^.*HENG CHEE HOW.*$','YAACOB IBRAHIM','CHIAM SEE TONG','VIVIAN BALAKRISHNAN','PRITAM SINGH','MUHAMMAD FAISHAL IBRAHIM','NG CHEE MENG','CHEE HONG TAT','EDWIN TONG','TAN CHUAN-JIN','GRACE FU','DESMOND CHOO','GAN KIM YONG','BAEY YAM KENG','LEE KUAN YEW','THARMAN SHANMUGARATNAM']\n",
    "df['Topic 1'] = np.where(df['Topic 1'].isin(Govt),df['Topic 2'],df['Topic 1'])\n",
    "df['Article Content'] = preprocess_content(df['Article Content'])"
   ]
  },
  {
   "cell_type": "code",
   "execution_count": 41,
   "metadata": {},
   "outputs": [],
   "source": [
    "df['Article Content'] = df['Article Content'].apply(lambda x: ' '.join([w for w in x.split() if len(w)>2]))\n",
    "Article_content = [remove_stopwords(r.split()) for r in df['Article Content']]\n",
    "\n",
    "tokenized_contents = pd.Series(Article_content).apply(lambda x: x.split())\n",
    "lemmatized_contents = lemmatization(tokenized_contents)\n",
    "\n",
    "Article_content_clean = []\n",
    "for i in range(len(lemmatized_contents)):\n",
    "    Article_content_clean.append(' '.join(lemmatized_contents[i]))\n",
    "    \n",
    "df['clean_contents'] = Article_content_clean\n",
    "df['Clean Content'] = lemmatized_contents\n",
    "\n",
    "#df.drop(columns=['Topic 2'],axis=1,inplace=True)\n",
    "\n",
    "df = df[df['Topic 1'] != 'OTHERS']\n",
    "df = df[df['Topic 1'] != 'SG NATIONAL HOLIDAY']\n",
    "df = df[df['Topic 1'] != 'ST PODCASTS']"
   ]
  },
  {
   "cell_type": "code",
   "execution_count": 42,
   "metadata": {},
   "outputs": [],
   "source": [
    "Test_X = df['clean_contents']\n",
    "Test_Y = df['Topic 1']"
   ]
  },
  {
   "cell_type": "code",
   "execution_count": 43,
   "metadata": {},
   "outputs": [],
   "source": [
    "Tfidf_vect = TfidfVectorizer(lowercase=True, min_df=5,max_df=0.9)\n",
    "Tfidf_vect.fit(Train_X)\n",
    "\n",
    "Train_X_Tfidf = Tfidf_vect.transform(Train_X)\n",
    "Test_X_Tfidf = Tfidf_vect.transform(Test_X)"
   ]
  },
  {
   "cell_type": "code",
   "execution_count": 44,
   "metadata": {},
   "outputs": [],
   "source": [
    "SVM = svm.SVC(C=1.5, kernel='linear', degree=3,gamma=0.01,random_state=1)\n",
    "SVM.fit(Train_X_Tfidf,Train_Y)\n",
    "# predict the labels on validation dataset\n",
    "predictions_SVM = SVM.predict(Test_X_Tfidf)\n",
    "# Use accuracy_score function to get the accuracy\n",
    "#print(\"SVM Accuracy Score -> \",accuracy_score(predictions_SVM, Test_Y)*100)"
   ]
  },
  {
   "cell_type": "code",
   "execution_count": 46,
   "metadata": {},
   "outputs": [],
   "source": [
    "test_check = pd.concat([df[['Article Title','Article Content','Topic 1']],pd.DataFrame(predictions_SVM)], axis=1,ignore_index=True)\n",
    "test_check = test_check.rename(columns={0:\"Article Title\",1:\"Article Content\",2:\"Straits Times Topics\",3:\"SVM Predictions\"})"
   ]
  },
  {
   "cell_type": "code",
   "execution_count": 47,
   "metadata": {
    "scrolled": false
   },
   "outputs": [
    {
     "data": {
      "text/html": [
       "<div>\n",
       "<style scoped>\n",
       "    .dataframe tbody tr th:only-of-type {\n",
       "        vertical-align: middle;\n",
       "    }\n",
       "\n",
       "    .dataframe tbody tr th {\n",
       "        vertical-align: top;\n",
       "    }\n",
       "\n",
       "    .dataframe thead th {\n",
       "        text-align: right;\n",
       "    }\n",
       "</style>\n",
       "<table border=\"1\" class=\"dataframe\">\n",
       "  <thead>\n",
       "    <tr style=\"text-align: right;\">\n",
       "      <th></th>\n",
       "      <th>Article Title</th>\n",
       "      <th>Article Content</th>\n",
       "      <th>Straits Times Topics</th>\n",
       "      <th>SVM Predictions</th>\n",
       "    </tr>\n",
       "  </thead>\n",
       "  <tbody>\n",
       "    <tr>\n",
       "      <th>0</th>\n",
       "      <td>Seafood restaurant in Punggol stops using live crab claw machine after public outcry</td>\n",
       "      <td>The seafood restaurant Punggol has stopped using machine where customers can catch their own live Sri Lankan crabs Thursday the House Seafood restaurant said Facebook that has stopped using the machine temporarily and apologised for causing public unhappiness over its gimmick The turn came day after was called out Facebook Society for the Prevention Cruelty Animals being cruel the crabs the machine inflicted unnecessary harm and distress the crab will dropped from height the claw did not int...</td>\n",
       "      <td>ENVIRONMENT AND NATURE</td>\n",
       "      <td>ENVIRONMENT AND NATURE</td>\n",
       "    </tr>\n",
       "    <tr>\n",
       "      <th>2</th>\n",
       "      <td>Skills framework launched for workplace safety and health officers</td>\n",
       "      <td>Workplace safety and health officers will now get clearer idea the skills needed for their job and how they can progress their careers skills framework for such officers was launched Minister for Manpower Josephine Teo Thursday the Workplace Safety and Health Officers Conference held the Marina Bay Sands Expo and Convention Centre The framework provides key information the workplace safety and health sector the career pathways available those the industry and the possible job roles they can ...</td>\n",
       "      <td>EMPLOYMENT</td>\n",
       "      <td>EMPLOYMENT</td>\n",
       "    </tr>\n",
       "    <tr>\n",
       "      <th>13</th>\n",
       "      <td>SUTD students challenged to turn problems into opportunities through interdisciplinary studies</td>\n",
       "      <td>Students the Singapore University Technology and Design have been challenged Deputy Prime Minister and Finance Minister Heng Swee Keat make Singapore better nation design through their interdisciplinary studies that can turn national and global challenges into opportunities Speaking the university anniversary gala dinner Wednesday Heng said SUTD students whose curriculum integrates systems and design thinking are well placed help Singapore deal with challenges such climate change growing the...</td>\n",
       "      <td>SCHOOLS AND EDUCATION</td>\n",
       "      <td>SCHOOLS AND EDUCATION</td>\n",
       "    </tr>\n",
       "    <tr>\n",
       "      <th>18</th>\n",
       "      <td>Devotee in stable condition after falling into fire pit while fulfilling vows: HEB and temple</td>\n",
       "      <td>devotee tripped and fell into fire pit while fulfilling his vows Sunday the Sri Mariamman Temple Chinatown the Hindu Endowments Board and the temple said Tuesday many seven rescuers quickly attended the devotee and medical team rushed him the Singapore General Hospital The devotee stable condition The temple management has also visited him hospital and will continue monitor his progress the board and the temple said Facebook post Tuesday Two people who helped him also suffered injuries durin...</td>\n",
       "      <td>RACE AND RELIGION</td>\n",
       "      <td>ACCIDENTS</td>\n",
       "    </tr>\n",
       "    <tr>\n",
       "      <th>62</th>\n",
       "      <td>GrabFood looking into video of delivery rider using PMD on PIE</td>\n",
       "      <td>Delivery service GrabFood looking into incident which rider was seen using his personal mobility device expressway video posted Facebook man wearing GrabFood shirt seen riding scooter the Pan Island Expressway Facebook user Kurt Guo who posted the clip said that saw the rider the PIE the Upper Serangoon Road exit about Saturday the seven second video the PMD rider seen chevron road marking the expressway checking for traffic before riding across the road towards the Kallang Park Connector Gr...</td>\n",
       "      <td>PRIVATE CAR HIRE AND TAXIS</td>\n",
       "      <td>LAW, LEGISLATION AND CRIME</td>\n",
       "    </tr>\n",
       "  </tbody>\n",
       "</table>\n",
       "</div>"
      ],
      "text/plain": [
       "                                                                                     Article Title  \\\n",
       "0             Seafood restaurant in Punggol stops using live crab claw machine after public outcry   \n",
       "2                               Skills framework launched for workplace safety and health officers   \n",
       "13  SUTD students challenged to turn problems into opportunities through interdisciplinary studies   \n",
       "18   Devotee in stable condition after falling into fire pit while fulfilling vows: HEB and temple   \n",
       "62                                  GrabFood looking into video of delivery rider using PMD on PIE   \n",
       "\n",
       "                                                                                                                                                                                                                                                                                                                                                                                                                                                                                                        Article Content  \\\n",
       "0   The seafood restaurant Punggol has stopped using machine where customers can catch their own live Sri Lankan crabs Thursday the House Seafood restaurant said Facebook that has stopped using the machine temporarily and apologised for causing public unhappiness over its gimmick The turn came day after was called out Facebook Society for the Prevention Cruelty Animals being cruel the crabs the machine inflicted unnecessary harm and distress the crab will dropped from height the claw did not int...   \n",
       "2   Workplace safety and health officers will now get clearer idea the skills needed for their job and how they can progress their careers skills framework for such officers was launched Minister for Manpower Josephine Teo Thursday the Workplace Safety and Health Officers Conference held the Marina Bay Sands Expo and Convention Centre The framework provides key information the workplace safety and health sector the career pathways available those the industry and the possible job roles they can ...   \n",
       "13  Students the Singapore University Technology and Design have been challenged Deputy Prime Minister and Finance Minister Heng Swee Keat make Singapore better nation design through their interdisciplinary studies that can turn national and global challenges into opportunities Speaking the university anniversary gala dinner Wednesday Heng said SUTD students whose curriculum integrates systems and design thinking are well placed help Singapore deal with challenges such climate change growing the...   \n",
       "18  devotee tripped and fell into fire pit while fulfilling his vows Sunday the Sri Mariamman Temple Chinatown the Hindu Endowments Board and the temple said Tuesday many seven rescuers quickly attended the devotee and medical team rushed him the Singapore General Hospital The devotee stable condition The temple management has also visited him hospital and will continue monitor his progress the board and the temple said Facebook post Tuesday Two people who helped him also suffered injuries durin...   \n",
       "62  Delivery service GrabFood looking into incident which rider was seen using his personal mobility device expressway video posted Facebook man wearing GrabFood shirt seen riding scooter the Pan Island Expressway Facebook user Kurt Guo who posted the clip said that saw the rider the PIE the Upper Serangoon Road exit about Saturday the seven second video the PMD rider seen chevron road marking the expressway checking for traffic before riding across the road towards the Kallang Park Connector Gr...   \n",
       "\n",
       "          Straits Times Topics             SVM Predictions  \n",
       "0       ENVIRONMENT AND NATURE      ENVIRONMENT AND NATURE  \n",
       "2                   EMPLOYMENT                  EMPLOYMENT  \n",
       "13       SCHOOLS AND EDUCATION       SCHOOLS AND EDUCATION  \n",
       "18           RACE AND RELIGION                   ACCIDENTS  \n",
       "62  PRIVATE CAR HIRE AND TAXIS  LAW, LEGISLATION AND CRIME  "
      ]
     },
     "execution_count": 47,
     "metadata": {},
     "output_type": "execute_result"
    }
   ],
   "source": [
    "pd.set_option(\"display.max_colwidth\", 500)\n",
    "test_check.iloc[[0,2,13,18,62]] #Articles to be shown on slides (Same throughout)"
   ]
  }
 ],
 "metadata": {
  "kernelspec": {
   "display_name": "Python 3",
   "language": "python",
   "name": "python3"
  },
  "language_info": {
   "codemirror_mode": {
    "name": "ipython",
    "version": 3
   },
   "file_extension": ".py",
   "mimetype": "text/x-python",
   "name": "python",
   "nbconvert_exporter": "python",
   "pygments_lexer": "ipython3",
   "version": "3.7.5"
  }
 },
 "nbformat": 4,
 "nbformat_minor": 2
}
