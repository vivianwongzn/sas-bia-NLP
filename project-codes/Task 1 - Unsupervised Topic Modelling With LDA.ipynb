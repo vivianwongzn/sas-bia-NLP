{
 "cells": [
  {
   "cell_type": "code",
   "execution_count": 1,
   "metadata": {
    "scrolled": true
   },
   "outputs": [
    {
     "name": "stderr",
     "output_type": "stream",
     "text": [
      "C:\\Users\\wongzn\\AppData\\Local\\Continuum\\anaconda3\\lib\\site-packages\\nltk\\decorators.py:70: DeprecationWarning: `formatargspec` is deprecated since Python 3.5. Use `signature` and the `Signature` object directly\n",
      "  formatvalue=lambda value: \"\")[1:-1]\n"
     ]
    }
   ],
   "source": [
    "import pandas as pd\n",
    "import numpy as np\n",
    "import re\n",
    "import gensim\n",
    "from gensim import corpora\n",
    "from gensim.utils import simple_preprocess\n",
    "from gensim.models import CoherenceModel\n",
    "import spacy\n",
    "import pyLDAvis\n",
    "#import pyLDAvis.gensim\n",
    "import matplotlib.pyplot as plt\n",
    "import nltk\n",
    "from nltk.corpus import stopwords\n",
    "from nltk import FreqDist\n",
    "from gensim.models.phrases import Phrases, Phraser\n",
    "\n",
    "pd.set_option(\"display.max_colwidth\", 500)\n",
    "\n",
    "%matplotlib inline"
   ]
  },
  {
   "cell_type": "markdown",
   "metadata": {},
   "source": [
    "# Reading Data"
   ]
  },
  {
   "cell_type": "code",
   "execution_count": 2,
   "metadata": {},
   "outputs": [],
   "source": [
    "df = pd.read_csv('C:/Users/wongzn/Desktop/Transfer/df.csv')"
   ]
  },
  {
   "cell_type": "code",
   "execution_count": 3,
   "metadata": {
    "scrolled": true
   },
   "outputs": [
    {
     "data": {
      "text/html": [
       "<div>\n",
       "<style scoped>\n",
       "    .dataframe tbody tr th:only-of-type {\n",
       "        vertical-align: middle;\n",
       "    }\n",
       "\n",
       "    .dataframe tbody tr th {\n",
       "        vertical-align: top;\n",
       "    }\n",
       "\n",
       "    .dataframe thead th {\n",
       "        text-align: right;\n",
       "    }\n",
       "</style>\n",
       "<table border=\"1\" class=\"dataframe\">\n",
       "  <thead>\n",
       "    <tr style=\"text-align: right;\">\n",
       "      <th></th>\n",
       "      <th>Article Content</th>\n",
       "      <th>Article Link</th>\n",
       "      <th>Article Title</th>\n",
       "      <th>Topics</th>\n",
       "    </tr>\n",
       "  </thead>\n",
       "  <tbody>\n",
       "    <tr>\n",
       "      <th>0</th>\n",
       "      <td>SINGAPORE - A 21-year-old Malaysian suspect was arrested at the junction of Shenton Way and Maxwell Road last Thursday (Aug 1) after he allegedly disposed of a plastic bag containing 336g of Ice at a carpark in the vicinity of Orchard Towers. Officers from the Central Narcotics Bureau (CNB) had spotted him hopping onto his motorcycle in the carpark to make a hasty exit. They also recovered the plastic bag which contained 336g of Ice, valued at $33,000. This amount can feed the addiction of a...</td>\n",
       "      <td>https://www.straitstimes.com/singapore/suspected-drug-offender-arrested-at-shenton-way-junction-after-attempting-hasty-getaway-on</td>\n",
       "      <td>Malaysian drug suspect arrested at Shenton Way junction after attempting hasty getaway on motorbike</td>\n",
       "      <td>CENTRAL NARCOTICS BUREAU, DRUG OFFENCES</td>\n",
       "    </tr>\n",
       "    <tr>\n",
       "      <th>1</th>\n",
       "      <td>SINGAPORE - When entering a pool of water, a person who does not know how to swim might not know to breathe in before entering, and to exhale slightly while submerged. As a result, it is possible he might inhale water while submerged. Forensic pathologist George Paul was pointing this out as he testified on Friday (June 14) in the ongoing trial of two commanders of the Singapore Civil Defence Force (SCDF) linked with the drowning of full-time national serviceman Corporal Kok Yuen Chin, which...</td>\n",
       "      <td>https://www.straitstimes.com/singapore/courts-crime/scdf-ragging-incident-non-swimmers-might-not-know-how-to-react-when-entering</td>\n",
       "      <td>SCDF ragging death: Being submerged in dark, confined well could be dangerous even for a swimmer, says expert</td>\n",
       "      <td>SCDF, COURT TRIALS</td>\n",
       "    </tr>\n",
       "    <tr>\n",
       "      <th>2</th>\n",
       "      <td>SINGAPORE – The Republic should leverage on technology such as virtual simulation systems to better integrate people with special needs, including students, into society, said President Halimah Yacob. Speaking to reporters during a visit on Thursday (May 23) to Metta School, which caters to students from age 7 to 21 who have mild intellectual disability and autism, she said this should be done as part of the country’s Smart Nation push, which is a national effort to support better living usi...</td>\n",
       "      <td>https://www.straitstimes.com/singapore/education/use-technology-to-help-special-needs-students-integrate-as-part-of-smart-nation</td>\n",
       "      <td>Use technology to help people with special needs integrate as part of Smart Nation push: President Halimah</td>\n",
       "      <td>SPECIAL NEEDS/SPECIAL EDUCATION, HALIMAH YACOB, SPECIAL EDUCATION SCHOOL, SMART CITIES</td>\n",
       "    </tr>\n",
       "  </tbody>\n",
       "</table>\n",
       "</div>"
      ],
      "text/plain": [
       "                                                                                                                                                                                                                                                                                                                                                                                                                                                                                                       Article Content  \\\n",
       "0  SINGAPORE - A 21-year-old Malaysian suspect was arrested at the junction of Shenton Way and Maxwell Road last Thursday (Aug 1) after he allegedly disposed of a plastic bag containing 336g of Ice at a carpark in the vicinity of Orchard Towers. Officers from the Central Narcotics Bureau (CNB) had spotted him hopping onto his motorcycle in the carpark to make a hasty exit. They also recovered the plastic bag which contained 336g of Ice, valued at $33,000. This amount can feed the addiction of a...   \n",
       "1  SINGAPORE - When entering a pool of water, a person who does not know how to swim might not know to breathe in before entering, and to exhale slightly while submerged. As a result, it is possible he might inhale water while submerged. Forensic pathologist George Paul was pointing this out as he testified on Friday (June 14) in the ongoing trial of two commanders of the Singapore Civil Defence Force (SCDF) linked with the drowning of full-time national serviceman Corporal Kok Yuen Chin, which...   \n",
       "2  SINGAPORE – The Republic should leverage on technology such as virtual simulation systems to better integrate people with special needs, including students, into society, said President Halimah Yacob. Speaking to reporters during a visit on Thursday (May 23) to Metta School, which caters to students from age 7 to 21 who have mild intellectual disability and autism, she said this should be done as part of the country’s Smart Nation push, which is a national effort to support better living usi...   \n",
       "\n",
       "                                                                                                                        Article Link  \\\n",
       "0  https://www.straitstimes.com/singapore/suspected-drug-offender-arrested-at-shenton-way-junction-after-attempting-hasty-getaway-on   \n",
       "1   https://www.straitstimes.com/singapore/courts-crime/scdf-ragging-incident-non-swimmers-might-not-know-how-to-react-when-entering   \n",
       "2   https://www.straitstimes.com/singapore/education/use-technology-to-help-special-needs-students-integrate-as-part-of-smart-nation   \n",
       "\n",
       "                                                                                                    Article Title  \\\n",
       "0             Malaysian drug suspect arrested at Shenton Way junction after attempting hasty getaway on motorbike   \n",
       "1   SCDF ragging death: Being submerged in dark, confined well could be dangerous even for a swimmer, says expert   \n",
       "2      Use technology to help people with special needs integrate as part of Smart Nation push: President Halimah   \n",
       "\n",
       "                                                                                   Topics  \n",
       "0                                                 CENTRAL NARCOTICS BUREAU, DRUG OFFENCES  \n",
       "1                                                                      SCDF, COURT TRIALS  \n",
       "2  SPECIAL NEEDS/SPECIAL EDUCATION, HALIMAH YACOB, SPECIAL EDUCATION SCHOOL, SMART CITIES  "
      ]
     },
     "execution_count": 3,
     "metadata": {},
     "output_type": "execute_result"
    }
   ],
   "source": [
    "df.head(3)"
   ]
  },
  {
   "cell_type": "code",
   "execution_count": 4,
   "metadata": {
    "scrolled": true
   },
   "outputs": [],
   "source": [
    "def freq_words(x, terms=30):\n",
    "    all_words =' '.join([text for text in x])\n",
    "    all_words = all_words.split\n",
    "    all_words = (x.lower for x in all_words)\n",
    "    fdist = FreqDist(all_words)\n",
    "    words_df = pd.DataFrame({'word':list(fdist.keys()),'count':list(fdist.values())})\n",
    "    d = words_df.nlargest(columns=\"count\",n=terms)\n",
    "    plt.figure(figsize=(20,5))\n",
    "    ax=sns.barplot(data=d,x=\"word\",y=\"count\")\n",
    "    ax.set(ylabel='Count')\n",
    "    plt.show()"
   ]
  },
  {
   "cell_type": "markdown",
   "metadata": {},
   "source": [
    "# Preprocessing"
   ]
  },
  {
   "cell_type": "code",
   "execution_count": 5,
   "metadata": {},
   "outputs": [],
   "source": [
    "def preprocess_content(column):\n",
    "    #column = column.apply(lambda x: re.sub(r'SINGAPORE -', ' ', x))\n",
    "    #column = column.apply(lambda x: re.sub(r'SINGAPORE', ' ', x, flags=re.IGNORECASE))\n",
    "    column = column.apply(lambda x: re.sub(r'\\([^)]*\\)', '',x)) #remove (anything in brackets)\n",
    "    column = column.apply(lambda x: re.sub(r'\\d{2}[/-]\\w{4}[/-]\\w{3,4}', '',x)) #remove(xx-year-old)\n",
    "    column = column.apply(lambda x: re.sub(r'straits times','',x, flags=re.IGNORECASE))\n",
    "    column = column.apply(lambda x: re.sub(r'per cent','',x, flags=re.IGNORECASE))\n",
    "    #column = column.apply(lambda x: re.sub(r'cpl kok yuen chin','',x, flags=re.IGNORECASE))\n",
    "    #column = column.apply(lambda x: re.sub(r'cpl kok','',x, flags=re.IGNORECASE))\n",
    "    #column = column.apply(lambda x: re.sub(r'[^a-zA-z\\s]', ' ', x)) #removing digits and special characters (punctuations)\n",
    "    #column = column.apply(lambda x: x.lower()) #convert to lowercase\n",
    "    column = column.apply(lambda x: re.sub('\\n','',x))\n",
    "    return column\n",
    "\n",
    "df['Article Content'] = preprocess_content(df['Article Content'])"
   ]
  },
  {
   "cell_type": "code",
   "execution_count": 6,
   "metadata": {},
   "outputs": [],
   "source": [
    "nlp = spacy.load('en_core_web_sm')\n",
    "stop_words = spacy.lang.en.stop_words.STOP_WORDS\n",
    "add_words = [\"singapore\",\"said\",\"also\",\"year\",\"month\", \"time\", \"last\", \"years\"]\n",
    "stop_words.update(add_words)"
   ]
  },
  {
   "cell_type": "code",
   "execution_count": 7,
   "metadata": {},
   "outputs": [],
   "source": [
    "def tokenize_words(column):\n",
    "    for word in column:\n",
    "        yield(gensim.utils.simple_preprocess(str(word),deacc=True))"
   ]
  },
  {
   "cell_type": "code",
   "execution_count": 8,
   "metadata": {},
   "outputs": [],
   "source": [
    "data_words = list(tokenize_words(df['Article Content']))"
   ]
  },
  {
   "cell_type": "code",
   "execution_count": 9,
   "metadata": {},
   "outputs": [],
   "source": [
    "bigram = Phrases(data_words,min_count=3, threshold=100) #increasing threshold decreases phrases\n",
    "trigram = Phrases(bigram[data_words], threshold=100)"
   ]
  },
  {
   "cell_type": "code",
   "execution_count": 10,
   "metadata": {},
   "outputs": [],
   "source": [
    "bigram_mod = Phraser(bigram)\n",
    "trigram_mod = Phraser(trigram)"
   ]
  },
  {
   "cell_type": "code",
   "execution_count": 11,
   "metadata": {},
   "outputs": [],
   "source": [
    "nlp = spacy.load('en_core_web_sm', disable=['parser', 'ner'])"
   ]
  },
  {
   "cell_type": "code",
   "execution_count": 12,
   "metadata": {},
   "outputs": [],
   "source": [
    "def make_bigrams(texts):\n",
    "    return [bigram_mod[doc] for doc in texts]\n",
    "\n",
    "def make_trigrams(texts):\n",
    "    return [trigram_mod[bigram_mod[doc]] for doc in texts]\n",
    "\n",
    "def lemmatization(texts, allowed_postags=['NOUN', 'ADJ', 'VERB', 'ADV']):\n",
    "    texts_out = []\n",
    "    for sent in texts:\n",
    "        doc = nlp(\" \".join(sent))\n",
    "        texts_out.append([token.lemma_ for token in doc if token.pos_ in allowed_postags])\n",
    "    return texts_out\n",
    "\n",
    "def remove_stopwords(texts):\n",
    "    return [[word for word in simple_preprocess(str(doc)) if word.lower() not in stop_words] for doc in texts]"
   ]
  },
  {
   "cell_type": "code",
   "execution_count": 13,
   "metadata": {},
   "outputs": [],
   "source": [
    "data_words_bigrams = make_bigrams(remove_stopwords(data_words))"
   ]
  },
  {
   "cell_type": "code",
   "execution_count": 14,
   "metadata": {},
   "outputs": [],
   "source": [
    "data_lemmatized = lemmatization(data_words_bigrams, allowed_postags=['NOUN','ADJ','VERB'])"
   ]
  },
  {
   "cell_type": "code",
   "execution_count": 15,
   "metadata": {},
   "outputs": [],
   "source": [
    "data_words_nostops = remove_stopwords(data_lemmatized)"
   ]
  },
  {
   "cell_type": "code",
   "execution_count": 16,
   "metadata": {},
   "outputs": [],
   "source": [
    "# Create Dictionary\n",
    "id2word = corpora.Dictionary(data_words_nostops)\n",
    "\n",
    "# Create Corpus\n",
    "texts = data_words_nostops\n",
    "\n",
    "# Term Document Frequency\n",
    "corpus = [id2word.doc2bow(text) for text in texts]"
   ]
  },
  {
   "cell_type": "markdown",
   "metadata": {},
   "source": [
    "# GridSearch Gensim"
   ]
  },
  {
   "cell_type": "code",
   "execution_count": 17,
   "metadata": {},
   "outputs": [],
   "source": [
    "def compute_coherence_values(dictionary, corpus, texts, limit, start=2, step=3):\n",
    "    coherence_values = []\n",
    "    model_list = []\n",
    "    for num_topics in range(start, limit, step):\n",
    "        model = gensim.models.ldamodel.LdaModel(random_state=1, passes=100, alpha='auto',corpus=corpus, num_topics=num_topics, id2word=id2word)\n",
    "        model_list.append(model)\n",
    "        coherencemodel = CoherenceModel(model=model, texts=texts, dictionary=dictionary, coherence='c_v')\n",
    "        coherence_values.append(coherencemodel.get_coherence())\n",
    "    return model_list, coherence_values"
   ]
  },
  {
   "cell_type": "code",
   "execution_count": 18,
   "metadata": {},
   "outputs": [],
   "source": [
    "model_list, coherence_values = compute_coherence_values(dictionary=id2word, corpus=corpus, texts=data_words_nostops, start=5, limit=40, step=1)"
   ]
  },
  {
   "cell_type": "code",
   "execution_count": 20,
   "metadata": {
    "scrolled": false
   },
   "outputs": [
    {
     "name": "stdout",
     "output_type": "stream",
     "text": [
      "Num Topics = 5  has Coherence Value of 0.424\n",
      "Num Topics = 6  has Coherence Value of 0.4252\n",
      "Num Topics = 7  has Coherence Value of 0.4411\n",
      "Num Topics = 8  has Coherence Value of 0.4511\n",
      "Num Topics = 9  has Coherence Value of 0.476\n",
      "Num Topics = 10  has Coherence Value of 0.4656\n",
      "Num Topics = 11  has Coherence Value of 0.4835\n",
      "Num Topics = 12  has Coherence Value of 0.4672\n",
      "Num Topics = 13  has Coherence Value of 0.5135\n",
      "Num Topics = 14  has Coherence Value of 0.5146\n",
      "Num Topics = 15  has Coherence Value of 0.4988\n",
      "Num Topics = 16  has Coherence Value of 0.4747\n",
      "Num Topics = 17  has Coherence Value of 0.4838\n",
      "Num Topics = 18  has Coherence Value of 0.4707\n",
      "Num Topics = 19  has Coherence Value of 0.4872\n",
      "Num Topics = 20  has Coherence Value of 0.4847\n",
      "Num Topics = 21  has Coherence Value of 0.4919\n",
      "Num Topics = 22  has Coherence Value of 0.489\n",
      "Num Topics = 23  has Coherence Value of 0.4921\n",
      "Num Topics = 24  has Coherence Value of 0.4919\n",
      "Num Topics = 25  has Coherence Value of 0.4857\n",
      "Num Topics = 26  has Coherence Value of 0.4868\n",
      "Num Topics = 27  has Coherence Value of 0.4698\n",
      "Num Topics = 28  has Coherence Value of 0.4963\n",
      "Num Topics = 29  has Coherence Value of 0.4965\n",
      "Num Topics = 30  has Coherence Value of 0.4753\n",
      "Num Topics = 31  has Coherence Value of 0.4707\n",
      "Num Topics = 32  has Coherence Value of 0.4682\n",
      "Num Topics = 33  has Coherence Value of 0.4535\n",
      "Num Topics = 34  has Coherence Value of 0.4581\n",
      "Num Topics = 35  has Coherence Value of 0.4735\n",
      "Num Topics = 36  has Coherence Value of 0.4608\n",
      "Num Topics = 37  has Coherence Value of 0.4621\n",
      "Num Topics = 38  has Coherence Value of 0.4616\n",
      "Num Topics = 39  has Coherence Value of 0.4542\n"
     ]
    }
   ],
   "source": [
    "for m, cv in zip(x, coherence_values):\n",
    "    print(\"Num Topics =\", m, \" has Coherence Value of\", round(cv, 4))"
   ]
  },
  {
   "cell_type": "code",
   "execution_count": 19,
   "metadata": {},
   "outputs": [
    {
     "data": {
      "image/png": "[encoded data removed]",
      "text/plain": [
       "<Figure size 432x288 with 1 Axes>"
      ]
     },
     "metadata": {
      "needs_background": "light"
     },
     "output_type": "display_data"
    }
   ],
   "source": [
    "limit=40; start=5; step=1;\n",
    "x = range(start, limit, step)\n",
    "plt.plot(x, coherence_values)\n",
    "plt.xlabel(\"Num Topics\")\n",
    "plt.ylabel(\"Coherence score\")\n",
    "plt.legend((\"coherence_values\"), loc='best')\n",
    "plt.show()"
   ]
  },
  {
   "cell_type": "code",
   "execution_count": 24,
   "metadata": {
    "scrolled": true
   },
   "outputs": [],
   "source": [
    "optimal_model = model_list[9]\n",
    "model_topics = optimal_model.show_topics(formatted=False)\n",
    "#optimal_model.print_topics()"
   ]
  },
  {
   "cell_type": "code",
   "execution_count": 27,
   "metadata": {},
   "outputs": [],
   "source": [
    "from gensim.test.utils import datapath\n",
    "\n",
    "temp_file = datapath(\"C:/Users/wongzn/Desktop/LDA_model\")\n",
    "optimal_model.save(temp_file)\n",
    "lda = gensim.models.ldamodel.LdaModel.load(temp_file)"
   ]
  },
  {
   "cell_type": "markdown",
   "metadata": {},
   "source": [
    "# Getting Dominant Topic"
   ]
  },
  {
   "cell_type": "code",
   "execution_count": 28,
   "metadata": {},
   "outputs": [],
   "source": [
    "def format_topics_sentences(ldamodel=optimal_model, corpus=corpus, texts=data_lemmatized):\n",
    "    sent_topics_df = pd.DataFrame()\n",
    "    # Get main topic in each document\n",
    "    for i, row in enumerate(ldamodel[corpus]):\n",
    "        row = sorted(row, key=lambda x: (x[1]), reverse=True)\n",
    "        # Get the Dominant topic, Perc Contribution and Keywords for each document\n",
    "        for j, (topic_num, prop_topic) in enumerate(row):\n",
    "            if j == 0:  # => dominant topic\n",
    "                wp = ldamodel.show_topic(topic_num)\n",
    "                topic_keywords = \", \".join([word for word, prop in wp])\n",
    "                sent_topics_df = sent_topics_df.append(pd.Series([int(topic_num), round(prop_topic,4), topic_keywords]), ignore_index=True)\n",
    "            else:\n",
    "                break\n",
    "    sent_topics_df.columns = ['Dominant_Topic', 'Perc_Contribution', 'Topic_Keywords']\n",
    "    contents = pd.Series(texts)\n",
    "    sent_topics_df = pd.concat([sent_topics_df, contents], axis=1)\n",
    "    return(sent_topics_df)"
   ]
  },
  {
   "cell_type": "code",
   "execution_count": 29,
   "metadata": {},
   "outputs": [],
   "source": [
    "df_topic_sents_keywords = format_topics_sentences(ldamodel=optimal_model, corpus=corpus, texts=data_words_nostops)"
   ]
  },
  {
   "cell_type": "code",
   "execution_count": 30,
   "metadata": {},
   "outputs": [],
   "source": [
    "df_dominant_topic = df_topic_sents_keywords.reset_index()\n",
    "df_dominant_topic.columns = ['Document_No', 'Dominant_Topic', 'Topic_Perc_Contrib', 'Keywords', 'Text']\n",
    "df_view = pd.concat([df_dominant_topic,df['Topics']],axis=1)"
   ]
  },
  {
   "cell_type": "code",
   "execution_count": 53,
   "metadata": {},
   "outputs": [],
   "source": [
    "df_view.Dominant_Topic.replace(0,'Unknown',inplace=True)\n",
    "df_view.Dominant_Topic.replace(1,'Education and Community (Care and Support)',inplace=True)\n",
    "df_view.Dominant_Topic.replace(2,'Issues in Society',inplace=True)\n",
    "df_view.Dominant_Topic.replace(3,'Crime',inplace=True)\n",
    "df_view.Dominant_Topic.replace(4,'Air and Road Transport',inplace=True)\n",
    "df_view.Dominant_Topic.replace(5,'Diseases and Healthcare',inplace=True)\n",
    "df_view.Dominant_Topic.replace(6,'Road Safety and PMD (Related News|Accidents)',inplace=True)\n",
    "df_view.Dominant_Topic.replace(7,'Accidents',inplace=True)\n",
    "df_view.Dominant_Topic.replace(8,'National Security and Global Issues',inplace=True)\n",
    "df_view.Dominant_Topic.replace(9,'Employment and Technological Improvement',inplace=True)\n",
    "df_view.Dominant_Topic.replace(10,'Crime (Cheat and Scams)',inplace=True)\n",
    "df_view.Dominant_Topic.replace(11,'Housing and Living',inplace=True)\n",
    "df_view.Dominant_Topic.replace(12,'Weather',inplace=True)\n",
    "df_view.Dominant_Topic.replace(13,'Food, Water, Waste',inplace=True)\n",
    "df_view.to_csv('C:/Users/wongzn/Desktop/LDA_topics.csv',index=False,header=True)"
   ]
  },
  {
   "cell_type": "markdown",
   "metadata": {},
   "source": [
    "# Getting Topic Frequency"
   ]
  },
  {
   "cell_type": "code",
   "execution_count": 32,
   "metadata": {
    "scrolled": true
   },
   "outputs": [],
   "source": [
    "plot_topic = pd.DataFrame(df_view['Dominant_Topic'].value_counts())\n",
    "plot_topic = plot_topic.rename_axis('Topic').reset_index()\n",
    "plot_topic.rename(columns={'Dominant_Topic':'Freq'},inplace=True)\n",
    "plot_topic['Perc'] = round((plot_topic.Freq/sum(plot_topic.Freq) * 100),2).astype(str) +'%'"
   ]
  },
  {
   "cell_type": "code",
   "execution_count": 33,
   "metadata": {
    "scrolled": true
   },
   "outputs": [
    {
     "data": {
      "image/png": "[encoded data removed]",
      "text/plain": [
       "<Figure size 1440x432 with 1 Axes>"
      ]
     },
     "metadata": {
      "needs_background": "light"
     },
     "output_type": "display_data"
    }
   ],
   "source": [
    "plt.figure(figsize=(20,6))\n",
    "import seaborn as sns\n",
    "ax=sns.barplot(data=plot_topic,x=\"Topic\",y=\"Freq\")\n",
    "ax.set(ylabel='Topic Frequency')\n",
    "ax.set_xticklabels(ax.get_xticklabels(), rotation=30)\n",
    "plt.show()"
   ]
  },
  {
   "cell_type": "code",
   "execution_count": 34,
   "metadata": {
    "scrolled": false
   },
   "outputs": [
    {
     "data": {
      "image/png": "[encoded data removed]",
      "text/plain": [
       "<Figure size 1440x432 with 1 Axes>"
      ]
     },
     "metadata": {
      "needs_background": "light"
     },
     "output_type": "display_data"
    }
   ],
   "source": [
    "plt.figure(figsize=(20,6))\n",
    "plt.bar(plot_topic['Topic'],plot_topic['Freq'])\n",
    "plt.xticks(rotation=65)\n",
    "for i in range(len(plot_topic)):\n",
    "    plt.text(plot_topic.Topic[i],plot_topic.Freq[i], plot_topic.Perc[i], color='black', ha=\"center\",size=12)\n",
    "plt.show()"
   ]
  },
  {
   "cell_type": "code",
   "execution_count": 35,
   "metadata": {},
   "outputs": [],
   "source": [
    "Article_content_clean = []\n",
    "\n",
    "for i in range(len(data_words_nostops)):\n",
    "    Article_content_clean.append(' '.join(data_words_nostops[i]))\n",
    "df['clean_contents'] = Article_content_clean"
   ]
  },
  {
   "cell_type": "code",
   "execution_count": 36,
   "metadata": {
    "scrolled": true
   },
   "outputs": [],
   "source": [
    "#Saving LDA results for Supervised modelling\n",
    "df_sup = pd.concat([df[['Article Title','clean_contents','Topics']],df_view[['Dominant_Topic']]],axis=1)\n",
    "df_sup.rename(columns={'clean_contents':\"Clean Contents\",'Dominant_Topic':\"Dominant Topic\"},inplace=True)\n",
    "df_sup.to_csv('C:/Users/wongzn/Desktop/topics.csv')"
   ]
  },
  {
   "cell_type": "code",
   "execution_count": 52,
   "metadata": {
    "collapsed": true
   },
   "outputs": [
    {
     "data": {
      "text/html": [
       "<div>\n",
       "<style scoped>\n",
       "    .dataframe tbody tr th:only-of-type {\n",
       "        vertical-align: middle;\n",
       "    }\n",
       "\n",
       "    .dataframe tbody tr th {\n",
       "        vertical-align: top;\n",
       "    }\n",
       "\n",
       "    .dataframe thead th {\n",
       "        text-align: right;\n",
       "    }\n",
       "</style>\n",
       "<table border=\"1\" class=\"dataframe\">\n",
       "  <thead>\n",
       "    <tr style=\"text-align: right;\">\n",
       "      <th></th>\n",
       "      <th>Article Title</th>\n",
       "      <th>Clean Contents</th>\n",
       "      <th>Topics</th>\n",
       "      <th>Dominant Topic</th>\n",
       "    </tr>\n",
       "  </thead>\n",
       "  <tbody>\n",
       "    <tr>\n",
       "      <th>0</th>\n",
       "      <td>Malaysian drug suspect arrested at Shenton Way junction after attempting hasty getaway on motorbike</td>\n",
       "      <td>malaysian suspect arrest junction shenton_way maxwell_road dispose contain ice carpark vicinity orchard_tower spot hop motorcycle carpark hasty exit recover contain ice value feed addiction abuser week offender include singaporean man arrest orchard_tower international building total seize singaporean malaysian suspect arrest late drug enforcement operation took_place offender arrest operation cover area include bedok bukit_merah tampine accord drug worth seize include ice heroin tablet substance bottle methadone</td>\n",
       "      <td>CENTRAL NARCOTICS BUREAU, DRUG OFFENCES</td>\n",
       "      <td>Crime</td>\n",
       "    </tr>\n",
       "    <tr>\n",
       "      <th>1</th>\n",
       "      <td>SCDF ragging death: Being submerged in dark, confined well could be dangerous even for a swimmer, says expert</td>\n",
       "      <td>enter pool water person know know breathe enter exhale submerge result possible inhale water submerge point testify ongoing trial commander civil_defence force link drown yuen_chin happen perform autopsy difference react prepare enter water unexpected event unexpected result startled inhalatory response cause person breathe water add common misconception enter body water float body float decomposition person presence mind tread water come water rush lung deep deep water come add cpl_kok malaysian national push tuas_view fire_station pump activity mark report date state die drown officer boon_lieutenant nazhan_mohame nazi officer rota_commander deputy_rota night incident charge hurt allegedly_faile group officer enter pump endanger life testify fifth day trial difference swimmer swimmer handle enter body water mention court know tell fellow scdf officer previous conversation dr_paul submerged pump dark confined_space disorient dangerous swimmer surface add opinion base conjecture au...</td>\n",
       "      <td>SCDF, COURT TRIALS</td>\n",
       "      <td>Accidents</td>\n",
       "    </tr>\n",
       "    <tr>\n",
       "      <th>2</th>\n",
       "      <td>Use technology to help people with special needs integrate as part of Smart Nation push: President Halimah</td>\n",
       "      <td>technology system integrate people special_need include student society speak reporter visit school cater student age disability autism country smart_nation push national effort support live technology madam_halimah cite system available metta school motion sensor activate allow student experience everyday scenario example student practice thing making purchase supermarket stay safe environment technology assist student special_need learn independent visit different vocational facility school old student age receive school curriculum offer institute skill certification bake housekeeping operation prepare student certification enable seek education apply programme ite long meet requirement respective course student fold training room student pursue skill certificate housekeeping operation fourth visit school support student special_need visit madam_halimah hope employer willing provide opportunity student special_need exercise great patience flexibility training carry activity pre a...</td>\n",
       "      <td>SPECIAL NEEDS/SPECIAL EDUCATION, HALIMAH YACOB, SPECIAL EDUCATION SCHOOL, SMART CITIES</td>\n",
       "      <td>Education and Community (Care and Support)</td>\n",
       "    </tr>\n",
       "    <tr>\n",
       "      <th>3</th>\n",
       "      <td>Work group's report aims to make medical disciplinary process fairer and faster</td>\n",
       "      <td>group task improve medical watchdog look sit judge permanent team senior retire doctor judge disciplinary case screener ensure system bogge frivolous complaint want set timeline follow step complaint process extension obtain limit tell member press sideline meeting doctor timeline place member person work group comprise lawyer medical professional lay people adhere state present meeting novena told_reporter long delay hear case acceptable justice delay deny work group meet doctor private hospital public cluster plan talk patient advocacy group medical specialist medicine draft report end work group set look issue disciplinary judgment doctor arm case doctor fine tell patient effect case doctor fine release information patient check caller phone husband group clarify constitute reason disciplinary hearing complaint simple negligence poor bedside manner serve mediation quick assessment complaint cut work complaint committee decide complaint merit disciplinary hearing complaint receiv...</td>\n",
       "      <td>SINGAPORE MEDICAL COUNCIL, DOCTORS/SURGEONS, EDWIN TONG</td>\n",
       "      <td>Crime</td>\n",
       "    </tr>\n",
       "    <tr>\n",
       "      <th>4</th>\n",
       "      <td>$1.25m 4-D win: Wife has equal share in husband's prize money, rules apex court</td>\n",
       "      <td>rule lottery winning spouse couple matrimonial asset share ticket buy intention benefit family winner reverse high court decision court appeal clear lay blanket rule lottery share divorce presumption contribute matrimonial pool winning spouse buy win ticket buy benefit family benefit important point intention ticket purchase include hold husband buy win pool ticket treat contribution family home wife share contribution appeal note fact present case clear purchase win lottery intention winning deposit winning party dbs joint account utilise winning pay mortgage couple marry grown child divorce high court allot man matrimonial asset worth woman wife file appeal lawyer argue fortuitous nature lottery win contribution purchase matrimonial home prize_money apportion wife man husband defend lawyer win lose loss insubstantial appeal court convince loss incur lottery ticket deplete exist matrimonial asset hold lottery winning constitute matrimonial asset meaning section woman purpose divis...</td>\n",
       "      <td>DIVORCES, SEPARATIONS AND ANNULMENTS, COURT OF APPEAL</td>\n",
       "      <td>Housing and Living</td>\n",
       "    </tr>\n",
       "  </tbody>\n",
       "</table>\n",
       "</div>"
      ],
      "text/plain": [
       "                                                                                                    Article Title  \\\n",
       "0             Malaysian drug suspect arrested at Shenton Way junction after attempting hasty getaway on motorbike   \n",
       "1   SCDF ragging death: Being submerged in dark, confined well could be dangerous even for a swimmer, says expert   \n",
       "2      Use technology to help people with special needs integrate as part of Smart Nation push: President Halimah   \n",
       "3                                 Work group's report aims to make medical disciplinary process fairer and faster   \n",
       "4                                 $1.25m 4-D win: Wife has equal share in husband's prize money, rules apex court   \n",
       "\n",
       "                                                                                                                                                                                                                                                                                                                                                                                                                                                                                                                                                                                                                                                                                                                                                                                                                                                                                                                                                                                                                            Clean Contents  \\\n",
       "0                                                                                                                                                                                                                                                                                                                                                                                                                                                                                                   malaysian suspect arrest junction shenton_way maxwell_road dispose contain ice carpark vicinity orchard_tower spot hop motorcycle carpark hasty exit recover contain ice value feed addiction abuser week offender include singaporean man arrest orchard_tower international building total seize singaporean malaysian suspect arrest late drug enforcement operation took_place offender arrest operation cover area include bedok bukit_merah tampine accord drug worth seize include ice heroin tablet substance bottle methadone   \n",
       "1  enter pool water person know know breathe enter exhale submerge result possible inhale water submerge point testify ongoing trial commander civil_defence force link drown yuen_chin happen perform autopsy difference react prepare enter water unexpected event unexpected result startled inhalatory response cause person breathe water add common misconception enter body water float body float decomposition person presence mind tread water come water rush lung deep deep water come add cpl_kok malaysian national push tuas_view fire_station pump activity mark report date state die drown officer boon_lieutenant nazhan_mohame nazi officer rota_commander deputy_rota night incident charge hurt allegedly_faile group officer enter pump endanger life testify fifth day trial difference swimmer swimmer handle enter body water mention court know tell fellow scdf officer previous conversation dr_paul submerged pump dark confined_space disorient dangerous swimmer surface add opinion base conjecture au...   \n",
       "2  technology system integrate people special_need include student society speak reporter visit school cater student age disability autism country smart_nation push national effort support live technology madam_halimah cite system available metta school motion sensor activate allow student experience everyday scenario example student practice thing making purchase supermarket stay safe environment technology assist student special_need learn independent visit different vocational facility school old student age receive school curriculum offer institute skill certification bake housekeeping operation prepare student certification enable seek education apply programme ite long meet requirement respective course student fold training room student pursue skill certificate housekeeping operation fourth visit school support student special_need visit madam_halimah hope employer willing provide opportunity student special_need exercise great patience flexibility training carry activity pre a...   \n",
       "3  group task improve medical watchdog look sit judge permanent team senior retire doctor judge disciplinary case screener ensure system bogge frivolous complaint want set timeline follow step complaint process extension obtain limit tell member press sideline meeting doctor timeline place member person work group comprise lawyer medical professional lay people adhere state present meeting novena told_reporter long delay hear case acceptable justice delay deny work group meet doctor private hospital public cluster plan talk patient advocacy group medical specialist medicine draft report end work group set look issue disciplinary judgment doctor arm case doctor fine tell patient effect case doctor fine release information patient check caller phone husband group clarify constitute reason disciplinary hearing complaint simple negligence poor bedside manner serve mediation quick assessment complaint cut work complaint committee decide complaint merit disciplinary hearing complaint receiv...   \n",
       "4  rule lottery winning spouse couple matrimonial asset share ticket buy intention benefit family winner reverse high court decision court appeal clear lay blanket rule lottery share divorce presumption contribute matrimonial pool winning spouse buy win ticket buy benefit family benefit important point intention ticket purchase include hold husband buy win pool ticket treat contribution family home wife share contribution appeal note fact present case clear purchase win lottery intention winning deposit winning party dbs joint account utilise winning pay mortgage couple marry grown child divorce high court allot man matrimonial asset worth woman wife file appeal lawyer argue fortuitous nature lottery win contribution purchase matrimonial home prize_money apportion wife man husband defend lawyer win lose loss insubstantial appeal court convince loss incur lottery ticket deplete exist matrimonial asset hold lottery winning constitute matrimonial asset meaning section woman purpose divis...   \n",
       "\n",
       "                                                                                   Topics  \\\n",
       "0                                                 CENTRAL NARCOTICS BUREAU, DRUG OFFENCES   \n",
       "1                                                                      SCDF, COURT TRIALS   \n",
       "2  SPECIAL NEEDS/SPECIAL EDUCATION, HALIMAH YACOB, SPECIAL EDUCATION SCHOOL, SMART CITIES   \n",
       "3                                 SINGAPORE MEDICAL COUNCIL, DOCTORS/SURGEONS, EDWIN TONG   \n",
       "4                                   DIVORCES, SEPARATIONS AND ANNULMENTS, COURT OF APPEAL   \n",
       "\n",
       "                               Dominant Topic  \n",
       "0                                       Crime  \n",
       "1                                   Accidents  \n",
       "2  Education and Community (Care and Support)  \n",
       "3                                       Crime  \n",
       "4                          Housing and Living  "
      ]
     },
     "execution_count": 52,
     "metadata": {},
     "output_type": "execute_result"
    }
   ],
   "source": [
    "df_sup.head()"
   ]
  },
  {
   "cell_type": "markdown",
   "metadata": {},
   "source": [
    "# Creating A Supervised Model For Topic Modelling From LDA Topics"
   ]
  },
  {
   "cell_type": "code",
   "execution_count": 37,
   "metadata": {},
   "outputs": [],
   "source": [
    "from sklearn.feature_extraction.text import TfidfVectorizer\n",
    "from sklearn import model_selection, naive_bayes, svm\n",
    "from sklearn.metrics import accuracy_score, precision_score, recall_score\n",
    "from sklearn.neighbors import KNeighborsClassifier\n",
    "from sklearn import metrics\n",
    "from sklearn.metrics import classification_report, confusion_matrix\n",
    "\n",
    "Train_X,Test_X,Train_Y,Test_Y = model_selection.train_test_split(df_sup['Clean Contents'],df_sup['Dominant Topic'],\n",
    "                                                                 test_size=0.3,random_state=100)"
   ]
  },
  {
   "cell_type": "code",
   "execution_count": 38,
   "metadata": {},
   "outputs": [],
   "source": [
    "Tfidf_vect = TfidfVectorizer(lowercase=True, min_df=5,max_df=0.9)\n",
    "Tfidf_vect.fit(df_sup['Clean Contents'])\n",
    "\n",
    "Train_X_Tfidf = Tfidf_vect.transform(Train_X)\n",
    "Test_X_Tfidf = Tfidf_vect.transform(Test_X)"
   ]
  },
  {
   "cell_type": "code",
   "execution_count": 39,
   "metadata": {},
   "outputs": [
    {
     "name": "stdout",
     "output_type": "stream",
     "text": [
      "KNN Accuracy Score ->  73.36747759282972\n"
     ]
    }
   ],
   "source": [
    "knn=KNeighborsClassifier(n_neighbors=14)\n",
    "knn.fit(Train_X_Tfidf,Train_Y)\n",
    "knn_predictions = knn.predict(Test_X_Tfidf)\n",
    "print(\"KNN Accuracy Score -> \",accuracy_score(knn_predictions, Test_Y)*100)"
   ]
  },
  {
   "cell_type": "code",
   "execution_count": 40,
   "metadata": {},
   "outputs": [
    {
     "name": "stdout",
     "output_type": "stream",
     "text": [
      "[[146   1   4   0   0   1   0   0   0   0   0   2   0   2]\n",
      " [  2  27   8   0   0   0   1   0   0   0   1   1   1   0]\n",
      " [ 12   5  96   2   1   2   6   0   2   0   0   2   0   0]\n",
      " [  1   0  11  15   0   1   0   0   1   0   0   0   0   0]\n",
      " [  0   1   1   0   6   4   1   0   0   0   0   0   0   0]\n",
      " [  8   0   3   0   0  82   4   1   1   0   1   0   0   3]\n",
      " [  2   2   3   0   0   9  46   1   2   0   1   0   1   0]\n",
      " [  2   1   0   0   0   3   4  31   0   0   0   0   0   2]\n",
      " [  3   2   3   2   1   2   3   0  18   0   1   1   0   0]\n",
      " [  3   0   6   0   0  11   0   0   0  18   2   1   1   0]\n",
      " [  0   4   1   0   0   3   1   2   0   0  43   0   0   0]\n",
      " [  5   1   1   0   0   0   0   1   0   0   0  12   0   0]\n",
      " [  2   0   0   0   0   7   2   0   2   0   2   0  15   0]\n",
      " [  0   0   1   0   0   0   0   0   0   0   0   0   0  18]]\n",
      "                                              precision    recall  f1-score   support\n",
      "\n",
      "                                   Accidents       0.78      0.94      0.85       156\n",
      "                      Air and Road Transport       0.61      0.66      0.64        41\n",
      "                                       Crime       0.70      0.75      0.72       128\n",
      "                     Crime (Cheat and Scams)       0.79      0.52      0.62        29\n",
      "                     Diseases and Healthcare       0.75      0.46      0.57        13\n",
      "  Education and Community (Care and Support)       0.66      0.80      0.72       103\n",
      "    Employment and Technological Improvement       0.68      0.69      0.68        67\n",
      "                          Food, Water, Waste       0.86      0.72      0.78        43\n",
      "                          Housing and Living       0.69      0.50      0.58        36\n",
      "                           Issues in Society       1.00      0.43      0.60        42\n",
      "         National Security and Global Issues       0.84      0.80      0.82        54\n",
      "Road Safety and PMD (Related News|Accidents)       0.63      0.60      0.62        20\n",
      "                                     Unknown       0.83      0.50      0.62        30\n",
      "                                     Weather       0.72      0.95      0.82        19\n",
      "\n",
      "                                    accuracy                           0.73       781\n",
      "                                   macro avg       0.75      0.66      0.69       781\n",
      "                                weighted avg       0.75      0.73      0.73       781\n",
      "\n"
     ]
    }
   ],
   "source": [
    "print(confusion_matrix(Test_Y,knn_predictions))\n",
    "print(classification_report(Test_Y,knn_predictions))"
   ]
  },
  {
   "cell_type": "code",
   "execution_count": 41,
   "metadata": {},
   "outputs": [
    {
     "name": "stdout",
     "output_type": "stream",
     "text": [
      "Naive Bayes Accuracy Score ->  64.40460947503202\n"
     ]
    },
    {
     "name": "stderr",
     "output_type": "stream",
     "text": [
      "C:\\Users\\wongzn\\AppData\\Local\\Continuum\\anaconda3\\lib\\site-packages\\sklearn\\metrics\\classification.py:1437: UndefinedMetricWarning: Precision and F-score are ill-defined and being set to 0.0 in labels with no predicted samples.\n",
      "  'precision', 'predicted', average, warn_for)\n"
     ]
    },
    {
     "name": "stdout",
     "output_type": "stream",
     "text": [
      "                                              precision    recall  f1-score   support\n",
      "\n",
      "                                   Accidents       0.68      0.99      0.81       156\n",
      "                      Air and Road Transport       1.00      0.17      0.29        41\n",
      "                                       Crime       0.62      0.87      0.73       128\n",
      "                     Crime (Cheat and Scams)       0.00      0.00      0.00        29\n",
      "                     Diseases and Healthcare       0.00      0.00      0.00        13\n",
      "  Education and Community (Care and Support)       0.52      0.95      0.67       103\n",
      "    Employment and Technological Improvement       0.53      0.70      0.60        67\n",
      "                          Food, Water, Waste       1.00      0.19      0.31        43\n",
      "                          Housing and Living       1.00      0.33      0.50        36\n",
      "                           Issues in Society       1.00      0.12      0.21        42\n",
      "         National Security and Global Issues       0.88      0.70      0.78        54\n",
      "Road Safety and PMD (Related News|Accidents)       1.00      0.35      0.52        20\n",
      "                                     Unknown       1.00      0.10      0.18        30\n",
      "                                     Weather       1.00      0.63      0.77        19\n",
      "\n",
      "                                    accuracy                           0.64       781\n",
      "                                   macro avg       0.73      0.44      0.46       781\n",
      "                                weighted avg       0.71      0.64      0.58       781\n",
      "\n"
     ]
    }
   ],
   "source": [
    "Naive = naive_bayes.MultinomialNB()\n",
    "Naive.fit(Train_X_Tfidf,Train_Y)\n",
    "\n",
    "predictions_NB = Naive.predict(Test_X_Tfidf)\n",
    "print(\"Naive Bayes Accuracy Score -> \",accuracy_score(predictions_NB, Test_Y)*100)\n",
    "print(classification_report(Test_Y,predictions_NB))"
   ]
  },
  {
   "cell_type": "code",
   "execution_count": 42,
   "metadata": {},
   "outputs": [
    {
     "name": "stdout",
     "output_type": "stream",
     "text": [
      "Tree Accuracy Score ->  50.96030729833547\n",
      "                                              precision    recall  f1-score   support\n",
      "\n",
      "                                   Accidents       0.68      0.67      0.67       156\n",
      "                      Air and Road Transport       0.48      0.49      0.48        41\n",
      "                                       Crime       0.54      0.60      0.57       128\n",
      "                     Crime (Cheat and Scams)       0.37      0.24      0.29        29\n",
      "                     Diseases and Healthcare       0.27      0.31      0.29        13\n",
      "  Education and Community (Care and Support)       0.56      0.62      0.59       103\n",
      "    Employment and Technological Improvement       0.42      0.46      0.44        67\n",
      "                          Food, Water, Waste       0.46      0.30      0.37        43\n",
      "                          Housing and Living       0.41      0.44      0.43        36\n",
      "                           Issues in Society       0.36      0.21      0.27        42\n",
      "         National Security and Global Issues       0.47      0.54      0.50        54\n",
      "Road Safety and PMD (Related News|Accidents)       0.31      0.20      0.24        20\n",
      "                                     Unknown       0.26      0.27      0.26        30\n",
      "                                     Weather       0.52      0.63      0.57        19\n",
      "\n",
      "                                    accuracy                           0.51       781\n",
      "                                   macro avg       0.44      0.43      0.43       781\n",
      "                                weighted avg       0.50      0.51      0.50       781\n",
      "\n"
     ]
    }
   ],
   "source": [
    "from sklearn import tree\n",
    "tree = tree.DecisionTreeClassifier(random_state = 21)\n",
    "tree.fit(Train_X_Tfidf,Train_Y)\n",
    "tree_prediction = tree.predict(Test_X_Tfidf)\n",
    "\n",
    "print(\"Tree Accuracy Score -> \",accuracy_score(Test_Y,tree_prediction)*100)\n",
    "print(classification_report(Test_Y,tree_prediction))"
   ]
  },
  {
   "cell_type": "code",
   "execution_count": 43,
   "metadata": {},
   "outputs": [
    {
     "name": "stdout",
     "output_type": "stream",
     "text": [
      "LR Accuracy Score ->  78.61715749039692\n",
      "                                              precision    recall  f1-score   support\n",
      "\n",
      "                                   Accidents       0.87      0.97      0.92       156\n",
      "                      Air and Road Transport       0.77      0.59      0.67        41\n",
      "                                       Crime       0.70      0.93      0.80       128\n",
      "                     Crime (Cheat and Scams)       1.00      0.45      0.62        29\n",
      "                     Diseases and Healthcare       0.75      0.23      0.35        13\n",
      "  Education and Community (Care and Support)       0.67      0.92      0.78       103\n",
      "    Employment and Technological Improvement       0.72      0.81      0.76        67\n",
      "                          Food, Water, Waste       0.88      0.65      0.75        43\n",
      "                          Housing and Living       0.85      0.64      0.73        36\n",
      "                           Issues in Society       1.00      0.40      0.58        42\n",
      "         National Security and Global Issues       0.86      0.81      0.84        54\n",
      "Road Safety and PMD (Related News|Accidents)       0.92      0.55      0.69        20\n",
      "                                     Unknown       1.00      0.60      0.75        30\n",
      "                                     Weather       1.00      0.68      0.81        19\n",
      "\n",
      "                                    accuracy                           0.79       781\n",
      "                                   macro avg       0.86      0.66      0.72       781\n",
      "                                weighted avg       0.81      0.79      0.78       781\n",
      "\n"
     ]
    }
   ],
   "source": [
    "from sklearn.linear_model import LogisticRegression\n",
    "LR = LogisticRegression(multi_class='multinomial',solver='newton-cg')\n",
    "LR.fit(Train_X_Tfidf,Train_Y)\n",
    "pred_LR = LR.predict(Test_X_Tfidf)\n",
    "\n",
    "print(\"LR Accuracy Score -> \",accuracy_score(pred_LR, Test_Y)*100)\n",
    "print(classification_report(Test_Y,pred_LR))"
   ]
  },
  {
   "cell_type": "code",
   "execution_count": 44,
   "metadata": {},
   "outputs": [
    {
     "name": "stdout",
     "output_type": "stream",
     "text": [
      "SVM Accuracy Score ->  81.17797695262485\n",
      "[[145   3   4   0   0   0   0   0   0   0   0   1   1   2]\n",
      " [  1  31   4   0   0   2   2   0   0   0   0   1   0   0]\n",
      " [  6   2 107   3   1   1   2   1   3   0   0   2   0   0]\n",
      " [  2   0   9  17   0   0   0   0   1   0   0   0   0   0]\n",
      " [  0   1   0   0   8   3   0   0   0   0   0   0   0   1]\n",
      " [  3   0   2   0   0  87   4   1   2   1   1   0   1   1]\n",
      " [  1   2   1   0   1   3  55   2   0   0   1   0   1   0]\n",
      " [  1   2   1   0   0   1   4  33   0   0   0   0   0   1]\n",
      " [  1   1   2   0   0   2   0   0  30   0   0   0   0   0]\n",
      " [  2   0   2   0   0   8   1   0   0  27   1   1   0   0]\n",
      " [  1   3   1   0   0   1   1   2   0   2  43   0   0   0]\n",
      " [  2   0   1   0   0   0   0   1   0   0   0  16   0   0]\n",
      " [  1   0   0   0   0   5   1   0   1   1   1   0  20   0]\n",
      " [  1   0   1   0   0   0   1   0   1   0   0   0   0  15]]\n",
      "                                              precision    recall  f1-score   support\n",
      "\n",
      "                                   Accidents       0.87      0.93      0.90       156\n",
      "                      Air and Road Transport       0.69      0.76      0.72        41\n",
      "                                       Crime       0.79      0.84      0.81       128\n",
      "                     Crime (Cheat and Scams)       0.85      0.59      0.69        29\n",
      "                     Diseases and Healthcare       0.80      0.62      0.70        13\n",
      "  Education and Community (Care and Support)       0.77      0.84      0.81       103\n",
      "    Employment and Technological Improvement       0.77      0.82      0.80        67\n",
      "                          Food, Water, Waste       0.82      0.77      0.80        43\n",
      "                          Housing and Living       0.79      0.83      0.81        36\n",
      "                           Issues in Society       0.87      0.64      0.74        42\n",
      "         National Security and Global Issues       0.91      0.80      0.85        54\n",
      "Road Safety and PMD (Related News|Accidents)       0.76      0.80      0.78        20\n",
      "                                     Unknown       0.87      0.67      0.75        30\n",
      "                                     Weather       0.75      0.79      0.77        19\n",
      "\n",
      "                                    accuracy                           0.81       781\n",
      "                                   macro avg       0.81      0.76      0.78       781\n",
      "                                weighted avg       0.82      0.81      0.81       781\n",
      "\n"
     ]
    }
   ],
   "source": [
    "SVM = svm.SVC(C=1.6, kernel='linear',degree=3,random_state=1)\n",
    "SVM.fit(Train_X_Tfidf,Train_Y)\n",
    "predictions_SVM = SVM.predict(Test_X_Tfidf)\n",
    "\n",
    "\n",
    "print(\"SVM Accuracy Score -> \",accuracy_score(predictions_SVM, Test_Y)*100)\n",
    "print(confusion_matrix(Test_Y,predictions_SVM))\n",
    "print(classification_report(Test_Y,predictions_SVM))"
   ]
  },
  {
   "cell_type": "markdown",
   "metadata": {},
   "source": [
    "# Feeding in New Data (Test Dataset)"
   ]
  },
  {
   "cell_type": "code",
   "execution_count": 45,
   "metadata": {},
   "outputs": [],
   "source": [
    "test = pd.read_csv('C:/Users/wongzn/Desktop/Transfer/ST_63.csv')\n",
    "test['Article Content'] = test['Article Content'].astype(str)\n",
    "\n",
    "#Preprocess the test set\n",
    "\n",
    "test['Article Content'] = preprocess_content(test['Article Content'])\n",
    "data_words_test = list(tokenize_words(test['Article Content']))\n",
    "data_words_bigrams_test = make_bigrams(remove_stopwords(data_words_test))\n",
    "data_lemmatized_test = lemmatization(data_words_bigrams_test, allowed_postags=['NOUN', 'ADJ', 'VERB'])\n",
    "data_words_nostops_test = remove_stopwords(data_lemmatized_test)\n",
    "\n",
    "Article_content_clean = []\n",
    "for i in range(len(data_words_nostops_test)):\n",
    "    Article_content_clean.append(' '.join(data_words_nostops_test[i]))\n",
    "test['clean_contents'] = Article_content_clean"
   ]
  },
  {
   "cell_type": "code",
   "execution_count": 46,
   "metadata": {
    "scrolled": true
   },
   "outputs": [],
   "source": [
    "Train_X = df_sup['Clean Contents']\n",
    "Test_X = test['clean_contents']\n",
    "Train_Y = df_sup['Dominant Topic']"
   ]
  },
  {
   "cell_type": "code",
   "execution_count": 47,
   "metadata": {},
   "outputs": [],
   "source": [
    "Tfidf_vect = TfidfVectorizer(lowercase=True, min_df=5,max_df=0.9)\n",
    "Tfidf_vect.fit(Train_X)\n",
    "\n",
    "Train_X_Tfidf = Tfidf_vect.transform(Train_X)\n",
    "Test_X_Tfidf = Tfidf_vect.transform(Test_X)"
   ]
  },
  {
   "cell_type": "code",
   "execution_count": 48,
   "metadata": {},
   "outputs": [],
   "source": [
    "SVM = svm.SVC(C=1.6, kernel='linear', degree=3,gamma=0.01,random_state=1,probability=True)\n",
    "SVM.fit(Train_X_Tfidf,Train_Y)\n",
    "\n",
    "#predict the labels on validation dataset\n",
    "predictions_SVM = SVM.predict(Test_X_Tfidf)\n",
    "pred_prob = SVM.predict_proba(Test_X_Tfidf)"
   ]
  },
  {
   "cell_type": "code",
   "execution_count": 49,
   "metadata": {},
   "outputs": [],
   "source": [
    "pred_probability = []\n",
    "for i in range(len(pred_prob)):\n",
    "    pred_probability.append(sorted(pred_prob[i], reverse=True)[0])"
   ]
  },
  {
   "cell_type": "code",
   "execution_count": 50,
   "metadata": {},
   "outputs": [],
   "source": [
    "test_check = pd.concat([test[['Article Title','clean_contents','Topics']],pd.DataFrame(predictions_SVM),pd.DataFrame(pred_probability)], axis=1,ignore_index=True)\n",
    "test_check = test_check.rename(columns={0:\"Article Title\",1:\"Clean Contents\",2:\"Straits Times Topics\",3:\"LDA Model Predictions\",4:\"Probability\"})"
   ]
  },
  {
   "cell_type": "code",
   "execution_count": 51,
   "metadata": {
    "scrolled": true
   },
   "outputs": [
    {
     "data": {
      "text/html": [
       "<div>\n",
       "<style scoped>\n",
       "    .dataframe tbody tr th:only-of-type {\n",
       "        vertical-align: middle;\n",
       "    }\n",
       "\n",
       "    .dataframe tbody tr th {\n",
       "        vertical-align: top;\n",
       "    }\n",
       "\n",
       "    .dataframe thead th {\n",
       "        text-align: right;\n",
       "    }\n",
       "</style>\n",
       "<table border=\"1\" class=\"dataframe\">\n",
       "  <thead>\n",
       "    <tr style=\"text-align: right;\">\n",
       "      <th></th>\n",
       "      <th>Article Title</th>\n",
       "      <th>Clean Contents</th>\n",
       "      <th>Straits Times Topics</th>\n",
       "      <th>LDA Model Predictions</th>\n",
       "      <th>Probability</th>\n",
       "    </tr>\n",
       "  </thead>\n",
       "  <tbody>\n",
       "    <tr>\n",
       "      <th>0</th>\n",
       "      <td>Seafood restaurant in Punggol stops using live crab claw machine after public outcry</td>\n",
       "      <td>stop machine customer catch live crab stop machine apologise cause public unhappiness gimmick turn come day society prevention cruelty animal cruel crab machine inflict unnecessary harm distress drop height claw intend use animal play thing notice lot child settlement want educate chief_executive stress team planning come design machine harm hurt crab sorry apologise inconvenience unhappiness cause tell respect feedback public truly_sorry animal lover spca jaipal feel measure insufficient appreciate clarification news ask permanent stop use machine tell spark public outcry restaurant introduce machine early customer pay snap desire crustacean machine believe introduce customer accord restaurant tank hold crab elevate cushion crab fall snap drop impact crab pincer tie crustacean replace new lot hour machine launch customer catch crab customer try fail</td>\n",
       "      <td>ANIMALS, RESTAURANTS/EATERIES</td>\n",
       "      <td>CRIME</td>\n",
       "      <td>0.347352</td>\n",
       "    </tr>\n",
       "    <tr>\n",
       "      <th>2</th>\n",
       "      <td>Skills framework launched for workplace safety and health officers</td>\n",
       "      <td>health officer clear idea skill need job progress career skill framework officer launch health officer conference hold framework provide key information health sector career pathway available industry possible job role highlight exist emerging_skill competency require provide list training programme skill upgrade framework plan career development company benefit term competency base recruitment effective training plan framework skillsfuture employer industry association education training provider guide career register health officer number triple officer come expect number register officer stabilise economy timely shift focus enhance skillset help effective officer critical help achieve health goal outline plan add plan lay strategy country safest healthy workplace target reduce workplace fatal_injury rate worker clear officer critical noble job line protect worker ground mitigate hazard create safe workplace line reach boardroom organisation exercise influence employer value inve...</td>\n",
       "      <td>WORKPLACE SAFETY AND HEALTH, JOSEPHINE TEO</td>\n",
       "      <td>EMPLOYMENT AND TECHNOLOGICAL IMPROVEMENT</td>\n",
       "      <td>0.997641</td>\n",
       "    </tr>\n",
       "    <tr>\n",
       "      <th>13</th>\n",
       "      <td>SUTD students challenged to turn problems into opportunities through interdisciplinary studies</td>\n",
       "      <td>technology design challenge keat nation design study turn national global challenge opportunity speak university student curriculum integrate system design thinking place help deal challenge climate_change grow economy harness diversity building look achieve short achieve world design challenge nation design significant change come way turn change opportunity education major social leveller singaporean decade country rapid progress education highlight report release ministry finance today educate able find job earn education achieve maximise value spend field dollar count add invest education expand university sector add diversity offering provide pathway student cater strength passion establish decade fourth student curriculum infuse design course specialisation area architecture sustainable design engineering product development engineering system design information system technology design technological advancement design graduate seek employer today event hotel announce offer s...</td>\n",
       "      <td>HENG SWEE KEAT, EDUCATION AND SCHOOLS, SINGAPORE UNIVERSITY OF TECHNOLOGY AND DESIGN</td>\n",
       "      <td>EMPLOYMENT AND TECHNOLOGICAL IMPROVEMENT</td>\n",
       "      <td>0.977796</td>\n",
       "    </tr>\n",
       "    <tr>\n",
       "      <th>18</th>\n",
       "      <td>Devotee in stable condition after falling into fire pit while fulfilling vows: HEB and temple</td>\n",
       "      <td>trip fall fire pit fulfilling vow rescuer attend devotee medical team rush management visit hospital continue people help suffer injury incident recover heb detail available heb want privacy prayer family wish thank provide need support ensure devotee receive possible heb temple</td>\n",
       "      <td>RELIGION, HINDUISM</td>\n",
       "      <td>EDUCATION AND COMMUNITY (CARE AND SUPPORT)</td>\n",
       "      <td>0.682417</td>\n",
       "    </tr>\n",
       "    <tr>\n",
       "      <th>62</th>\n",
       "      <td>GrabFood looking into video of delivery rider using PMD on PIE</td>\n",
       "      <td>delivery grabfood look incident rider device expressway video post facebook man wear grabfood shirt ride expressway post rider pie upper_serangoon road exit second video pmd rider mark expressway check traffic ride comment video look incident check rider work company understand driver identify road traffic act illegal pmds scooter hoverboard road offender fine jail pmd footpath share path bicycle bicycle allow road ban ride pmd road expressway user catch flouting law case accord land_transport authority actual number offender high violation undetected</td>\n",
       "      <td>GRAB, FOOD DELIVERY SERVICES, PERSONAL MOBILITY DEVICES</td>\n",
       "      <td>ROAD SAFETY AND PMD (RELATED NEWS|ACCIDENTS)</td>\n",
       "      <td>0.984483</td>\n",
       "    </tr>\n",
       "  </tbody>\n",
       "</table>\n",
       "</div>"
      ],
      "text/plain": [
       "                                                                                     Article Title  \\\n",
       "0             Seafood restaurant in Punggol stops using live crab claw machine after public outcry   \n",
       "2                               Skills framework launched for workplace safety and health officers   \n",
       "13  SUTD students challenged to turn problems into opportunities through interdisciplinary studies   \n",
       "18   Devotee in stable condition after falling into fire pit while fulfilling vows: HEB and temple   \n",
       "62                                  GrabFood looking into video of delivery rider using PMD on PIE   \n",
       "\n",
       "                                                                                                                                                                                                                                                                                                                                                                                                                                                                                                                                                                                                                                                                                                                                                                                                                                                                                                                                                                                                                             Clean Contents  \\\n",
       "0                                                                                                                                            stop machine customer catch live crab stop machine apologise cause public unhappiness gimmick turn come day society prevention cruelty animal cruel crab machine inflict unnecessary harm distress drop height claw intend use animal play thing notice lot child settlement want educate chief_executive stress team planning come design machine harm hurt crab sorry apologise inconvenience unhappiness cause tell respect feedback public truly_sorry animal lover spca jaipal feel measure insufficient appreciate clarification news ask permanent stop use machine tell spark public outcry restaurant introduce machine early customer pay snap desire crustacean machine believe introduce customer accord restaurant tank hold crab elevate cushion crab fall snap drop impact crab pincer tie crustacean replace new lot hour machine launch customer catch crab customer try fail   \n",
       "2   health officer clear idea skill need job progress career skill framework officer launch health officer conference hold framework provide key information health sector career pathway available industry possible job role highlight exist emerging_skill competency require provide list training programme skill upgrade framework plan career development company benefit term competency base recruitment effective training plan framework skillsfuture employer industry association education training provider guide career register health officer number triple officer come expect number register officer stabilise economy timely shift focus enhance skillset help effective officer critical help achieve health goal outline plan add plan lay strategy country safest healthy workplace target reduce workplace fatal_injury rate worker clear officer critical noble job line protect worker ground mitigate hazard create safe workplace line reach boardroom organisation exercise influence employer value inve...   \n",
       "13  technology design challenge keat nation design study turn national global challenge opportunity speak university student curriculum integrate system design thinking place help deal challenge climate_change grow economy harness diversity building look achieve short achieve world design challenge nation design significant change come way turn change opportunity education major social leveller singaporean decade country rapid progress education highlight report release ministry finance today educate able find job earn education achieve maximise value spend field dollar count add invest education expand university sector add diversity offering provide pathway student cater strength passion establish decade fourth student curriculum infuse design course specialisation area architecture sustainable design engineering product development engineering system design information system technology design technological advancement design graduate seek employer today event hotel announce offer s...   \n",
       "18                                                                                                                                                                                                                                                                                                                                                                                                                                                                                                                                                                                                                                                                                                                                                  trip fall fire pit fulfilling vow rescuer attend devotee medical team rush management visit hospital continue people help suffer injury incident recover heb detail available heb want privacy prayer family wish thank provide need support ensure devotee receive possible heb temple   \n",
       "62                                                                                                                                                                                                                                                                                                                                                                                                                                                            delivery grabfood look incident rider device expressway video post facebook man wear grabfood shirt ride expressway post rider pie upper_serangoon road exit second video pmd rider mark expressway check traffic ride comment video look incident check rider work company understand driver identify road traffic act illegal pmds scooter hoverboard road offender fine jail pmd footpath share path bicycle bicycle allow road ban ride pmd road expressway user catch flouting law case accord land_transport authority actual number offender high violation undetected   \n",
       "\n",
       "                                                                    Straits Times Topics  \\\n",
       "0                                                          ANIMALS, RESTAURANTS/EATERIES   \n",
       "2                                             WORKPLACE SAFETY AND HEALTH, JOSEPHINE TEO   \n",
       "13  HENG SWEE KEAT, EDUCATION AND SCHOOLS, SINGAPORE UNIVERSITY OF TECHNOLOGY AND DESIGN   \n",
       "18                                                                    RELIGION, HINDUISM   \n",
       "62                               GRAB, FOOD DELIVERY SERVICES, PERSONAL MOBILITY DEVICES   \n",
       "\n",
       "                           LDA Model Predictions  Probability  \n",
       "0                                          CRIME     0.347352  \n",
       "2       EMPLOYMENT AND TECHNOLOGICAL IMPROVEMENT     0.997641  \n",
       "13      EMPLOYMENT AND TECHNOLOGICAL IMPROVEMENT     0.977796  \n",
       "18    EDUCATION AND COMMUNITY (CARE AND SUPPORT)     0.682417  \n",
       "62  ROAD SAFETY AND PMD (RELATED NEWS|ACCIDENTS)     0.984483  "
      ]
     },
     "execution_count": 51,
     "metadata": {},
     "output_type": "execute_result"
    }
   ],
   "source": [
    "pd.set_option(\"display.max_colwidth\", 1000)\n",
    "test_check['LDA Model Predictions'] = test_check['LDA Model Predictions'].str.upper()\n",
    "test_check.iloc[[0,2,13,18,62]]"
   ]
  }
 ],
 "metadata": {
  "kernelspec": {
   "display_name": "Python 3",
   "language": "python",
   "name": "python3"
  },
  "language_info": {
   "codemirror_mode": {
    "name": "ipython",
    "version": 3
   },
   "file_extension": ".py",
   "mimetype": "text/x-python",
   "name": "python",
   "nbconvert_exporter": "python",
   "pygments_lexer": "ipython3",
   "version": "3.7.5"
  }
 },
 "nbformat": 4,
 "nbformat_minor": 2
}
