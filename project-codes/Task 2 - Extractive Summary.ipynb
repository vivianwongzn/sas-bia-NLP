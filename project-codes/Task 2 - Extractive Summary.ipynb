{
 "cells": [
  {
   "cell_type": "code",
   "execution_count": 1,
   "metadata": {},
   "outputs": [],
   "source": [
    "import pandas as pd\n",
    "import numpy as np\n",
    "import re\n",
    "import gensim\n",
    "from gensim import corpora\n",
    "from gensim.utils import simple_preprocess\n",
    "from gensim.models import CoherenceModel\n",
    "from gensim.summarization.summarizer import summarize\n",
    "from gensim.summarization import keywords\n",
    "import spacy\n",
    "import matplotlib.pyplot as plt\n",
    "import nltk\n",
    "from nltk.corpus import stopwords\n",
    "from nltk import FreqDist\n",
    "from gensim.models.phrases import Phrases, Phraser\n",
    "from nltk import sent_tokenize, word_tokenize\n",
    "from string import punctuation\n",
    "import os\n",
    "import codecs\n",
    "from sklearn import feature_extraction\n",
    "import matplotlib.pyplot as plt\n",
    "%matplotlib inline\n",
    "from sklearn.metrics import pairwise_distances_argmin_min\n",
    "from sklearn.metrics.pairwise import cosine_similarity\n",
    "from sklearn.feature_extraction.text import TfidfVectorizer\n",
    "from sklearn import model_selection, naive_bayes, svm\n",
    "from sklearn.metrics import accuracy_score, precision_score, recall_score\n",
    "from sklearn.neighbors import KNeighborsClassifier\n",
    "from sklearn import metrics\n",
    "from sklearn.metrics import classification_report, confusion_matrix\n",
    "\n",
    "pd.set_option(\"display.max_colwidth\", 10000)\n",
    "\n",
    "%matplotlib inline"
   ]
  },
  {
   "cell_type": "code",
   "execution_count": 2,
   "metadata": {},
   "outputs": [],
   "source": [
    "df = pd.read_csv('C:/Users/wongzn/Desktop/Transfer/df.csv')\n",
    "LDA_topics = pd.read_csv('C:/Users/wongzn/Desktop/LDA_topics.csv')\n",
    "df_sup = pd.read_csv('C:/Users/wongzn/Desktop/topics.csv')"
   ]
  },
  {
   "cell_type": "markdown",
   "metadata": {},
   "source": [
    "# Summarising Using GENSIM"
   ]
  },
  {
   "cell_type": "code",
   "execution_count": 3,
   "metadata": {},
   "outputs": [],
   "source": [
    "df = pd.concat([df,LDA_topics['Dominant_Topic']],axis=1)"
   ]
  },
  {
   "cell_type": "code",
   "execution_count": 4,
   "metadata": {},
   "outputs": [],
   "source": [
    "df = df[df['Topics'] != 'LIVE BLOG']\n",
    "df = df[~df['Article Content'].str.contains(\"ST Now\")]"
   ]
  },
  {
   "cell_type": "markdown",
   "metadata": {},
   "source": [
    "### Preprocessing For Keywords Extraction and Article Summarisation"
   ]
  },
  {
   "cell_type": "code",
   "execution_count": 5,
   "metadata": {
    "scrolled": false
   },
   "outputs": [],
   "source": [
    "def preprocess_content(column):\n",
    "    column = column.apply(lambda x: re.sub(r'\\([^)]*\\)', '',x)) #remove (anything in brackets)\n",
    "    column = column.apply(lambda x: re.sub(r'\\d{2}[/-]\\w{4}[/-]\\w{3,4}', '',x)) #remove(xx-year-old)\n",
    "    column = column.apply(lambda x: re.sub(r'straits times','',x, flags=re.IGNORECASE))\n",
    "    column = column.apply(lambda x: re.sub(r'per cent','',x, flags=re.IGNORECASE))\n",
    "    #column = column.apply(lambda x: re.sub('.\\d+.', ' ', x)) #removing digits \n",
    "    column = column.apply(lambda x: re.sub(r'cpl kok yuen chin','',x, flags=re.IGNORECASE))\n",
    "    column = column.apply(lambda x: re.sub(r'corporal kok yuen chin','',x, flags=re.IGNORECASE))\n",
    "    column = column.apply(lambda x: re.sub(r'cpl kok','',x, flags=re.IGNORECASE))\n",
    "    column = column.apply(lambda x: re.sub(r'singapore - ','',x, flags=re.IGNORECASE))\n",
    "    column = column.apply(lambda x: re.sub(r'SINGAPORE –','',x, flags=re.IGNORECASE))\n",
    "    #column = column.apply(lambda x: x.lower()) #convert to lowercase\n",
    "    column = column.apply(lambda x: re.sub('\\n','',x))\n",
    "    return column\n",
    "\n",
    "df['Article Content'] = preprocess_content(df['Article Content'])"
   ]
  },
  {
   "cell_type": "code",
   "execution_count": 6,
   "metadata": {},
   "outputs": [],
   "source": [
    "nlp = spacy.load('en_core_web_sm')\n",
    "stop_words = spacy.lang.en.stop_words.STOP_WORDS\n",
    "add_words = [\"singapore\",\"said\",\"also\",\"year\",\"month\", \"time\", \"last\", \"years\"]\n",
    "stop_words.update(add_words)"
   ]
  },
  {
   "cell_type": "code",
   "execution_count": 7,
   "metadata": {},
   "outputs": [],
   "source": [
    "def remove_stopwords(content):\n",
    "    content_new = ' '.join([i for i in content if i not in stop_words])\n",
    "    return content_new\n",
    "\n",
    "df['Article Content'] = df['Article Content'].apply(lambda x: ' '.join([w for w in x.split() if len(w)>1]))\n",
    "\n",
    "#Stop here for data for summarisation"
   ]
  },
  {
   "cell_type": "code",
   "execution_count": 8,
   "metadata": {},
   "outputs": [],
   "source": [
    "Article_content = [remove_stopwords(r.split()) for r in df['Article Content']]"
   ]
  },
  {
   "cell_type": "code",
   "execution_count": 9,
   "metadata": {},
   "outputs": [],
   "source": [
    "def lemmatization(texts, tags=['NOUN','ADJ','ADV','VERB']):\n",
    "    output=[]\n",
    "    for sent in texts:\n",
    "        doc = nlp(\" \".join(sent))\n",
    "        output.append([token.lemma_ for token in doc if token.pos_ in tags])\n",
    "    return output"
   ]
  },
  {
   "cell_type": "code",
   "execution_count": 10,
   "metadata": {
    "scrolled": false
   },
   "outputs": [],
   "source": [
    "tokenized_contents = pd.Series(Article_content).apply(lambda x: x.split())\n",
    "#print(tokenized_contents[0])"
   ]
  },
  {
   "cell_type": "code",
   "execution_count": 11,
   "metadata": {},
   "outputs": [],
   "source": [
    "lemmatized_contents = lemmatization(tokenized_contents,tags=['NOUN','ADJ','VERB','ADV']) \n",
    "#print(lemmatized_contents[0])"
   ]
  },
  {
   "cell_type": "code",
   "execution_count": 12,
   "metadata": {},
   "outputs": [],
   "source": [
    "def remove_stopwords(texts):\n",
    "    return [[word for word in doc if word.lower() not in stop_words] for doc in texts]"
   ]
  },
  {
   "cell_type": "code",
   "execution_count": 13,
   "metadata": {},
   "outputs": [],
   "source": [
    "no_stops = remove_stopwords(lemmatized_contents)"
   ]
  },
  {
   "cell_type": "code",
   "execution_count": 14,
   "metadata": {},
   "outputs": [],
   "source": [
    "Article_content_clean = []\n",
    "for i in range(len(no_stops)):\n",
    "    Article_content_clean.append(' '.join(no_stops[i]))\n",
    "df['Keywords Content'] = Article_content_clean\n",
    "\n",
    "#Stop here for data for keywords extraction"
   ]
  },
  {
   "cell_type": "code",
   "execution_count": 15,
   "metadata": {},
   "outputs": [],
   "source": [
    "df.reset_index(inplace=True)\n",
    "df.rename(columns={'Dominant_Topic': 'Dominant Topic'},inplace=True)"
   ]
  },
  {
   "cell_type": "code",
   "execution_count": 16,
   "metadata": {
    "scrolled": false
   },
   "outputs": [
    {
     "data": {
      "text/plain": [
       "'Malaysian suspect was arrested at the junction of Shenton Way and Maxwell Road last Thursday after he allegedly disposed of plastic bag containing 336g of Ice at carpark in the vicinity of Orchard Towers.\\nThey also recovered the plastic bag which contained 336g of Ice, valued at $33,000.\\nThree other suspected drug offenders, including Singaporean man, were arrested at Orchard Towers and the International Building last Thursday.'"
      ]
     },
     "execution_count": 16,
     "metadata": {},
     "output_type": "execute_result"
    }
   ],
   "source": [
    "summarize(df['Article Content'][0],ratio=0.2,word_count=80)"
   ]
  },
  {
   "cell_type": "markdown",
   "metadata": {},
   "source": [
    "# Code For Keywords Extraction Using Gensim"
   ]
  },
  {
   "cell_type": "code",
   "execution_count": 17,
   "metadata": {
    "scrolled": true
   },
   "outputs": [],
   "source": [
    "df['Article Content Keywords'] = df['Keywords Content'].apply(lambda x: keywords(x, words=10,lemmatize=True,split=True,deacc=True))"
   ]
  },
  {
   "cell_type": "markdown",
   "metadata": {},
   "source": [
    "## Constructing Wordcloud For Each Topic Based On Keywords Extracted"
   ]
  },
  {
   "cell_type": "code",
   "execution_count": 18,
   "metadata": {},
   "outputs": [],
   "source": [
    "from PIL import Image\n",
    "import random\n",
    "from wordcloud import WordCloud\n",
    "\n",
    "cloud_mask = np.array(Image.open(\"C:/Users/wongzn/Desktop/Cloud.jpg\"))\n",
    "\n",
    "def grey_color_func(word, font_size, position, orientation, random_state=None,**kwargs):\n",
    "    return \"hsl(0, 0%%, %d%%)\" % random.randint(10, 40)"
   ]
  },
  {
   "cell_type": "code",
   "execution_count": 19,
   "metadata": {},
   "outputs": [],
   "source": [
    "def find_topic_keywords(topic='Unknown', num_keywords=10):\n",
    "    kw = []\n",
    "    kw_new = []\n",
    "    for i in range(len(df)):\n",
    "        if df['Dominant Topic'][i] == topic:\n",
    "            kw.append(' '.join(df['Article Content Keywords'][i]))\n",
    "    \n",
    "    for j in range(len(kw)):\n",
    "        kw_new.append(kw[j].split())\n",
    "    \n",
    "    flat_list = [item for sublist in kw_new for item in sublist]\n",
    "    flat_list = pd.DataFrame(flat_list)\n",
    "    flat_list.rename(columns={0:'Keywords'}, inplace=True)\n",
    "    flat_list = pd.DataFrame({'Frequency':flat_list.Keywords.value_counts()[:num_keywords]})\n",
    "    flat_list = flat_list.rename_axis('Keywords').reset_index()\n",
    "    d={}\n",
    "    plt.figure(figsize=(20,8))\n",
    "    for a in range(len(flat_list)):\n",
    "        d[flat_list['Keywords'][a]]= flat_list['Frequency'][a]\n",
    "    wordcloud=WordCloud(background_color=\"white\", max_font_size=200, min_font_size=10,mask=cloud_mask,color_func = grey_color_func)\n",
    "    wordcloud.generate_from_frequencies(frequencies=d)\n",
    "    \n",
    "    plt.imshow(wordcloud)\n",
    "    plt.axis(\"off\")\n",
    "    return(flat_list[:10])"
   ]
  },
  {
   "cell_type": "code",
   "execution_count": 20,
   "metadata": {
    "scrolled": true
   },
   "outputs": [
    {
     "data": {
      "image/png": "[encoded data removed]",
      "text/plain": [
       "<Figure size 1440x576 with 1 Axes>"
      ]
     },
     "metadata": {
      "needs_background": "light"
     },
     "output_type": "display_data"
    }
   ],
   "source": [
    "#WordCloud\n",
    "\n",
    "topics = ['Accidents', 'Air and Road Transport','Crime','Crime (Cheat and Scams)', 'Diseases and Healthcare','Education and Community (Care and Support)','Employment and Technological Improvement','Food, Water, Waste', 'Housing and Living','Issues in Society','National Security and Global Issues',\n",
    "'Road Safety and PMD (Related News|Accidents)','Unknown','Weather']\n",
    "for i in topics:\n",
    "    find_topic_keywords(i,20)"
   ]
  },
  {
   "cell_type": "markdown",
   "metadata": {},
   "source": [
    "# Code For Article Summarisation Using Gensim (TextRank)"
   ]
  },
  {
   "cell_type": "code",
   "execution_count": 21,
   "metadata": {},
   "outputs": [],
   "source": [
    "df['Article Content Summary TextRank'] = df['Article Content'].apply(lambda x: summarize(x, ratio=0.1,word_count=50))"
   ]
  },
  {
   "cell_type": "markdown",
   "metadata": {},
   "source": [
    "# Output Of Keywords Extraction and Summarisation Using Gensim"
   ]
  },
  {
   "cell_type": "code",
   "execution_count": 22,
   "metadata": {},
   "outputs": [],
   "source": [
    "kw_col = []\n",
    "for doc in range(len(df['Article Content Keywords'])):\n",
    "    kw=[]\n",
    "    for word in range(len(df['Article Content Keywords'][doc])):\n",
    "        kw.append(df['Article Content Keywords'][doc][word].split())\n",
    "        flat_list = [item for sublist in kw for item in sublist]\n",
    "    kw_col.append(flat_list)\n",
    "    \n",
    "KW = []\n",
    "for i in range(len(kw_col)):\n",
    "    KW.append(', '.join(kw_col[i]))\n",
    "df['Article Keywords'] = KW"
   ]
  },
  {
   "cell_type": "code",
   "execution_count": 23,
   "metadata": {
    "scrolled": true
   },
   "outputs": [
    {
     "data": {
      "text/html": [
       "<div>\n",
       "<style scoped>\n",
       "    .dataframe tbody tr th:only-of-type {\n",
       "        vertical-align: middle;\n",
       "    }\n",
       "\n",
       "    .dataframe tbody tr th {\n",
       "        vertical-align: top;\n",
       "    }\n",
       "\n",
       "    .dataframe thead th {\n",
       "        text-align: right;\n",
       "    }\n",
       "</style>\n",
       "<table border=\"1\" class=\"dataframe\">\n",
       "  <thead>\n",
       "    <tr style=\"text-align: right;\">\n",
       "      <th></th>\n",
       "      <th>Article Title</th>\n",
       "      <th>Article Content Keywords</th>\n",
       "      <th>Article Content Summary TextRank</th>\n",
       "    </tr>\n",
       "  </thead>\n",
       "  <tbody>\n",
       "    <tr>\n",
       "      <th>0</th>\n",
       "      <td>Malaysian drug suspect arrested at Shenton Way junction after attempting hasty getaway on motorbike</td>\n",
       "      <td>[suspect arrest, drug, include, carpark, seize, operation, plastic, bottle, psychoactive]</td>\n",
       "      <td>Malaysian suspect was arrested at the junction of Shenton Way and Maxwell Road last Thursday after he allegedly disposed of plastic bag containing 336g of Ice at carpark in the vicinity of Orchard Towers.\\nThree other suspected drug offenders, including Singaporean man, were arrested at Orchard Towers and the International Building last Thursday.</td>\n",
       "    </tr>\n",
       "    <tr>\n",
       "      <th>1</th>\n",
       "      <td>SCDF ragging death: Being submerged in dark, confined well could be dangerous even for a swimmer, says expert</td>\n",
       "      <td>[water person, add, entering, officer, possible, drown, head, injury, trial]</td>\n",
       "      <td>Dr Paul, who performed the autopsy on said: \"There is also difference between how one reacts when he is prepared to enter the water or when it is sudden unexpected event.\" If it is unexpected, it could also result in startled \"inhalatory response\" that causes the person to breathe in water, he said, adding that it is common misconception that when somebody enters body of water, he or she will float.</td>\n",
       "    </tr>\n",
       "    <tr>\n",
       "      <th>2</th>\n",
       "      <td>Use technology to help people with special needs integrate as part of Smart Nation push: President Halimah</td>\n",
       "      <td>[student society, school, community, visit, need, technology, better, train, vocational]</td>\n",
       "      <td>The Republic should leverage on technology such as virtual simulation systems to better integrate people with special needs, including students, into society, said President Halimah Yacob.\\nHe is year one student pursuing an ITE Skills Certificate in Housekeeping Operations ST PHOTO: LIM YAOHUI This is Madam Halimah's fourth visit this year to school that supports students with special needs.</td>\n",
       "    </tr>\n",
       "    <tr>\n",
       "      <th>3</th>\n",
       "      <td>Work group's report aims to make medical disciplinary process fairer and faster</td>\n",
       "      <td>[doctor, complaint, patient, work, group, disciplinary, case, tell, medical, meet]</td>\n",
       "      <td>work group tasked with improving the medical watchdog's disciplinary process is looking at having sitting judge and permanent team of senior retired doctors to judge disciplinary cases, and screener who will ensure the system is not bogged down by frivolous complaints.</td>\n",
       "    </tr>\n",
       "    <tr>\n",
       "      <th>4</th>\n",
       "      <td>$1.25m 4-D win: Wife has equal share in husband's prize money, rules apex court</td>\n",
       "      <td>[win, wife, court, party, contribution, ticket, case, matrimonial, husband, divorce]</td>\n",
       "      <td>\"The more important point is the intention with which that ticket was purchased,\" said Judge of Appeal Phang on Thursday on behalf of the court, which included Justices Belinda Ang and Woo Bih Li. The High Court last year had held that the husband who bought the winning $1.25 million Singapore Pools 4-D ticket can treat the sum as his contribution to the purchase of the family home, without the wife having any share in the contribution.</td>\n",
       "    </tr>\n",
       "  </tbody>\n",
       "</table>\n",
       "</div>"
      ],
      "text/plain": [
       "                                                                                                    Article Title  \\\n",
       "0             Malaysian drug suspect arrested at Shenton Way junction after attempting hasty getaway on motorbike   \n",
       "1   SCDF ragging death: Being submerged in dark, confined well could be dangerous even for a swimmer, says expert   \n",
       "2      Use technology to help people with special needs integrate as part of Smart Nation push: President Halimah   \n",
       "3                                 Work group's report aims to make medical disciplinary process fairer and faster   \n",
       "4                                 $1.25m 4-D win: Wife has equal share in husband's prize money, rules apex court   \n",
       "\n",
       "                                                                    Article Content Keywords  \\\n",
       "0  [suspect arrest, drug, include, carpark, seize, operation, plastic, bottle, psychoactive]   \n",
       "1               [water person, add, entering, officer, possible, drown, head, injury, trial]   \n",
       "2   [student society, school, community, visit, need, technology, better, train, vocational]   \n",
       "3         [doctor, complaint, patient, work, group, disciplinary, case, tell, medical, meet]   \n",
       "4       [win, wife, court, party, contribution, ticket, case, matrimonial, husband, divorce]   \n",
       "\n",
       "                                                                                                                                                                                                                                                                                                                                                                                                                           Article Content Summary TextRank  \n",
       "0                                                                                              Malaysian suspect was arrested at the junction of Shenton Way and Maxwell Road last Thursday after he allegedly disposed of plastic bag containing 336g of Ice at carpark in the vicinity of Orchard Towers.\\nThree other suspected drug offenders, including Singaporean man, were arrested at Orchard Towers and the International Building last Thursday.  \n",
       "1                                        Dr Paul, who performed the autopsy on said: \"There is also difference between how one reacts when he is prepared to enter the water or when it is sudden unexpected event.\" If it is unexpected, it could also result in startled \"inhalatory response\" that causes the person to breathe in water, he said, adding that it is common misconception that when somebody enters body of water, he or she will float.  \n",
       "2                                               The Republic should leverage on technology such as virtual simulation systems to better integrate people with special needs, including students, into society, said President Halimah Yacob.\\nHe is year one student pursuing an ITE Skills Certificate in Housekeeping Operations ST PHOTO: LIM YAOHUI This is Madam Halimah's fourth visit this year to school that supports students with special needs.  \n",
       "3                                                                                                                                                                             work group tasked with improving the medical watchdog's disciplinary process is looking at having sitting judge and permanent team of senior retired doctors to judge disciplinary cases, and screener who will ensure the system is not bogged down by frivolous complaints.  \n",
       "4  \"The more important point is the intention with which that ticket was purchased,\" said Judge of Appeal Phang on Thursday on behalf of the court, which included Justices Belinda Ang and Woo Bih Li. The High Court last year had held that the husband who bought the winning $1.25 million Singapore Pools 4-D ticket can treat the sum as his contribution to the purchase of the family home, without the wife having any share in the contribution.  "
      ]
     },
     "execution_count": 23,
     "metadata": {},
     "output_type": "execute_result"
    }
   ],
   "source": [
    "df[['Article Title','Article Content Keywords','Article Content Summary TextRank']].head()"
   ]
  },
  {
   "cell_type": "markdown",
   "metadata": {},
   "source": [
    "# Article Summarisation With Cosine Similarity"
   ]
  },
  {
   "cell_type": "code",
   "execution_count": 24,
   "metadata": {},
   "outputs": [],
   "source": [
    "def find_similarities(text):\n",
    "    sentences = sent_tokenize(text)\n",
    "    stops = list(set(stopwords.words('english'))) + list(punctuation)\n",
    "    vectorizer = TfidfVectorizer(stop_words = stops)\n",
    "    trsfm=vectorizer.fit_transform(sentences)\n",
    "    \n",
    "    text_df = pd.DataFrame(trsfm.toarray(),columns=vectorizer.get_feature_names(),index=sentences)\n",
    "    \n",
    "    num_sentences = text_df.shape[0]\n",
    "    num_summary_sentences = int(np.ceil(num_sentences**.5))\n",
    "        \n",
    "    similarities = cosine_similarity(trsfm, trsfm)\n",
    "    avgs = []\n",
    "    for i in similarities:\n",
    "        avgs.append(i.mean())\n",
    "    top_idx = np.argsort(avgs)[-num_summary_sentences:]\n",
    "    \n",
    "    return top_idx"
   ]
  },
  {
   "cell_type": "code",
   "execution_count": 25,
   "metadata": {},
   "outputs": [],
   "source": [
    "def build_summary(text):\n",
    "    sents_for_sum = find_similarities(text)\n",
    "    sort = sorted(sents_for_sum)[0:1]\n",
    "    sent_list = sent_tokenize(text)\n",
    "    sents = []\n",
    "    for i in sort:\n",
    "        sents.append(sent_list[i].replace('\\n', ''))\n",
    "    summary = ' '.join(sents)\n",
    "    return summary"
   ]
  },
  {
   "cell_type": "code",
   "execution_count": 26,
   "metadata": {},
   "outputs": [],
   "source": [
    "df['Article Content Summary Cosine Similarity'] = df['Article Content'].apply(lambda x: build_summary(x))"
   ]
  },
  {
   "cell_type": "code",
   "execution_count": 27,
   "metadata": {},
   "outputs": [
    {
     "data": {
      "text/html": [
       "<div>\n",
       "<style scoped>\n",
       "    .dataframe tbody tr th:only-of-type {\n",
       "        vertical-align: middle;\n",
       "    }\n",
       "\n",
       "    .dataframe tbody tr th {\n",
       "        vertical-align: top;\n",
       "    }\n",
       "\n",
       "    .dataframe thead th {\n",
       "        text-align: right;\n",
       "    }\n",
       "</style>\n",
       "<table border=\"1\" class=\"dataframe\">\n",
       "  <thead>\n",
       "    <tr style=\"text-align: right;\">\n",
       "      <th></th>\n",
       "      <th>Article Title</th>\n",
       "      <th>Article Content Keywords</th>\n",
       "      <th>Article Content Summary TextRank</th>\n",
       "      <th>Article Content Summary Cosine Similarity</th>\n",
       "    </tr>\n",
       "  </thead>\n",
       "  <tbody>\n",
       "    <tr>\n",
       "      <th>0</th>\n",
       "      <td>Malaysian drug suspect arrested at Shenton Way junction after attempting hasty getaway on motorbike</td>\n",
       "      <td>[suspect arrest, drug, include, carpark, seize, operation, plastic, bottle, psychoactive]</td>\n",
       "      <td>Malaysian suspect was arrested at the junction of Shenton Way and Maxwell Road last Thursday after he allegedly disposed of plastic bag containing 336g of Ice at carpark in the vicinity of Orchard Towers.\\nThree other suspected drug offenders, including Singaporean man, were arrested at Orchard Towers and the International Building last Thursday.</td>\n",
       "      <td>Malaysian suspect was arrested at the junction of Shenton Way and Maxwell Road last Thursday after he allegedly disposed of plastic bag containing 336g of Ice at carpark in the vicinity of Orchard Towers.</td>\n",
       "    </tr>\n",
       "    <tr>\n",
       "      <th>1</th>\n",
       "      <td>SCDF ragging death: Being submerged in dark, confined well could be dangerous even for a swimmer, says expert</td>\n",
       "      <td>[water person, add, entering, officer, possible, drown, head, injury, trial]</td>\n",
       "      <td>Dr Paul, who performed the autopsy on said: \"There is also difference between how one reacts when he is prepared to enter the water or when it is sudden unexpected event.\" If it is unexpected, it could also result in startled \"inhalatory response\" that causes the person to breathe in water, he said, adding that it is common misconception that when somebody enters body of water, he or she will float.</td>\n",
       "      <td>Dr Paul, who performed the autopsy on said: \"There is also difference between how one reacts when he is prepared to enter the water or when it is sudden unexpected event.\"</td>\n",
       "    </tr>\n",
       "    <tr>\n",
       "      <th>2</th>\n",
       "      <td>Use technology to help people with special needs integrate as part of Smart Nation push: President Halimah</td>\n",
       "      <td>[student society, school, community, visit, need, technology, better, train, vocational]</td>\n",
       "      <td>The Republic should leverage on technology such as virtual simulation systems to better integrate people with special needs, including students, into society, said President Halimah Yacob.\\nHe is year one student pursuing an ITE Skills Certificate in Housekeeping Operations ST PHOTO: LIM YAOHUI This is Madam Halimah's fourth visit this year to school that supports students with special needs.</td>\n",
       "      <td>The Republic should leverage on technology such as virtual simulation systems to better integrate people with special needs, including students, into society, said President Halimah Yacob.</td>\n",
       "    </tr>\n",
       "    <tr>\n",
       "      <th>3</th>\n",
       "      <td>Work group's report aims to make medical disciplinary process fairer and faster</td>\n",
       "      <td>[doctor, complaint, patient, work, group, disciplinary, case, tell, medical, meet]</td>\n",
       "      <td>work group tasked with improving the medical watchdog's disciplinary process is looking at having sitting judge and permanent team of senior retired doctors to judge disciplinary cases, and screener who will ensure the system is not bogged down by frivolous complaints.</td>\n",
       "      <td>work group tasked with improving the medical watchdog's disciplinary process is looking at having sitting judge and permanent team of senior retired doctors to judge disciplinary cases, and screener who will ensure the system is not bogged down by frivolous complaints.</td>\n",
       "    </tr>\n",
       "    <tr>\n",
       "      <th>4</th>\n",
       "      <td>$1.25m 4-D win: Wife has equal share in husband's prize money, rules apex court</td>\n",
       "      <td>[win, wife, court, party, contribution, ticket, case, matrimonial, husband, divorce]</td>\n",
       "      <td>\"The more important point is the intention with which that ticket was purchased,\" said Judge of Appeal Phang on Thursday on behalf of the court, which included Justices Belinda Ang and Woo Bih Li. The High Court last year had held that the husband who bought the winning $1.25 million Singapore Pools 4-D ticket can treat the sum as his contribution to the purchase of the family home, without the wife having any share in the contribution.</td>\n",
       "      <td>Singapore's apex court has ruled that the lottery winnings of spouse are part of couple's matrimonial assets to be shared equally, when the ticket is bought with the intention of benefiting the family instead of the winner alone.</td>\n",
       "    </tr>\n",
       "  </tbody>\n",
       "</table>\n",
       "</div>"
      ],
      "text/plain": [
       "                                                                                                    Article Title  \\\n",
       "0             Malaysian drug suspect arrested at Shenton Way junction after attempting hasty getaway on motorbike   \n",
       "1   SCDF ragging death: Being submerged in dark, confined well could be dangerous even for a swimmer, says expert   \n",
       "2      Use technology to help people with special needs integrate as part of Smart Nation push: President Halimah   \n",
       "3                                 Work group's report aims to make medical disciplinary process fairer and faster   \n",
       "4                                 $1.25m 4-D win: Wife has equal share in husband's prize money, rules apex court   \n",
       "\n",
       "                                                                    Article Content Keywords  \\\n",
       "0  [suspect arrest, drug, include, carpark, seize, operation, plastic, bottle, psychoactive]   \n",
       "1               [water person, add, entering, officer, possible, drown, head, injury, trial]   \n",
       "2   [student society, school, community, visit, need, technology, better, train, vocational]   \n",
       "3         [doctor, complaint, patient, work, group, disciplinary, case, tell, medical, meet]   \n",
       "4       [win, wife, court, party, contribution, ticket, case, matrimonial, husband, divorce]   \n",
       "\n",
       "                                                                                                                                                                                                                                                                                                                                                                                                                           Article Content Summary TextRank  \\\n",
       "0                                                                                              Malaysian suspect was arrested at the junction of Shenton Way and Maxwell Road last Thursday after he allegedly disposed of plastic bag containing 336g of Ice at carpark in the vicinity of Orchard Towers.\\nThree other suspected drug offenders, including Singaporean man, were arrested at Orchard Towers and the International Building last Thursday.   \n",
       "1                                        Dr Paul, who performed the autopsy on said: \"There is also difference between how one reacts when he is prepared to enter the water or when it is sudden unexpected event.\" If it is unexpected, it could also result in startled \"inhalatory response\" that causes the person to breathe in water, he said, adding that it is common misconception that when somebody enters body of water, he or she will float.   \n",
       "2                                               The Republic should leverage on technology such as virtual simulation systems to better integrate people with special needs, including students, into society, said President Halimah Yacob.\\nHe is year one student pursuing an ITE Skills Certificate in Housekeeping Operations ST PHOTO: LIM YAOHUI This is Madam Halimah's fourth visit this year to school that supports students with special needs.   \n",
       "3                                                                                                                                                                             work group tasked with improving the medical watchdog's disciplinary process is looking at having sitting judge and permanent team of senior retired doctors to judge disciplinary cases, and screener who will ensure the system is not bogged down by frivolous complaints.   \n",
       "4  \"The more important point is the intention with which that ticket was purchased,\" said Judge of Appeal Phang on Thursday on behalf of the court, which included Justices Belinda Ang and Woo Bih Li. The High Court last year had held that the husband who bought the winning $1.25 million Singapore Pools 4-D ticket can treat the sum as his contribution to the purchase of the family home, without the wife having any share in the contribution.   \n",
       "\n",
       "                                                                                                                                                                                                                                       Article Content Summary Cosine Similarity  \n",
       "0                                                                   Malaysian suspect was arrested at the junction of Shenton Way and Maxwell Road last Thursday after he allegedly disposed of plastic bag containing 336g of Ice at carpark in the vicinity of Orchard Towers.  \n",
       "1                                                                                                    Dr Paul, who performed the autopsy on said: \"There is also difference between how one reacts when he is prepared to enter the water or when it is sudden unexpected event.\"  \n",
       "2                                                                                   The Republic should leverage on technology such as virtual simulation systems to better integrate people with special needs, including students, into society, said President Halimah Yacob.  \n",
       "3  work group tasked with improving the medical watchdog's disciplinary process is looking at having sitting judge and permanent team of senior retired doctors to judge disciplinary cases, and screener who will ensure the system is not bogged down by frivolous complaints.  \n",
       "4                                          Singapore's apex court has ruled that the lottery winnings of spouse are part of couple's matrimonial assets to be shared equally, when the ticket is bought with the intention of benefiting the family instead of the winner alone.  "
      ]
     },
     "execution_count": 27,
     "metadata": {},
     "output_type": "execute_result"
    }
   ],
   "source": [
    "df[['Article Title','Article Content Keywords','Article Content Summary TextRank','Article Content Summary Cosine Similarity']].head()"
   ]
  },
  {
   "cell_type": "code",
   "execution_count": 28,
   "metadata": {},
   "outputs": [],
   "source": [
    "summary_content = df[['Article Title','Article Content Summary Cosine Similarity']].to_csv('C:/Users/wongzn/Desktop/summary_content.csv',index=False)"
   ]
  },
  {
   "cell_type": "markdown",
   "metadata": {},
   "source": [
    "# Evaluation Metrics for Article Summary"
   ]
  },
  {
   "cell_type": "markdown",
   "metadata": {},
   "source": [
    "### Looking At Rouge Score Between Golden Summary (Article Title) VS Machine Summary"
   ]
  },
  {
   "cell_type": "code",
   "execution_count": 29,
   "metadata": {},
   "outputs": [],
   "source": [
    "#Preprocessing of Golden Summary (Article Title)\n",
    "Article_content_ref = preprocess_content(df['Article Title'])\n",
    "tokenized_contents_ref = pd.Series(Article_content_ref).apply(lambda x: x.split())\n",
    "lemmatized_contents_ref = lemmatization(tokenized_contents_ref) \n",
    "ref_lemmatized = remove_stopwords(lemmatized_contents_ref)"
   ]
  },
  {
   "cell_type": "code",
   "execution_count": 30,
   "metadata": {},
   "outputs": [],
   "source": [
    "#Preprocessing of Machine Summary \n",
    "Article_content_cosine = preprocess_content(df['Article Content Summary Cosine Similarity'])\n",
    "tokenized_contents_cosine = pd.Series(Article_content_cosine).apply(lambda x: x.split())\n",
    "lemmatized_contents_cosine = lemmatization(tokenized_contents_cosine) \n",
    "sum_lemmatized_cosine = remove_stopwords(lemmatized_contents_cosine)"
   ]
  },
  {
   "cell_type": "code",
   "execution_count": 31,
   "metadata": {},
   "outputs": [],
   "source": [
    "recall1 = []\n",
    "precision1 = []\n",
    "rouge1 = []\n",
    "\n",
    "from rouge.rouge import rouge_n_sentence_level\n",
    "\n",
    "for row in range(len(df['Article Content'])):\n",
    "    recall, precision, rouge = rouge_n_sentence_level(ref_lemmatized[row], sum_lemmatized_cosine[row], 1)\n",
    "    recall1.append(recall)\n",
    "    precision1.append(precision)\n",
    "    rouge1.append(rouge)"
   ]
  },
  {
   "cell_type": "code",
   "execution_count": 32,
   "metadata": {},
   "outputs": [
    {
     "data": {
      "text/html": [
       "<div>\n",
       "<style scoped>\n",
       "    .dataframe tbody tr th:only-of-type {\n",
       "        vertical-align: middle;\n",
       "    }\n",
       "\n",
       "    .dataframe tbody tr th {\n",
       "        vertical-align: top;\n",
       "    }\n",
       "\n",
       "    .dataframe thead th {\n",
       "        text-align: right;\n",
       "    }\n",
       "</style>\n",
       "<table border=\"1\" class=\"dataframe\">\n",
       "  <thead>\n",
       "    <tr style=\"text-align: right;\">\n",
       "      <th></th>\n",
       "      <th>recall</th>\n",
       "      <th>precision</th>\n",
       "      <th>rouge</th>\n",
       "    </tr>\n",
       "  </thead>\n",
       "  <tbody>\n",
       "    <tr>\n",
       "      <th>count</th>\n",
       "      <td>2598.000000</td>\n",
       "      <td>2598.000000</td>\n",
       "      <td>2598.000000</td>\n",
       "    </tr>\n",
       "    <tr>\n",
       "      <th>mean</th>\n",
       "      <td>0.261271</td>\n",
       "      <td>0.468935</td>\n",
       "      <td>0.317348</td>\n",
       "    </tr>\n",
       "    <tr>\n",
       "      <th>std</th>\n",
       "      <td>0.202937</td>\n",
       "      <td>0.314040</td>\n",
       "      <td>0.221127</td>\n",
       "    </tr>\n",
       "    <tr>\n",
       "      <th>min</th>\n",
       "      <td>0.000000</td>\n",
       "      <td>0.000000</td>\n",
       "      <td>0.000000</td>\n",
       "    </tr>\n",
       "    <tr>\n",
       "      <th>25%</th>\n",
       "      <td>0.111111</td>\n",
       "      <td>0.200000</td>\n",
       "      <td>0.142857</td>\n",
       "    </tr>\n",
       "    <tr>\n",
       "      <th>50%</th>\n",
       "      <td>0.229021</td>\n",
       "      <td>0.500000</td>\n",
       "      <td>0.307692</td>\n",
       "    </tr>\n",
       "    <tr>\n",
       "      <th>75%</th>\n",
       "      <td>0.368421</td>\n",
       "      <td>0.714286</td>\n",
       "      <td>0.465385</td>\n",
       "    </tr>\n",
       "    <tr>\n",
       "      <th>max</th>\n",
       "      <td>1.000000</td>\n",
       "      <td>1.000000</td>\n",
       "      <td>1.000000</td>\n",
       "    </tr>\n",
       "  </tbody>\n",
       "</table>\n",
       "</div>"
      ],
      "text/plain": [
       "            recall    precision        rouge\n",
       "count  2598.000000  2598.000000  2598.000000\n",
       "mean      0.261271     0.468935     0.317348\n",
       "std       0.202937     0.314040     0.221127\n",
       "min       0.000000     0.000000     0.000000\n",
       "25%       0.111111     0.200000     0.142857\n",
       "50%       0.229021     0.500000     0.307692\n",
       "75%       0.368421     0.714286     0.465385\n",
       "max       1.000000     1.000000     1.000000"
      ]
     },
     "execution_count": 32,
     "metadata": {},
     "output_type": "execute_result"
    }
   ],
   "source": [
    "Summary_Evaluation = pd.DataFrame()\n",
    "\n",
    "Summary_Evaluation['recall'] = recall1\n",
    "Summary_Evaluation['precision'] = precision1\n",
    "Summary_Evaluation['rouge'] = rouge1\n",
    "Summary_Evaluation.describe()"
   ]
  },
  {
   "cell_type": "markdown",
   "metadata": {},
   "source": [
    "### Predicting Topic of Machine Summary With LDA Model"
   ]
  },
  {
   "cell_type": "code",
   "execution_count": 33,
   "metadata": {},
   "outputs": [
    {
     "name": "stderr",
     "output_type": "stream",
     "text": [
      "INFO:gensim.corpora.dictionary:adding document #0 to Dictionary(0 unique tokens: [])\n",
      "INFO:gensim.corpora.dictionary:built Dictionary(12 unique tokens: ['computer', 'human', 'interface', 'response', 'survey']...) from 9 documents (total 29 corpus positions)\n",
      "INFO:gensim.utils:loading LdaModel object from C:/Users/wongzn/Desktop/LDA_model\n",
      "INFO:gensim.utils:loading expElogbeta from C:/Users/wongzn/Desktop/LDA_model.expElogbeta.npy with mmap=None\n",
      "INFO:gensim.utils:setting ignored attribute dispatcher to None\n",
      "INFO:gensim.utils:setting ignored attribute state to None\n",
      "INFO:gensim.utils:setting ignored attribute id2word to None\n",
      "INFO:gensim.utils:loaded C:/Users/wongzn/Desktop/LDA_model\n",
      "INFO:gensim.utils:loading LdaState object from C:/Users/wongzn/Desktop/LDA_model.state\n",
      "INFO:gensim.utils:loaded C:/Users/wongzn/Desktop/LDA_model.state\n"
     ]
    }
   ],
   "source": [
    "from gensim.test.utils import datapath\n",
    "import gensim\n",
    "\n",
    "temp_file = datapath(\"C:/Users/wongzn/Desktop/LDA_model\")\n",
    "lda = gensim.models.ldamodel.LdaModel.load(temp_file)"
   ]
  },
  {
   "cell_type": "code",
   "execution_count": 34,
   "metadata": {
    "scrolled": true
   },
   "outputs": [
    {
     "data": {
      "text/html": [
       "<div>\n",
       "<style scoped>\n",
       "    .dataframe tbody tr th:only-of-type {\n",
       "        vertical-align: middle;\n",
       "    }\n",
       "\n",
       "    .dataframe tbody tr th {\n",
       "        vertical-align: top;\n",
       "    }\n",
       "\n",
       "    .dataframe thead th {\n",
       "        text-align: right;\n",
       "    }\n",
       "</style>\n",
       "<table border=\"1\" class=\"dataframe\">\n",
       "  <thead>\n",
       "    <tr style=\"text-align: right;\">\n",
       "      <th></th>\n",
       "      <th>Article Title</th>\n",
       "      <th>Article Content Summary Cosine Similarity</th>\n",
       "      <th>Dominant Topic</th>\n",
       "    </tr>\n",
       "  </thead>\n",
       "  <tbody>\n",
       "    <tr>\n",
       "      <th>0</th>\n",
       "      <td>Malaysian drug suspect arrested at Shenton Way junction after attempting hasty getaway on motorbike</td>\n",
       "      <td>Malaysian suspect was arrested at the junction of Shenton Way and Maxwell Road last Thursday after he allegedly disposed of plastic bag containing 336g of Ice at carpark in the vicinity of Orchard Towers.</td>\n",
       "      <td>Crime</td>\n",
       "    </tr>\n",
       "    <tr>\n",
       "      <th>1</th>\n",
       "      <td>SCDF ragging death: Being submerged in dark, confined well could be dangerous even for a swimmer, says expert</td>\n",
       "      <td>Dr Paul, who performed the autopsy on said: \"There is also difference between how one reacts when he is prepared to enter the water or when it is sudden unexpected event.\"</td>\n",
       "      <td>Accidents</td>\n",
       "    </tr>\n",
       "    <tr>\n",
       "      <th>2</th>\n",
       "      <td>Use technology to help people with special needs integrate as part of Smart Nation push: President Halimah</td>\n",
       "      <td>The Republic should leverage on technology such as virtual simulation systems to better integrate people with special needs, including students, into society, said President Halimah Yacob.</td>\n",
       "      <td>Education and Community (Care and Support)</td>\n",
       "    </tr>\n",
       "    <tr>\n",
       "      <th>3</th>\n",
       "      <td>Work group's report aims to make medical disciplinary process fairer and faster</td>\n",
       "      <td>work group tasked with improving the medical watchdog's disciplinary process is looking at having sitting judge and permanent team of senior retired doctors to judge disciplinary cases, and screener who will ensure the system is not bogged down by frivolous complaints.</td>\n",
       "      <td>Crime</td>\n",
       "    </tr>\n",
       "    <tr>\n",
       "      <th>4</th>\n",
       "      <td>$1.25m 4-D win: Wife has equal share in husband's prize money, rules apex court</td>\n",
       "      <td>Singapore's apex court has ruled that the lottery winnings of spouse are part of couple's matrimonial assets to be shared equally, when the ticket is bought with the intention of benefiting the family instead of the winner alone.</td>\n",
       "      <td>Housing and Living</td>\n",
       "    </tr>\n",
       "  </tbody>\n",
       "</table>\n",
       "</div>"
      ],
      "text/plain": [
       "                                                                                                    Article Title  \\\n",
       "0             Malaysian drug suspect arrested at Shenton Way junction after attempting hasty getaway on motorbike   \n",
       "1   SCDF ragging death: Being submerged in dark, confined well could be dangerous even for a swimmer, says expert   \n",
       "2      Use technology to help people with special needs integrate as part of Smart Nation push: President Halimah   \n",
       "3                                 Work group's report aims to make medical disciplinary process fairer and faster   \n",
       "4                                 $1.25m 4-D win: Wife has equal share in husband's prize money, rules apex court   \n",
       "\n",
       "                                                                                                                                                                                                                                       Article Content Summary Cosine Similarity  \\\n",
       "0                                                                   Malaysian suspect was arrested at the junction of Shenton Way and Maxwell Road last Thursday after he allegedly disposed of plastic bag containing 336g of Ice at carpark in the vicinity of Orchard Towers.   \n",
       "1                                                                                                    Dr Paul, who performed the autopsy on said: \"There is also difference between how one reacts when he is prepared to enter the water or when it is sudden unexpected event.\"   \n",
       "2                                                                                   The Republic should leverage on technology such as virtual simulation systems to better integrate people with special needs, including students, into society, said President Halimah Yacob.   \n",
       "3  work group tasked with improving the medical watchdog's disciplinary process is looking at having sitting judge and permanent team of senior retired doctors to judge disciplinary cases, and screener who will ensure the system is not bogged down by frivolous complaints.   \n",
       "4                                          Singapore's apex court has ruled that the lottery winnings of spouse are part of couple's matrimonial assets to be shared equally, when the ticket is bought with the intention of benefiting the family instead of the winner alone.   \n",
       "\n",
       "                               Dominant Topic  \n",
       "0                                       Crime  \n",
       "1                                   Accidents  \n",
       "2  Education and Community (Care and Support)  \n",
       "3                                       Crime  \n",
       "4                          Housing and Living  "
      ]
     },
     "execution_count": 34,
     "metadata": {},
     "output_type": "execute_result"
    }
   ],
   "source": [
    "eval_cos_sum = pd.merge(df_sup[['Article Title','Clean Contents','Dominant Topic']],df[['Article Title','Article Content Summary Cosine Similarity']],how='inner',on='Article Title')\n",
    "eval_cos_sum = eval_cos_sum[['Article Title','Article Content Summary Cosine Similarity','Dominant Topic']]\n",
    "eval_cos_sum.head()"
   ]
  },
  {
   "cell_type": "markdown",
   "metadata": {},
   "source": [
    "### Preprocessing Article Summary and Article Title for LDA Prediction (Model From Task 1)"
   ]
  },
  {
   "cell_type": "code",
   "execution_count": 35,
   "metadata": {},
   "outputs": [],
   "source": [
    "def tokenize_words(column):\n",
    "    for word in column:\n",
    "        yield(gensim.utils.simple_preprocess(str(word),deacc=True))\n",
    "   \n",
    "def make_bigrams(texts):\n",
    "    return [bigram_mod[doc] for doc in texts]\n",
    "\n",
    "def lemmatization(texts, allowed_postags=['NOUN', 'ADJ', 'VERB', 'ADV']):\n",
    "    texts_out = []\n",
    "    for sent in texts:\n",
    "        doc = nlp(\" \".join(sent))\n",
    "        texts_out.append([token.lemma_ for token in doc if token.pos_ in allowed_postags])\n",
    "    return texts_out\n",
    "\n",
    "def remove_stopwords(texts):\n",
    "    return [[word for word in simple_preprocess(str(doc)) if word.lower() not in stop_words] for doc in texts]"
   ]
  },
  {
   "cell_type": "code",
   "execution_count": 36,
   "metadata": {},
   "outputs": [
    {
     "name": "stderr",
     "output_type": "stream",
     "text": [
      "INFO:gensim.models.phrases:collecting all words and their counts\n",
      "INFO:gensim.models.phrases:PROGRESS: at sentence #0, processed 0 words and 0 word types\n",
      "INFO:gensim.models.phrases:collected 56950 word types from a corpus of 85022 words (unigram + bigrams) and 2598 sentences\n",
      "INFO:gensim.models.phrases:using 56950 counts as vocab in Phrases<0 vocab, min_count=3, threshold=100, max_vocab_size=40000000>\n",
      "INFO:gensim.models.phrases:source_vocab length 56950\n",
      "INFO:gensim.models.phrases:Phraser built with 379 phrasegrams\n"
     ]
    }
   ],
   "source": [
    "eval_cos_sum['Article Content Summary Cosine Similarity'] = eval_cos_sum['Article Content Summary Cosine Similarity'].astype(str)\n",
    "eval_cos_sum['Article Content Summary Cosine Similarity'] = preprocess_content(eval_cos_sum['Article Content Summary Cosine Similarity'])\n",
    "\n",
    "data_words_test = list(tokenize_words(eval_cos_sum['Article Content Summary Cosine Similarity']))\n",
    "bigram = Phrases(data_words_test,min_count=3, threshold=100)\n",
    "bigram_mod = Phraser(bigram)\n",
    "data_words_bigrams_test = make_bigrams(remove_stopwords(data_words_test))\n",
    "\n",
    "data_lemmatized_test = lemmatization(data_words_bigrams_test, allowed_postags=['NOUN', 'ADJ','VERB'])\n",
    "data_words_nostops_test = remove_stopwords(data_lemmatized_test)\n",
    "\n",
    "Article_content_clean = []\n",
    "for i in range(len(data_words_nostops_test)):\n",
    "    Article_content_clean.append(' '.join(data_words_nostops_test[i]))\n",
    "eval_cos_sum['Clean Contents'] = Article_content_clean"
   ]
  },
  {
   "cell_type": "code",
   "execution_count": 37,
   "metadata": {},
   "outputs": [],
   "source": [
    "Train_X = df_sup['Clean Contents']\n",
    "Test_X = eval_cos_sum['Clean Contents']\n",
    "Train_Y = df_sup['Dominant Topic']"
   ]
  },
  {
   "cell_type": "code",
   "execution_count": 38,
   "metadata": {},
   "outputs": [],
   "source": [
    "Tfidf_vect = TfidfVectorizer(lowercase=True, min_df=5,max_df=0.9)\n",
    "Tfidf_vect.fit(Train_X)\n",
    "\n",
    "Train_X_Tfidf = Tfidf_vect.transform(Train_X)\n",
    "Test_X_Tfidf = Tfidf_vect.transform(Test_X)"
   ]
  },
  {
   "cell_type": "code",
   "execution_count": 39,
   "metadata": {},
   "outputs": [],
   "source": [
    "SVM = svm.SVC(C=1.6, kernel='linear', degree=3, random_state=1)\n",
    "SVM.fit(Train_X_Tfidf,Train_Y)\n",
    "\n",
    "# predict the labels on validation dataset\n",
    "sum_predictions_SVM = SVM.predict(Test_X_Tfidf)"
   ]
  },
  {
   "cell_type": "code",
   "execution_count": 40,
   "metadata": {
    "scrolled": true
   },
   "outputs": [
    {
     "data": {
      "text/html": [
       "<div>\n",
       "<style scoped>\n",
       "    .dataframe tbody tr th:only-of-type {\n",
       "        vertical-align: middle;\n",
       "    }\n",
       "\n",
       "    .dataframe tbody tr th {\n",
       "        vertical-align: top;\n",
       "    }\n",
       "\n",
       "    .dataframe thead th {\n",
       "        text-align: right;\n",
       "    }\n",
       "</style>\n",
       "<table border=\"1\" class=\"dataframe\">\n",
       "  <thead>\n",
       "    <tr style=\"text-align: right;\">\n",
       "      <th></th>\n",
       "      <th>Article Title</th>\n",
       "      <th>Article Content Summary Cosine Similarity</th>\n",
       "      <th>Dominant Topic</th>\n",
       "      <th>Predicted Summary Topics</th>\n",
       "    </tr>\n",
       "  </thead>\n",
       "  <tbody>\n",
       "    <tr>\n",
       "      <th>0</th>\n",
       "      <td>Malaysian drug suspect arrested at Shenton Way junction after attempting hasty getaway on motorbike</td>\n",
       "      <td>Malaysian suspect was arrested at the junction of Shenton Way and Maxwell Road last Thursday after he allegedly disposed of plastic bag containing 336g of Ice at carpark in the vicinity of Orchard Towers.</td>\n",
       "      <td>Crime</td>\n",
       "      <td>Crime</td>\n",
       "    </tr>\n",
       "    <tr>\n",
       "      <th>1</th>\n",
       "      <td>SCDF ragging death: Being submerged in dark, confined well could be dangerous even for a swimmer, says expert</td>\n",
       "      <td>Dr Paul, who performed the autopsy on said: \"There is also difference between how one reacts when he is prepared to enter the water or when it is sudden unexpected event.\"</td>\n",
       "      <td>Accidents</td>\n",
       "      <td>Education and Community (Care and Support)</td>\n",
       "    </tr>\n",
       "    <tr>\n",
       "      <th>2</th>\n",
       "      <td>Use technology to help people with special needs integrate as part of Smart Nation push: President Halimah</td>\n",
       "      <td>The Republic should leverage on technology such as virtual simulation systems to better integrate people with special needs, including students, into society, said President Halimah Yacob.</td>\n",
       "      <td>Education and Community (Care and Support)</td>\n",
       "      <td>Education and Community (Care and Support)</td>\n",
       "    </tr>\n",
       "    <tr>\n",
       "      <th>3</th>\n",
       "      <td>Work group's report aims to make medical disciplinary process fairer and faster</td>\n",
       "      <td>work group tasked with improving the medical watchdog's disciplinary process is looking at having sitting judge and permanent team of senior retired doctors to judge disciplinary cases, and screener who will ensure the system is not bogged down by frivolous complaints.</td>\n",
       "      <td>Crime</td>\n",
       "      <td>Crime</td>\n",
       "    </tr>\n",
       "    <tr>\n",
       "      <th>4</th>\n",
       "      <td>$1.25m 4-D win: Wife has equal share in husband's prize money, rules apex court</td>\n",
       "      <td>Singapore's apex court has ruled that the lottery winnings of spouse are part of couple's matrimonial assets to be shared equally, when the ticket is bought with the intention of benefiting the family instead of the winner alone.</td>\n",
       "      <td>Housing and Living</td>\n",
       "      <td>Housing and Living</td>\n",
       "    </tr>\n",
       "  </tbody>\n",
       "</table>\n",
       "</div>"
      ],
      "text/plain": [
       "                                                                                                    Article Title  \\\n",
       "0             Malaysian drug suspect arrested at Shenton Way junction after attempting hasty getaway on motorbike   \n",
       "1   SCDF ragging death: Being submerged in dark, confined well could be dangerous even for a swimmer, says expert   \n",
       "2      Use technology to help people with special needs integrate as part of Smart Nation push: President Halimah   \n",
       "3                                 Work group's report aims to make medical disciplinary process fairer and faster   \n",
       "4                                 $1.25m 4-D win: Wife has equal share in husband's prize money, rules apex court   \n",
       "\n",
       "                                                                                                                                                                                                                                       Article Content Summary Cosine Similarity  \\\n",
       "0                                                                   Malaysian suspect was arrested at the junction of Shenton Way and Maxwell Road last Thursday after he allegedly disposed of plastic bag containing 336g of Ice at carpark in the vicinity of Orchard Towers.   \n",
       "1                                                                                                    Dr Paul, who performed the autopsy on said: \"There is also difference between how one reacts when he is prepared to enter the water or when it is sudden unexpected event.\"   \n",
       "2                                                                                   The Republic should leverage on technology such as virtual simulation systems to better integrate people with special needs, including students, into society, said President Halimah Yacob.   \n",
       "3  work group tasked with improving the medical watchdog's disciplinary process is looking at having sitting judge and permanent team of senior retired doctors to judge disciplinary cases, and screener who will ensure the system is not bogged down by frivolous complaints.   \n",
       "4                                          Singapore's apex court has ruled that the lottery winnings of spouse are part of couple's matrimonial assets to be shared equally, when the ticket is bought with the intention of benefiting the family instead of the winner alone.   \n",
       "\n",
       "                               Dominant Topic  \\\n",
       "0                                       Crime   \n",
       "1                                   Accidents   \n",
       "2  Education and Community (Care and Support)   \n",
       "3                                       Crime   \n",
       "4                          Housing and Living   \n",
       "\n",
       "                     Predicted Summary Topics  \n",
       "0                                       Crime  \n",
       "1  Education and Community (Care and Support)  \n",
       "2  Education and Community (Care and Support)  \n",
       "3                                       Crime  \n",
       "4                          Housing and Living  "
      ]
     },
     "execution_count": 40,
     "metadata": {},
     "output_type": "execute_result"
    }
   ],
   "source": [
    "summary_accuracy_LDA_Topic = pd.concat([eval_cos_sum,pd.DataFrame(sum_predictions_SVM)],axis=1)\n",
    "summary_accuracy_LDA_Topic.rename(columns={0:'Predicted Summary Topics'},inplace=True)\n",
    "summary_accuracy_LDA_Topic[['Article Title', 'Article Content Summary Cosine Similarity','Dominant Topic','Predicted Summary Topics']].head()"
   ]
  },
  {
   "cell_type": "code",
   "execution_count": 41,
   "metadata": {},
   "outputs": [
    {
     "data": {
      "text/plain": [
       "(0.7620288696134745, 0.7417244033872209, 0.7389012732713472, None)"
      ]
     },
     "execution_count": 41,
     "metadata": {},
     "output_type": "execute_result"
    }
   ],
   "source": [
    "import sklearn\n",
    "sklearn.metrics.precision_recall_fscore_support(summary_accuracy_LDA_Topic['Dominant Topic'],summary_accuracy_LDA_Topic['Predicted Summary Topics'],average='weighted')"
   ]
  },
  {
   "cell_type": "markdown",
   "metadata": {},
   "source": [
    "### Predicting Topic Of A Random Sentence With LDA Model"
   ]
  },
  {
   "cell_type": "code",
   "execution_count": 103,
   "metadata": {},
   "outputs": [],
   "source": [
    "#Choosing a random sentence\n",
    "\n",
    "from random import randrange\n",
    "\n",
    "summary = []\n",
    "length =[]\n",
    "for i in range(len(df)):\n",
    "    a = len(nltk.sent_tokenize(df['Article Content'][i]))\n",
    "    choose = randrange(0,a)\n",
    "    #length.append(choose)\n",
    "    summary.append(nltk.sent_tokenize(df['Article Content'][i])[choose])"
   ]
  },
  {
   "cell_type": "code",
   "execution_count": 104,
   "metadata": {},
   "outputs": [],
   "source": [
    "df['Random Summary'] = summary \n",
    "random_summary_accuracy_LDA_Topic = pd.merge(df_sup[['Article Title','Clean Contents','Dominant Topic']],df[['Article Title','Random Summary']],how='inner',on='Article Title')"
   ]
  },
  {
   "cell_type": "code",
   "execution_count": 105,
   "metadata": {},
   "outputs": [],
   "source": [
    "random_summary_accuracy_LDA_Topic['Random Summary'] = random_summary_accuracy_LDA_Topic['Random Summary'].astype(str)\n",
    "random_summary_accuracy_LDA_Topic['Random Summary'] = preprocess_content(random_summary_accuracy_LDA_Topic['Random Summary'])\n",
    "data_words_test = list(tokenize_words(random_summary_accuracy_LDA_Topic['Random Summary']))\n",
    "data_words_bigrams_test = make_bigrams(remove_stopwords(data_words_test))\n",
    "data_lemmatized_test = lemmatization(data_words_bigrams_test, allowed_postags=['NOUN', 'ADJ','VERB'])\n",
    "data_words_nostops_test = remove_stopwords(data_lemmatized_test)\n",
    "\n",
    "Article_content_clean = []\n",
    "for i in range(len(data_words_nostops_test)):\n",
    "    Article_content_clean.append(' '.join(data_words_nostops_test[i]))\n",
    "random_summary_accuracy_LDA_Topic['Clean Contents (Random)'] = Article_content_clean"
   ]
  },
  {
   "cell_type": "code",
   "execution_count": 106,
   "metadata": {},
   "outputs": [],
   "source": [
    "Train_X = df_sup['Clean Contents']\n",
    "Test_X = random_summary_accuracy_LDA_Topic['Clean Contents (Random)']\n",
    "Train_Y = df_sup['Dominant Topic']"
   ]
  },
  {
   "cell_type": "code",
   "execution_count": 107,
   "metadata": {},
   "outputs": [],
   "source": [
    "Tfidf_vect = TfidfVectorizer(lowercase=True, min_df=5,max_df=0.9)\n",
    "Tfidf_vect.fit(Train_X)\n",
    "\n",
    "Train_X_Tfidf = Tfidf_vect.transform(Train_X)\n",
    "Test_X_Tfidf = Tfidf_vect.transform(Test_X)"
   ]
  },
  {
   "cell_type": "code",
   "execution_count": 108,
   "metadata": {},
   "outputs": [],
   "source": [
    "SVM = svm.SVC(C=1.6, kernel='linear', degree=3, random_state=1)\n",
    "SVM.fit(Train_X_Tfidf,Train_Y)\n",
    "\n",
    "# predict the labels on validation dataset\n",
    "random_sum_predictions_SVM = SVM.predict(Test_X_Tfidf)"
   ]
  },
  {
   "cell_type": "code",
   "execution_count": 109,
   "metadata": {},
   "outputs": [
    {
     "data": {
      "text/plain": [
       "(0.6281910515973391, 0.5758275596612779, 0.5711125400726709, None)"
      ]
     },
     "execution_count": 109,
     "metadata": {},
     "output_type": "execute_result"
    }
   ],
   "source": [
    "import sklearn\n",
    "sklearn.metrics.precision_recall_fscore_support(random_summary_accuracy_LDA_Topic['Dominant Topic'],random_sum_predictions_SVM,average='weighted')"
   ]
  },
  {
   "cell_type": "code",
   "execution_count": 110,
   "metadata": {},
   "outputs": [],
   "source": [
    "summary_accuracy_LDA_Topic_final = pd.concat([summary_accuracy_LDA_Topic[['Article Title', 'Article Content Summary Cosine Similarity','Dominant Topic','Predicted Summary Topics']],random_summary_accuracy_LDA_Topic['Random Summary'],pd.DataFrame(random_sum_predictions_SVM)],axis=1)"
   ]
  },
  {
   "cell_type": "code",
   "execution_count": 111,
   "metadata": {
    "scrolled": true
   },
   "outputs": [
    {
     "data": {
      "text/html": [
       "<div>\n",
       "<style scoped>\n",
       "    .dataframe tbody tr th:only-of-type {\n",
       "        vertical-align: middle;\n",
       "    }\n",
       "\n",
       "    .dataframe tbody tr th {\n",
       "        vertical-align: top;\n",
       "    }\n",
       "\n",
       "    .dataframe thead th {\n",
       "        text-align: right;\n",
       "    }\n",
       "</style>\n",
       "<table border=\"1\" class=\"dataframe\">\n",
       "  <thead>\n",
       "    <tr style=\"text-align: right;\">\n",
       "      <th></th>\n",
       "      <th>Article Title</th>\n",
       "      <th>Actual Summary</th>\n",
       "      <th>Random Sentence</th>\n",
       "      <th>Dominant Topic of Article Content</th>\n",
       "      <th>Predicted Summary Topics (Actual)</th>\n",
       "      <th>Predicted Summary Topics (Random)</th>\n",
       "    </tr>\n",
       "  </thead>\n",
       "  <tbody>\n",
       "    <tr>\n",
       "      <th>0</th>\n",
       "      <td>Malaysian drug suspect arrested at Shenton Way junction after attempting hasty getaway on motorbike</td>\n",
       "      <td>Malaysian suspect was arrested at the junction of Shenton Way and Maxwell Road last Thursday after he allegedly disposed of plastic bag containing 336g of Ice at carpark in the vicinity of Orchard Towers.</td>\n",
       "      <td>Some 192 suspected drug offenders were arrested as part of the operation, which covered areas including Bedok, Bukit Merah, Choa Chu Kang, Hougang, Sembawang, Tampines, Telok Blangah and Yishun.</td>\n",
       "      <td>Crime</td>\n",
       "      <td>Crime</td>\n",
       "      <td>Crime</td>\n",
       "    </tr>\n",
       "    <tr>\n",
       "      <th>1</th>\n",
       "      <td>SCDF ragging death: Being submerged in dark, confined well could be dangerous even for a swimmer, says expert</td>\n",
       "      <td>Dr Paul, who performed the autopsy on said: \"There is also difference between how one reacts when he is prepared to enter the water or when it is sudden unexpected event.\"</td>\n",
       "      <td>Forensic pathologist George Paul was pointing this out as he testified on Friday in the ongoing trial of two commanders of the Singapore Civil Defence Force linked with the drowning of full-time national serviceman which happened during ragging incident.</td>\n",
       "      <td>Accidents</td>\n",
       "      <td>Education and Community (Care and Support)</td>\n",
       "      <td>Accidents</td>\n",
       "    </tr>\n",
       "    <tr>\n",
       "      <th>2</th>\n",
       "      <td>Use technology to help people with special needs integrate as part of Smart Nation push: President Halimah</td>\n",
       "      <td>The Republic should leverage on technology such as virtual simulation systems to better integrate people with special needs, including students, into society, said President Halimah Yacob.</td>\n",
       "      <td>Her comments follow courtesy call by Prince Daniel, member of Sweden's royal family, on Wednesday.</td>\n",
       "      <td>Education and Community (Care and Support)</td>\n",
       "      <td>Education and Community (Care and Support)</td>\n",
       "      <td>Crime</td>\n",
       "    </tr>\n",
       "    <tr>\n",
       "      <th>3</th>\n",
       "      <td>Work group's report aims to make medical disciplinary process fairer and faster</td>\n",
       "      <td>work group tasked with improving the medical watchdog's disciplinary process is looking at having sitting judge and permanent team of senior retired doctors to judge disciplinary cases, and screener who will ensure the system is not bogged down by frivolous complaints.</td>\n",
       "      <td>The work group has met more than 1,000 doctors from seven other private hospitals and the three public clusters and plans to talk to others like patient advocacy groups and medical specialist chapters in the Academy of Medicine before drafting their report, due to be out before the end of the year.</td>\n",
       "      <td>Crime</td>\n",
       "      <td>Crime</td>\n",
       "      <td>Education and Community (Care and Support)</td>\n",
       "    </tr>\n",
       "    <tr>\n",
       "      <th>4</th>\n",
       "      <td>$1.25m 4-D win: Wife has equal share in husband's prize money, rules apex court</td>\n",
       "      <td>Singapore's apex court has ruled that the lottery winnings of spouse are part of couple's matrimonial assets to be shared equally, when the ticket is bought with the intention of benefiting the family instead of the winner alone.</td>\n",
       "      <td>After their divorce, the High Court allotted the man 58 of the matrimonial assets worth $9.3 million, and the woman, 42 The wife filed an appeal and her lawyers Linda Ong and Lim Xiao Wei argued that given the \"fortuitous nature\" of lottery win, the contributions towards the purchase of the matrimonial home from the prize money should be apportioned equally between the husband and wife, and not solely to the man.</td>\n",
       "      <td>Housing and Living</td>\n",
       "      <td>Housing and Living</td>\n",
       "      <td>Crime</td>\n",
       "    </tr>\n",
       "  </tbody>\n",
       "</table>\n",
       "</div>"
      ],
      "text/plain": [
       "                                                                                                    Article Title  \\\n",
       "0             Malaysian drug suspect arrested at Shenton Way junction after attempting hasty getaway on motorbike   \n",
       "1   SCDF ragging death: Being submerged in dark, confined well could be dangerous even for a swimmer, says expert   \n",
       "2      Use technology to help people with special needs integrate as part of Smart Nation push: President Halimah   \n",
       "3                                 Work group's report aims to make medical disciplinary process fairer and faster   \n",
       "4                                 $1.25m 4-D win: Wife has equal share in husband's prize money, rules apex court   \n",
       "\n",
       "                                                                                                                                                                                                                                                                  Actual Summary  \\\n",
       "0                                                                   Malaysian suspect was arrested at the junction of Shenton Way and Maxwell Road last Thursday after he allegedly disposed of plastic bag containing 336g of Ice at carpark in the vicinity of Orchard Towers.   \n",
       "1                                                                                                    Dr Paul, who performed the autopsy on said: \"There is also difference between how one reacts when he is prepared to enter the water or when it is sudden unexpected event.\"   \n",
       "2                                                                                   The Republic should leverage on technology such as virtual simulation systems to better integrate people with special needs, including students, into society, said President Halimah Yacob.   \n",
       "3  work group tasked with improving the medical watchdog's disciplinary process is looking at having sitting judge and permanent team of senior retired doctors to judge disciplinary cases, and screener who will ensure the system is not bogged down by frivolous complaints.   \n",
       "4                                          Singapore's apex court has ruled that the lottery winnings of spouse are part of couple's matrimonial assets to be shared equally, when the ticket is bought with the intention of benefiting the family instead of the winner alone.   \n",
       "\n",
       "                                                                                                                                                                                                                                                                                                                                                                                                                    Random Sentence  \\\n",
       "0                                                                                                                                                                                                                                Some 192 suspected drug offenders were arrested as part of the operation, which covered areas including Bedok, Bukit Merah, Choa Chu Kang, Hougang, Sembawang, Tampines, Telok Blangah and Yishun.   \n",
       "1                                                                                                                                                                    Forensic pathologist George Paul was pointing this out as he testified on Friday in the ongoing trial of two commanders of the Singapore Civil Defence Force linked with the drowning of full-time national serviceman which happened during ragging incident.   \n",
       "2                                                                                                                                                                                                                                                                                                                                Her comments follow courtesy call by Prince Daniel, member of Sweden's royal family, on Wednesday.   \n",
       "3                                                                                                                       The work group has met more than 1,000 doctors from seven other private hospitals and the three public clusters and plans to talk to others like patient advocacy groups and medical specialist chapters in the Academy of Medicine before drafting their report, due to be out before the end of the year.   \n",
       "4  After their divorce, the High Court allotted the man 58 of the matrimonial assets worth $9.3 million, and the woman, 42 The wife filed an appeal and her lawyers Linda Ong and Lim Xiao Wei argued that given the \"fortuitous nature\" of lottery win, the contributions towards the purchase of the matrimonial home from the prize money should be apportioned equally between the husband and wife, and not solely to the man.   \n",
       "\n",
       "            Dominant Topic of Article Content  \\\n",
       "0                                       Crime   \n",
       "1                                   Accidents   \n",
       "2  Education and Community (Care and Support)   \n",
       "3                                       Crime   \n",
       "4                          Housing and Living   \n",
       "\n",
       "            Predicted Summary Topics (Actual)  \\\n",
       "0                                       Crime   \n",
       "1  Education and Community (Care and Support)   \n",
       "2  Education and Community (Care and Support)   \n",
       "3                                       Crime   \n",
       "4                          Housing and Living   \n",
       "\n",
       "            Predicted Summary Topics (Random)  \n",
       "0                                       Crime  \n",
       "1                                   Accidents  \n",
       "2                                       Crime  \n",
       "3  Education and Community (Care and Support)  \n",
       "4                                       Crime  "
      ]
     },
     "execution_count": 111,
     "metadata": {},
     "output_type": "execute_result"
    }
   ],
   "source": [
    "summary_accuracy_LDA_Topic_final.rename(columns={'Article Content Summary Cosine Similarity':'Actual Summary','Dominant Topic':'Dominant Topic of Article Content','Predicted Summary Topics':'Predicted Summary Topics (Actual)', 'Random Summary':'Random Sentence',0:'Predicted Summary Topics (Random)'},inplace=True)\n",
    "summary_accuracy_LDA_Topic_final[['Article Title', 'Actual Summary','Random Sentence','Dominant Topic of Article Content','Predicted Summary Topics (Actual)', 'Predicted Summary Topics (Random)']].head()"
   ]
  }
 ],
 "metadata": {
  "kernelspec": {
   "display_name": "Python 3",
   "language": "python",
   "name": "python3"
  },
  "language_info": {
   "codemirror_mode": {
    "name": "ipython",
    "version": 3
   },
   "file_extension": ".py",
   "mimetype": "text/x-python",
   "name": "python",
   "nbconvert_exporter": "python",
   "pygments_lexer": "ipython3",
   "version": "3.7.5"
  }
 },
 "nbformat": 4,
 "nbformat_minor": 2
}
